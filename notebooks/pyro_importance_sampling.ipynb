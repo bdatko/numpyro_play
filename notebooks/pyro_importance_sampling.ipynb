{
 "cells": [
  {
   "cell_type": "markdown",
   "metadata": {},
   "source": [
    "# Purpose\n",
    "* porting the [importance sampling from pyro](https://pyro.ai/examples/inclined_plane.html) to numpyro\n",
    "* pyro importance sampling with a cpuonly PyTorch took forever\n",
    "\n",
    "*Copyright (c) 2017-2019 Uber Technologies, Inc.*\n",
    "*SPDX-License-Identifier: Apache-2.0*"
   ]
  },
  {
   "cell_type": "code",
   "execution_count": null,
   "metadata": {},
   "outputs": [],
   "source": [
    "import numpy as np\n",
    "import jax\n",
    "from jax import jit, lax\n",
    "import jax.numpy as jnp\n",
    "import pandas as pd\n",
    "import matplotlib.pyplot as plt\n",
    "import arviz as az\n",
    "\n",
    "import numpyro\n",
    "from numpyro.distributions import Normal, Uniform, LogNormal, Gamma\n",
    "from numpyro.infer import MCMC, NUTS"
   ]
  },
  {
   "cell_type": "code",
   "execution_count": null,
   "metadata": {},
   "outputs": [],
   "source": [
    "key = jax.random.PRNGKey(2)\n",
    "key"
   ]
  },
  {
   "cell_type": "markdown",
   "metadata": {},
   "source": [
    "**Problem Story** - Samantha really likes physics---but she likes Pyro even more. Instead of using\n",
    "calculus to do her physics lab homework (which she could easily do), she's going\n",
    "to use bayesian inference. The problem setup is as follows. In lab she observed\n",
    "a little box slide down an inclined plane (length of 2 meters and with an incline of\n",
    "30 degrees) 20 times. Each time she measured and recorded the descent time. The timing\n",
    "device she used has a known measurement error of 20 milliseconds. Using the observed\n",
    "data, she wants to infer the coefficient of friction $\\mu$ between the box and the inclined\n",
    "plane. She already has (deterministic) python code that can simulate the amount of time\n",
    "that it takes the little box to slide down the inclined plane as a function of $\\mu$. Using\n",
    "Pyro, she can reverse the simulator and infer $\\mu$ from the observed descent times.\n",
    "\n",
    "| ![ppl_inference](https://bookdown.org/robertness/causalml/docs/fig/inference.png) |\n",
    "|:--:|\n",
    "| **Fig. 1.** The original source of the image is from [Kevin Smith - tutorial: Probabilistic Programming](https://youtu.be/9SEIYh5BCjc?t=894), but the link is from [Robert Ness's Lecture Notes for Causality in Machine Learning](https://bookdown.org/robertness/causalml/docs/tutorial-on-deep-probabilitic-modeling-with-pyro.html)|"
   ]
  },
  {
   "cell_type": "code",
   "execution_count": null,
   "metadata": {},
   "outputs": [],
   "source": [
    "little_g = 9.8  # m/s/s\n",
    "mu0 = 0.12  # actual coefficient of friction in the experiment\n",
    "time_measurement_sigma = 0.02  # observation noise in seconds (known quantity)"
   ]
  },
  {
   "cell_type": "markdown",
   "metadata": {},
   "source": [
    "**Simulator** - the forward simulator, which does numerical integration of the equations of motion in steps of size dt, and optionally includes measurement noise"
   ]
  },
  {
   "cell_type": "code",
   "execution_count": null,
   "metadata": {},
   "outputs": [],
   "source": [
    "def _body(info):\n",
    "    displacement, length, velocity, dt, acceleration, T = info\n",
    "    displacement += velocity * dt\n",
    "    velocity += acceleration * dt\n",
    "    T += dt\n",
    "    \n",
    "    return displacement, length, velocity, dt, acceleration, T\n",
    "\n",
    "def _conf(info):\n",
    "    displacement, length, _, _, _, _ = info\n",
    "    return displacement < length\n",
    "\n",
    "def slide(displacement, length, velocity, dt, acceleration, T):\n",
    "    info = (displacement, length, velocity, dt, acceleration, T)\n",
    "    res = lax.while_loop(_conf, _body, info)\n",
    "    return res[-1]\n",
    "\n",
    "# length=2.0, phi=jnp.pi / 6.0, dt=0.005\n",
    "@jit\n",
    "def jax_simulate(mu, key, noise_sigma, length, phi, dt):\n",
    "    T = jnp.zeros(())\n",
    "    velocity = jnp.zeros(())\n",
    "    displacement = jnp.zeros(())\n",
    "    acceleration = (little_g * jnp.sin(phi)) - (little_g * jnp.cos(phi)) * mu\n",
    "    \n",
    "    T = slide(displacement, length, velocity, dt, acceleration, T)\n",
    "\n",
    "    return T + noise_sigma * jax.random.normal(key, ())"
   ]
  },
  {
   "cell_type": "code",
   "execution_count": null,
   "metadata": {},
   "outputs": [],
   "source": [
    "print(\"First call: \", jax_simulate(mu0, key, time_measurement_sigma, 2.0, jnp.pi / 6.0, 0.005))\n",
    "print (\"Second call: \", jax_simulate(0.14, key, time_measurement_sigma, 2.0, jnp.pi / 6.0, 0.005))\n",
    "print (\"Third call, different type: \", jax_simulate(0, key, time_measurement_sigma, 2.0, jnp.pi / 6.0, 0.005))"
   ]
  },
  {
   "cell_type": "code",
   "execution_count": null,
   "metadata": {},
   "outputs": [],
   "source": [
    "# analytic formula that the simulator above is computing via\n",
    "# numerical integration (no measurement noise)\n",
    "@jax.jit\n",
    "def analytic_T(mu, length=2.0, phi=jnp.pi / 6.0):\n",
    "    numerator = 2.0 * length\n",
    "    denominator = little_g * (jnp.sin(phi) - mu * jnp.cos(phi))\n",
    "    return jnp.sqrt(numerator / denominator)"
   ]
  },
  {
   "cell_type": "code",
   "execution_count": null,
   "metadata": {},
   "outputs": [],
   "source": [
    "# generate N_obs observations using simulator and the true coefficient of friction mu0\n",
    "print(\"generating simulated data using the true coefficient of friction %.3f\" % mu0)\n",
    "N_obs = 20"
   ]
  },
  {
   "cell_type": "code",
   "execution_count": null,
   "metadata": {},
   "outputs": [],
   "source": [
    "keys = jax.random.split(key, N_obs)"
   ]
  },
  {
   "cell_type": "code",
   "execution_count": null,
   "metadata": {},
   "outputs": [],
   "source": [
    "observed_data = jnp.array([jax_simulate(mu0, key, time_measurement_sigma, 2.0, jnp.pi / 6.0, 0.005) for key in keys])\n",
    "observed_mean = jnp.mean(observed_data)\n",
    "observed_mean"
   ]
  },
  {
   "cell_type": "code",
   "execution_count": null,
   "metadata": {},
   "outputs": [],
   "source": [
    "w = lambda info: jax.lax.while_loop(_conf, _body, info)"
   ]
  },
  {
   "cell_type": "code",
   "execution_count": null,
   "metadata": {},
   "outputs": [],
   "source": [
    "def numpyro_model(observed_data, measurment_sigma):\n",
    "    length = 2.0\n",
    "    phi = jnp.pi / 6.0\n",
    "    dt = 0.005\n",
    "    mu = numpyro.sample(\"mu\", Uniform(0.0, 1.0))\n",
    "    \n",
    "    with numpyro.plate(\"data_loop\", len(observed_data)):\n",
    "        T = jnp.zeros(())\n",
    "        velocity = jnp.zeros(())\n",
    "        displacement = jnp.zeros(())\n",
    "        acceleration = (little_g * jnp.sin(phi)) - (little_g * jnp.cos(phi)) * mu\n",
    "        info = (displacement, length, velocity, dt, acceleration, T)\n",
    "        res = jax.lax.cond(acceleration <= 0, info, lambda _: (0.,0.,0.,0.,0.,1.0e5), info, w)\n",
    "        T_simulated = res[-1]\n",
    "        numpyro.sample(\"obs\", Normal(T_simulated, measurment_sigma), obs=observed_data)\n",
    "        \n",
    "    return mu"
   ]
  },
  {
   "cell_type": "code",
   "execution_count": null,
   "metadata": {},
   "outputs": [],
   "source": [
    "numpyro.render_model(numpyro_model, model_args=(observed_data,time_measurement_sigma), render_distributions=True)"
   ]
  },
  {
   "cell_type": "code",
   "execution_count": null,
   "metadata": {},
   "outputs": [],
   "source": [
    "nuts_kernel = NUTS(numpyro_model,forward_mode_differentiation=True)"
   ]
  },
  {
   "cell_type": "code",
   "execution_count": null,
   "metadata": {},
   "outputs": [],
   "source": [
    "mcmc = MCMC(nuts_kernel, num_warmup=500, num_samples=1000, num_chains=1, chain_method='parallel', progress_bar=True)"
   ]
  },
  {
   "cell_type": "code",
   "execution_count": null,
   "metadata": {},
   "outputs": [],
   "source": [
    "mcmc.run(key, observed_data, time_measurement_sigma, extra_fields=('potential_energy',))"
   ]
  },
  {
   "cell_type": "code",
   "execution_count": null,
   "metadata": {},
   "outputs": [],
   "source": [
    "mcmc.print_summary()"
   ]
  },
  {
   "cell_type": "code",
   "execution_count": null,
   "metadata": {},
   "outputs": [],
   "source": [
    "ds = az.from_numpyro(mcmc)"
   ]
  },
  {
   "cell_type": "code",
   "execution_count": null,
   "metadata": {},
   "outputs": [],
   "source": [
    "inferred_mu = ds.posterior[\"mu\"].mean().item()\n",
    "inferred_mu_uncertainty = ds.posterior[\"mu\"].std().item()\n",
    "print(\"the coefficient of friction inferred by pyro is %.3f +- %.3f\" %\n",
    "          (inferred_mu, inferred_mu_uncertainty))"
   ]
  },
  {
   "cell_type": "code",
   "execution_count": null,
   "metadata": {},
   "outputs": [],
   "source": [
    "print(\"the mean observed descent time in the dataset is: %.4f seconds\" % observed_mean)\n",
    "print(\"the (forward) simulated descent time for the inferred (mean) mu is: %.4f seconds\" %\n",
    "          jax.jit(jax_simulate)(inferred_mu, key, 0., 2.0, jnp.pi / 6.0, 0.005))\n",
    "print((\"disregarding measurement noise, elementary calculus gives the descent time\\n\" +\n",
    "           \"for the inferred (mean) mu as: %.4f seconds\") % analytic_T(inferred_mu))"
   ]
  },
  {
   "cell_type": "code",
   "execution_count": null,
   "metadata": {},
   "outputs": [],
   "source": [
    "az.plot_density(ds.posterior, var_names=[\"mu\"])"
   ]
  },
  {
   "cell_type": "code",
   "execution_count": null,
   "metadata": {},
   "outputs": [],
   "source": [
    "az.plot_trace(ds)\n",
    "plt.show()"
   ]
  },
  {
   "cell_type": "code",
   "execution_count": null,
   "metadata": {},
   "outputs": [],
   "source": [
    "az.plot_rank(ds)\n",
    "plt.show()"
   ]
  },
  {
   "cell_type": "markdown",
   "metadata": {},
   "source": [
    "**Prior**\n",
    "\n",
    "From [Wikipedia on PTFE](https://en.wikipedia.org/wiki/Polytetrafluoroethylene):\n",
    "*The coefficient of friction of plastics is usually measured against polished steel.[24] PTFE's coefficient of friction is **0.05 to 0.10**,[15] which is the **third-lowest of any known solid material** (aluminium magnesium boride (BAM) being the first, with a coefficient of friction of 0.02; diamond-like carbon being second-lowest at 0.05)*\n",
    "\n",
    "Also largets value from the table for both static and sliding is **1.4 for Ag** and **3.0 for Pt**, respectfully [Wikipedia on Friction](https://en.wikipedia.org/wiki/Friction)\n",
    "\n",
    "I guess the school's physics lab could be doing the experiment with tracks made of Pt or Ag.... but I highly doubt"
   ]
  },
  {
   "cell_type": "code",
   "execution_count": null,
   "metadata": {},
   "outputs": [],
   "source": [
    "b = Gamma(2, 2).sample(jax.random.PRNGKey(12), (int(1e4),))\n",
    "az.plot_kde(b)\n",
    "plt.show()"
   ]
  },
  {
   "cell_type": "code",
   "execution_count": null,
   "metadata": {},
   "outputs": [],
   "source": [
    "def numpyro_model(observed_data, measurment_sigma):\n",
    "    length = 2.0\n",
    "    phi = jnp.pi / 6.0\n",
    "    dt = 0.005\n",
    "    mu = numpyro.sample(\"mu\", Gamma(2, 2))\n",
    "    \n",
    "    with numpyro.plate(\"data_loop\", len(observed_data)):\n",
    "        T = jnp.zeros(())\n",
    "        velocity = jnp.zeros(())\n",
    "        displacement = jnp.zeros(())\n",
    "        acceleration = (little_g * jnp.sin(phi)) - (little_g * jnp.cos(phi)) * mu\n",
    "        info = (displacement, length, velocity, dt, acceleration, T)\n",
    "        res = jax.lax.cond(acceleration <= 0, info, lambda _: (0.,0.,0.,0.,0.,1.0e5), info, w)\n",
    "        T_simulated = res[-1]\n",
    "        numpyro.sample(\"obs\", Normal(T_simulated, measurment_sigma), obs=observed_data)\n",
    "        \n",
    "    return mu\n",
    "\n",
    "nuts_kernel = NUTS(numpyro_model,forward_mode_differentiation=True)\n",
    "mcmc = MCMC(nuts_kernel, num_warmup=500, num_samples=1000, num_chains=1, chain_method='parallel', progress_bar=True)\n",
    "mcmc.run(key, observed_data, time_measurement_sigma, extra_fields=('potential_energy',))\n",
    "ds = az.from_numpyro(mcmc)\n",
    "inferred_mu = ds.posterior[\"mu\"].mean().item()\n",
    "inferred_mu_uncertainty = ds.posterior[\"mu\"].std().item()\n",
    "print(\"the coefficient of friction inferred by pyro is %.3f +- %.3f\" %\n",
    "          (inferred_mu, inferred_mu_uncertainty))\n",
    "print(\"the mean observed descent time in the dataset is: %.4f seconds\" % observed_mean)\n",
    "print(\"the (forward) simulated descent time for the inferred (mean) mu is: %.4f seconds\" %\n",
    "          jax.jit(jax_simulate)(inferred_mu, key, 0., 2.0, jnp.pi / 6.0, 0.005))\n",
    "print((\"disregarding measurement noise, elementary calculus gives the descent time\\n\" +\n",
    "           \"for the inferred (mean) mu as: %.4f seconds\") % analytic_T(inferred_mu))\n",
    "mcmc.print_summary()"
   ]
  },
  {
   "cell_type": "code",
   "execution_count": null,
   "metadata": {},
   "outputs": [],
   "source": [
    "az.plot_trace(ds)\n",
    "plt.show()"
   ]
  },
  {
   "cell_type": "code",
   "execution_count": null,
   "metadata": {},
   "outputs": [],
   "source": [
    "az.plot_rank(ds)\n",
    "plt.show()"
   ]
  },
  {
   "cell_type": "code",
   "execution_count": null,
   "metadata": {},
   "outputs": [],
   "source": []
  }
 ],
 "metadata": {
  "jupytext": {
   "formats": "ipynb,py"
  },
  "kernelspec": {
   "display_name": "Python [conda env:numpyro_play]",
   "language": "python",
   "name": "conda-env-numpyro_play-py"
  },
  "language_info": {
   "codemirror_mode": {
    "name": "ipython",
    "version": 3
   },
   "file_extension": ".py",
   "mimetype": "text/x-python",
   "name": "python",
   "nbconvert_exporter": "python",
   "pygments_lexer": "ipython3",
   "version": "3.8.10"
  }
 },
 "nbformat": 4,
 "nbformat_minor": 4
}
