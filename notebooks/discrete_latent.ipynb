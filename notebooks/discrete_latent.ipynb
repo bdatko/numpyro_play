{
 "cells": [
  {
   "cell_type": "markdown",
   "id": "81a74675-c0c5-45cc-9c80-7a9359c4e19f",
   "metadata": {},
   "source": [
    "# Purpose\n",
    "* playing around with `infer_discrete`\n",
    "* The example below show itreations based on the discussion on the [Pyro forum](https://forum.pyro.ai/t/mcmc-get-samples-returns-empty-dict/3086)\n",
    "* If you need sometihng similar look at [`Predictive`](http://num.pyro.ai/en/latest/utilities.html#predictive) and [Example: Bayesian Models of Annotation](http://num.pyro.ai/en/latest/examples/annotation.html) from [Support infer_discrete for Predictive (#1086) ](https://github.com/pyro-ppl/numpyro/commit/003424bb3c57e44b433991cc73ddbb557bf31f3c)"
   ]
  },
  {
   "cell_type": "code",
   "execution_count": 1,
   "id": "817abb80-8166-42ee-a0fb-15dcd4be4838",
   "metadata": {},
   "outputs": [],
   "source": [
    "import jax\n",
    "import jax.numpy as jnp\n",
    "import numpyro\n",
    "from numpyro.contrib.funsor import config_enumerate, infer_discrete\n",
    "import numpyro.distributions as dist\n",
    "from numpyro.infer.util import Predictive\n",
    "import pandas as pd\n",
    "from numpyro.infer import MCMC, NUTS, DiscreteHMCGibbs"
   ]
  },
  {
   "cell_type": "code",
   "execution_count": 2,
   "id": "1cdb5c81-a5f1-4698-85e3-f27dbe5710dc",
   "metadata": {},
   "outputs": [],
   "source": [
    "%matplotlib inline\n",
    "%reload_ext autoreload\n",
    "%autoreload 2\n",
    "%load_ext watermark"
   ]
  },
  {
   "cell_type": "code",
   "execution_count": 3,
   "id": "b34334e3-ca32-47ab-8b8a-3f569c4b0e85",
   "metadata": {},
   "outputs": [
    {
     "name": "stdout",
     "output_type": "stream",
     "text": [
      "Python implementation: CPython\n",
      "Python version       : 3.8.11\n",
      "IPython version      : 7.18.1\n",
      "\n",
      "jax    : 0.2.19\n",
      "numpy  : 1.20.3\n",
      "pandas : 1.3.2\n",
      "numpyro: 0.7.2\n",
      "\n",
      "Compiler    : GCC 7.5.0\n",
      "OS          : Linux\n",
      "Release     : 4.19.193-1-MANJARO\n",
      "Machine     : x86_64\n",
      "Processor   : \n",
      "CPU cores   : 4\n",
      "Architecture: 64bit\n",
      "\n"
     ]
    }
   ],
   "source": [
    "%watermark -v -m -p jax,numpy,pandas,numpyro"
   ]
  },
  {
   "cell_type": "code",
   "execution_count": 4,
   "id": "2e0c7ca3-e2ac-4a58-8852-2a94078da3cf",
   "metadata": {},
   "outputs": [
    {
     "name": "stdout",
     "output_type": "stream",
     "text": [
      "Git hash: 472176c9c68598205edff7afdce8a21355406f60\n",
      "\n",
      "Git branch: master\n",
      "\n"
     ]
    }
   ],
   "source": [
    "%watermark -gb"
   ]
  },
  {
   "cell_type": "code",
   "execution_count": 5,
   "id": "855e8cfd-f79c-4975-8b63-7464b26854ab",
   "metadata": {},
   "outputs": [],
   "source": [
    "num_samples = 1000\n",
    "num_warmup = 1000\n",
    "num_chains = 4"
   ]
  },
  {
   "cell_type": "markdown",
   "id": "885d0942-17a2-471f-b70a-426b7a1411e2",
   "metadata": {},
   "source": [
    "## DiscreteHMCGibbs"
   ]
  },
  {
   "cell_type": "code",
   "execution_count": 6,
   "id": "d8dc8ae4-73c4-4d76-a226-585fb13df80a",
   "metadata": {},
   "outputs": [
    {
     "name": "stderr",
     "output_type": "stream",
     "text": [
      "/home/benda/anaconda3/envs/numpyro_play/lib/python3.8/site-packages/numpyro/infer/mcmc.py:269: UserWarning: There are not enough devices to run parallel chains: expected 4 but got 1. Chains will be drawn sequentially. If you are running MCMC in CPU, consider using `numpyro.set_host_device_count(4)` at the beginning of your program. You can double-check how many devices are available in your system using `jax.local_device_count()`.\n",
      "  warnings.warn(\n",
      "sample: 100%|██████████| 2000/2000 [00:03<00:00, 558.63it/s, 1 steps of size 3.40e+38. acc. prob=1.00] \n",
      "sample: 100%|██████████| 2000/2000 [00:00<00:00, 6269.45it/s, 1 steps of size 3.40e+38. acc. prob=1.00]\n",
      "sample: 100%|██████████| 2000/2000 [00:00<00:00, 6598.84it/s, 1 steps of size 3.40e+38. acc. prob=1.00]\n",
      "sample: 100%|██████████| 2000/2000 [00:00<00:00, 5979.06it/s, 1 steps of size 3.40e+38. acc. prob=1.00]\n"
     ]
    },
    {
     "name": "stdout",
     "output_type": "stream",
     "text": [
      "\n",
      "                mean       std    median      5.0%     95.0%     n_eff     r_hat\n",
      "  murderer      0.34      0.48      0.00      0.00      1.00  12998.62      1.00\n",
      "\n",
      "weapon      0.0\n",
      "murderer       \n",
      "0         0.327\n",
      "1         0.673\n"
     ]
    }
   ],
   "source": [
    "key = jax.random.PRNGKey(2)\n",
    "\n",
    "guess = 0.7\n",
    "\n",
    "\n",
    "def mystery(guess):\n",
    "    weapon_cpt = jnp.array([[0.9, 0.1], [0.2, 0.8]])\n",
    "    murderer = numpyro.sample(\"murderer\", dist.Bernoulli(guess))\n",
    "    weapon = numpyro.sample(\"weapon\", dist.Categorical(weapon_cpt[murderer]))\n",
    "    return murderer, weapon\n",
    "\n",
    "\n",
    "conditioned_model = numpyro.handlers.condition(mystery, {\"weapon\": 0.0})\n",
    "\n",
    "nuts_kernel = NUTS(conditioned_model)\n",
    "\n",
    "kernel = DiscreteHMCGibbs(nuts_kernel, modified=True)\n",
    "\n",
    "mcmc = MCMC(kernel, num_warmup=num_warmup, num_samples=num_samples, num_chains=num_chains)\n",
    "mcmc.run(key, guess)\n",
    "\n",
    "mcmc.print_summary()\n",
    "\n",
    "with numpyro.handlers.seed(rng_seed=0):\n",
    "    samples = []\n",
    "    for _ in range(1000):\n",
    "        samples.append(\n",
    "            tuple(\n",
    "                [\n",
    "                    sample.item() if hasattr(sample, \"item\") else sample\n",
    "                    for sample in conditioned_model(guess)\n",
    "                ]\n",
    "            )\n",
    "        )\n",
    "\n",
    "samples = pd.DataFrame(samples, columns=[\"murderer\", \"weapon\"])\n",
    "\n",
    "print(pd.crosstab(samples.murderer, samples.weapon, normalize=\"all\"))"
   ]
  },
  {
   "cell_type": "markdown",
   "id": "81327d44-bbc4-42e3-b41b-01c47f133f36",
   "metadata": {},
   "source": [
    "## `infer_discrete`"
   ]
  },
  {
   "cell_type": "code",
   "execution_count": 7,
   "id": "cf07b7e3-8df1-404a-be68-fce60e819f33",
   "metadata": {},
   "outputs": [],
   "source": [
    "num_samples = 1000\n",
    "num_warmup = 1000\n",
    "num_chains = 4"
   ]
  },
  {
   "cell_type": "code",
   "execution_count": 8,
   "id": "3fb4a9ae-d0f4-4a5d-a38d-4480ea559f1d",
   "metadata": {},
   "outputs": [],
   "source": [
    "# caution: `*data` within infer_discrete_model is a global variable\n",
    "def infer_discrete_model(rng_key, samples):\n",
    "    conditioned_model = numpyro.handlers.condition(model, data=samples)\n",
    "    infer_discrete_model = infer_discrete(\n",
    "        config_enumerate(conditioned_model), rng_key=rng_key\n",
    "    )\n",
    "    with numpyro.handlers.trace() as tr:\n",
    "        infer_discrete_model(*data)\n",
    "\n",
    "    return {\n",
    "        name: site[\"value\"]\n",
    "        for name, site in tr.items()\n",
    "        if site[\"type\"] == \"sample\" and site[\"infer\"].get(\"enumerate\") == \"parallel\"\n",
    "    }"
   ]
  },
  {
   "cell_type": "code",
   "execution_count": 9,
   "id": "e06d3898-ff1b-4316-9f46-f7ddad6a3ca1",
   "metadata": {},
   "outputs": [
    {
     "name": "stderr",
     "output_type": "stream",
     "text": [
      "/home/benda/anaconda3/envs/numpyro_play/lib/python3.8/site-packages/numpyro/infer/mcmc.py:269: UserWarning: There are not enough devices to run parallel chains: expected 4 but got 1. Chains will be drawn sequentially. If you are running MCMC in CPU, consider using `numpyro.set_host_device_count(4)` at the beginning of your program. You can double-check how many devices are available in your system using `jax.local_device_count()`.\n",
      "  warnings.warn(\n",
      "sample: 100%|██████████| 2000/2000 [00:02<00:00, 916.79it/s, 1 steps of size 3.40e+38. acc. prob=1.00] \n",
      "sample: 100%|██████████| 2000/2000 [00:00<00:00, 6917.77it/s, 1 steps of size 3.40e+38. acc. prob=1.00]\n",
      "sample: 100%|██████████| 2000/2000 [00:00<00:00, 6864.45it/s, 1 steps of size 3.40e+38. acc. prob=1.00]\n",
      "sample: 100%|██████████| 2000/2000 [00:00<00:00, 6259.95it/s, 1 steps of size 3.40e+38. acc. prob=1.00]\n"
     ]
    }
   ],
   "source": [
    "def model(guess, weapon):\n",
    "    weapon_cpt = jnp.array([[0.9, 0.1], [0.2, 0.8]])\n",
    "    murderer = numpyro.sample(\"murderer\", dist.Bernoulli(guess))\n",
    "    weapon = numpyro.sample(\"weapon\", dist.Categorical(weapon_cpt[murderer]), obs=weapon)\n",
    "\n",
    "nuts_kernel = NUTS(model)\n",
    "\n",
    "data = (guess, 0.)\n",
    "\n",
    "# caution: HMC will marginalize all the discrete variables, for `model` results in an empty dict from mcmc.get_samples()\n",
    "mcmc = MCMC(nuts_kernel, num_warmup=num_warmup, num_samples=num_samples, num_chains=num_chains)\n",
    "mcmc.run(key, *data)"
   ]
  },
  {
   "cell_type": "code",
   "execution_count": 10,
   "id": "e18c3baf-ab8c-41a0-82d2-a0c04414f29f",
   "metadata": {},
   "outputs": [
    {
     "data": {
      "text/plain": [
       "{}"
      ]
     },
     "execution_count": 10,
     "metadata": {},
     "output_type": "execute_result"
    }
   ],
   "source": [
    "posterior_samples = mcmc.get_samples()\n",
    "posterior_samples"
   ]
  },
  {
   "cell_type": "code",
   "execution_count": 11,
   "id": "e53e745c-3bfc-4183-b44b-6a9bc7423365",
   "metadata": {},
   "outputs": [],
   "source": [
    "num_samples = 4000"
   ]
  },
  {
   "cell_type": "code",
   "execution_count": 12,
   "id": "36d601ef-f09a-4376-8cb1-2f6f1b5d1e6a",
   "metadata": {},
   "outputs": [],
   "source": [
    "discrete_samples = jax.vmap(infer_discrete_model)(\n",
    "    jax.random.split(jax.random.PRNGKey(1), num_samples), {}\n",
    ")"
   ]
  },
  {
   "cell_type": "code",
   "execution_count": 13,
   "id": "2375d03e-469e-43a8-8b86-6a8467a2bec6",
   "metadata": {},
   "outputs": [
    {
     "data": {
      "text/plain": [
       "(DeviceArray(0.353, dtype=float32), DeviceArray(0.47790274, dtype=float32))"
      ]
     },
     "execution_count": 13,
     "metadata": {},
     "output_type": "execute_result"
    }
   ],
   "source": [
    "discrete_samples[\"murderer\"].mean(), discrete_samples[\"murderer\"].std()"
   ]
  },
  {
   "cell_type": "markdown",
   "id": "f85973fd-f108-428d-a71f-65267482570e",
   "metadata": {},
   "source": [
    "## Using Predictive"
   ]
  },
  {
   "cell_type": "code",
   "execution_count": 14,
   "id": "e88a6a98-8ab1-4b23-805f-939a1adf4ac3",
   "metadata": {
    "lines_to_next_cell": 0
   },
   "outputs": [
    {
     "data": {
      "text/plain": [
       "(DeviceArray(0.356, dtype=float32), DeviceArray(0.47881523, dtype=float32))"
      ]
     },
     "execution_count": 14,
     "metadata": {},
     "output_type": "execute_result"
    }
   ],
   "source": [
    "key = jax.random.PRNGKey(3)\n",
    "\n",
    "guess = 0.7\n",
    "\n",
    "\n",
    "def mystery(guess):\n",
    "    weapon_cpt = jnp.array([[0.9, 0.1], [0.2, 0.8]])\n",
    "    murderer = numpyro.sample(\"murderer\", dist.Bernoulli(guess))\n",
    "    weapon = numpyro.sample(\"weapon\", dist.Categorical(weapon_cpt[murderer]))\n",
    "    return murderer, weapon\n",
    "\n",
    "\n",
    "conditioned_model = numpyro.handlers.condition(mystery, {\"weapon\": 0.0})\n",
    "\n",
    "predictive = Predictive(conditioned_model, num_samples=1000, infer_discrete=True)\n",
    "samples = predictive(key, guess)\n",
    "samples[\"murderer\"].mean(), samples[\"murderer\"].std()"
   ]
  },
  {
   "cell_type": "code",
   "execution_count": null,
   "id": "9c1ddaf7-e28d-4d7f-86ac-9e7bfb6528f7",
   "metadata": {},
   "outputs": [],
   "source": []
  }
 ],
 "metadata": {
  "jupytext": {
   "formats": "ipynb,py"
  },
  "kernelspec": {
   "display_name": "Python [conda env:numpyro_play]",
   "language": "python",
   "name": "conda-env-numpyro_play-py"
  },
  "language_info": {
   "codemirror_mode": {
    "name": "ipython",
    "version": 3
   },
   "file_extension": ".py",
   "mimetype": "text/x-python",
   "name": "python",
   "nbconvert_exporter": "python",
   "pygments_lexer": "ipython3",
   "version": "3.8.11"
  }
 },
 "nbformat": 4,
 "nbformat_minor": 5
}
