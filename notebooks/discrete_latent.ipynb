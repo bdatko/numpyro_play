{
 "cells": [
  {
   "cell_type": "markdown",
   "id": "81a74675-c0c5-45cc-9c80-7a9359c4e19f",
   "metadata": {},
   "source": [
    "# Purpose\n",
    "* playing around with `infer_discrete`"
   ]
  },
  {
   "cell_type": "code",
   "execution_count": 1,
   "id": "817abb80-8166-42ee-a0fb-15dcd4be4838",
   "metadata": {},
   "outputs": [],
   "source": [
    "import jax\n",
    "import jax.numpy as jnp\n",
    "import numpyro\n",
    "from numpyro.contrib.funsor import config_enumerate, infer_discrete\n",
    "import numpyro.distributions as dist\n",
    "import pandas as pd\n",
    "from numpyro.infer import MCMC, NUTS, DiscreteHMCGibbs"
   ]
  },
  {
   "cell_type": "code",
   "execution_count": 2,
   "id": "855e8cfd-f79c-4975-8b63-7464b26854ab",
   "metadata": {},
   "outputs": [],
   "source": [
    "num_samples = 1000\n",
    "num_warmup = 1000\n",
    "num_chains = 4"
   ]
  },
  {
   "cell_type": "markdown",
   "id": "885d0942-17a2-471f-b70a-426b7a1411e2",
   "metadata": {},
   "source": [
    "## DiscreteHMCGibbs"
   ]
  },
  {
   "cell_type": "code",
   "execution_count": 3,
   "id": "d8dc8ae4-73c4-4d76-a226-585fb13df80a",
   "metadata": {},
   "outputs": [
    {
     "name": "stderr",
     "output_type": "stream",
     "text": [
      "/home/benda/anaconda3/envs/numpyro_play/lib/python3.8/site-packages/numpyro/infer/mcmc.py:269: UserWarning: There are not enough devices to run parallel chains: expected 4 but got 1. Chains will be drawn sequentially. If you are running MCMC in CPU, consider using `numpyro.set_host_device_count(4)` at the beginning of your program. You can double-check how many devices are available in your system using `jax.local_device_count()`.\n",
      "  warnings.warn(\n",
      "sample: 100%|██████████| 2000/2000 [00:03<00:00, 619.70it/s, 1 steps of size 3.40e+38. acc. prob=1.00] \n",
      "sample: 100%|██████████| 2000/2000 [00:00<00:00, 6618.43it/s, 1 steps of size 3.40e+38. acc. prob=1.00]\n",
      "sample: 100%|██████████| 2000/2000 [00:00<00:00, 6594.09it/s, 1 steps of size 3.40e+38. acc. prob=1.00]\n",
      "sample: 100%|██████████| 2000/2000 [00:00<00:00, 6769.77it/s, 1 steps of size 3.40e+38. acc. prob=1.00]\n"
     ]
    },
    {
     "name": "stdout",
     "output_type": "stream",
     "text": [
      "\n",
      "                mean       std    median      5.0%     95.0%     n_eff     r_hat\n",
      "  murderer      0.34      0.48      0.00      0.00      1.00  12998.62      1.00\n",
      "\n",
      "weapon      0.0\n",
      "murderer       \n",
      "0         0.327\n",
      "1         0.673\n"
     ]
    }
   ],
   "source": [
    "key = jax.random.PRNGKey(2)\n",
    "\n",
    "guess = 0.7\n",
    "\n",
    "\n",
    "def mystery(guess):\n",
    "    weapon_cpt = jnp.array([[0.9, 0.1], [0.2, 0.8]])\n",
    "    murderer = numpyro.sample(\"murderer\", dist.Bernoulli(guess))\n",
    "    weapon = numpyro.sample(\"weapon\", dist.Categorical(weapon_cpt[murderer]))\n",
    "    return murderer, weapon\n",
    "\n",
    "\n",
    "conditioned_model = numpyro.handlers.condition(mystery, {\"weapon\": 0.0})\n",
    "\n",
    "nuts_kernel = NUTS(conditioned_model)\n",
    "\n",
    "kernel = DiscreteHMCGibbs(nuts_kernel, modified=True)\n",
    "\n",
    "mcmc = MCMC(kernel, num_warmup=num_warmup, num_samples=num_samples, num_chains=num_chains)\n",
    "mcmc.run(key, guess)\n",
    "\n",
    "mcmc.print_summary()\n",
    "\n",
    "with numpyro.handlers.seed(rng_seed=0):\n",
    "    samples = []\n",
    "    for _ in range(1000):\n",
    "        samples.append(\n",
    "            tuple(\n",
    "                [\n",
    "                    sample.item() if hasattr(sample, \"item\") else sample\n",
    "                    for sample in conditioned_model(guess)\n",
    "                ]\n",
    "            )\n",
    "        )\n",
    "\n",
    "samples = pd.DataFrame(samples, columns=[\"murderer\", \"weapon\"])\n",
    "\n",
    "print(pd.crosstab(samples.murderer, samples.weapon, normalize=\"all\"))"
   ]
  },
  {
   "cell_type": "markdown",
   "id": "81327d44-bbc4-42e3-b41b-01c47f133f36",
   "metadata": {},
   "source": [
    "## `infer_discrete`"
   ]
  },
  {
   "cell_type": "code",
   "execution_count": 4,
   "id": "cf07b7e3-8df1-404a-be68-fce60e819f33",
   "metadata": {},
   "outputs": [],
   "source": [
    "num_samples = 1000\n",
    "num_warmup = 1000\n",
    "num_chains = 4"
   ]
  },
  {
   "cell_type": "code",
   "execution_count": 5,
   "id": "3fb4a9ae-d0f4-4a5d-a38d-4480ea559f1d",
   "metadata": {},
   "outputs": [],
   "source": [
    "# caution: `*data` within infer_discrete_model is a global variable\n",
    "def infer_discrete_model(rng_key, samples):\n",
    "    conditioned_model = numpyro.handlers.condition(model, data=samples)\n",
    "    infer_discrete_model = infer_discrete(\n",
    "        config_enumerate(conditioned_model), rng_key=rng_key\n",
    "    )\n",
    "    with numpyro.handlers.trace() as tr:\n",
    "        infer_discrete_model(*data)\n",
    "\n",
    "    return {\n",
    "        name: site[\"value\"]\n",
    "        for name, site in tr.items()\n",
    "        if site[\"type\"] == \"sample\" and site[\"infer\"].get(\"enumerate\") == \"parallel\"\n",
    "    }"
   ]
  },
  {
   "cell_type": "code",
   "execution_count": 6,
   "id": "e06d3898-ff1b-4316-9f46-f7ddad6a3ca1",
   "metadata": {},
   "outputs": [
    {
     "name": "stderr",
     "output_type": "stream",
     "text": [
      "/home/benda/anaconda3/envs/numpyro_play/lib/python3.8/site-packages/numpyro/infer/mcmc.py:269: UserWarning: There are not enough devices to run parallel chains: expected 4 but got 1. Chains will be drawn sequentially. If you are running MCMC in CPU, consider using `numpyro.set_host_device_count(4)` at the beginning of your program. You can double-check how many devices are available in your system using `jax.local_device_count()`.\n",
      "  warnings.warn(\n",
      "sample: 100%|██████████| 2000/2000 [00:01<00:00, 1000.61it/s, 1 steps of size 3.40e+38. acc. prob=1.00]\n",
      "sample: 100%|██████████| 2000/2000 [00:00<00:00, 6671.17it/s, 1 steps of size 3.40e+38. acc. prob=1.00]\n",
      "sample: 100%|██████████| 2000/2000 [00:00<00:00, 7082.04it/s, 1 steps of size 3.40e+38. acc. prob=1.00]\n",
      "sample: 100%|██████████| 2000/2000 [00:00<00:00, 6653.30it/s, 1 steps of size 3.40e+38. acc. prob=1.00]\n"
     ]
    }
   ],
   "source": [
    "def model(guess, weapon):\n",
    "    weapon_cpt = jnp.array([[0.9, 0.1], [0.2, 0.8]])\n",
    "    murderer = numpyro.sample(\"murderer\", dist.Bernoulli(guess))\n",
    "    weapon = numpyro.sample(\"weapon\", dist.Categorical(weapon_cpt[murderer]), obs=weapon)\n",
    "\n",
    "nuts_kernel = NUTS(model)\n",
    "\n",
    "data = (guess, 0.)\n",
    "\n",
    "# caution: HMC will marginalize all the discrete variables, for `model` results in an empty dict from mcmc.get_samples()\n",
    "mcmc = MCMC(nuts_kernel, num_warmup=num_warmup, num_samples=num_samples, num_chains=num_chains)\n",
    "mcmc.run(key, *data)"
   ]
  },
  {
   "cell_type": "code",
   "execution_count": 7,
   "id": "e53e745c-3bfc-4183-b44b-6a9bc7423365",
   "metadata": {},
   "outputs": [],
   "source": [
    "num_samples = 4000"
   ]
  },
  {
   "cell_type": "code",
   "execution_count": 8,
   "id": "36d601ef-f09a-4376-8cb1-2f6f1b5d1e6a",
   "metadata": {},
   "outputs": [],
   "source": [
    "posterior_samples = mcmc.get_samples()\n",
    "discrete_samples = jax.vmap(infer_discrete_model)(\n",
    "    jax.random.split(jax.random.PRNGKey(1), num_samples), posterior_samples\n",
    ")"
   ]
  },
  {
   "cell_type": "code",
   "execution_count": 9,
   "id": "6727baca-904a-475a-b875-8f77408db741",
   "metadata": {},
   "outputs": [
    {
     "data": {
      "text/plain": [
       "{}"
      ]
     },
     "execution_count": 9,
     "metadata": {},
     "output_type": "execute_result"
    }
   ],
   "source": [
    "posterior_samples"
   ]
  },
  {
   "cell_type": "code",
   "execution_count": 10,
   "id": "2375d03e-469e-43a8-8b86-6a8467a2bec6",
   "metadata": {},
   "outputs": [
    {
     "data": {
      "text/plain": [
       "(DeviceArray(0.353, dtype=float32), DeviceArray(0.47790274, dtype=float32))"
      ]
     },
     "execution_count": 10,
     "metadata": {},
     "output_type": "execute_result"
    }
   ],
   "source": [
    "discrete_samples[\"murderer\"].mean(), discrete_samples[\"murderer\"].std()"
   ]
  },
  {
   "cell_type": "code",
   "execution_count": null,
   "id": "37459c3e-4085-451a-9701-2f6f1318b49b",
   "metadata": {},
   "outputs": [],
   "source": []
  }
 ],
 "metadata": {
  "jupytext": {
   "formats": "ipynb,py"
  },
  "kernelspec": {
   "display_name": "Python [conda env:numpyro_play]",
   "language": "python",
   "name": "conda-env-numpyro_play-py"
  },
  "language_info": {
   "codemirror_mode": {
    "name": "ipython",
    "version": 3
   },
   "file_extension": ".py",
   "mimetype": "text/x-python",
   "name": "python",
   "nbconvert_exporter": "python",
   "pygments_lexer": "ipython3",
   "version": "3.8.10"
  }
 },
 "nbformat": 4,
 "nbformat_minor": 5
}
