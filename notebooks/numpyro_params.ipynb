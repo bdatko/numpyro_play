{
 "cells": [
  {
   "cell_type": "markdown",
   "id": "6c5a8b8c-f95e-4144-a39e-38254c19a144",
   "metadata": {},
   "source": [
    "# Purpose\n",
    "- trying to guess and understand what `params` argument in various [utilities in numpyro](http://num.pyro.ai/en/stable/utilities.html)\n",
    "- looking over the docs it's not clear what params should be and the doc strings are either vague or terse IMO\n",
    "- `params` is given a doc string on the lins of :\n",
    "    * *dictionary of values for param sites of model/guide* from `Predictive`\n",
    "    * *dictionary of current parameter values keyed by site name.* from `log_density`\n",
    "    * *Dictionary of arrays keyed by names.* from `transform_fn`\n",
    "    * *dictionary of unconstrained values keyed by site names.* from `constrain_fn`\n",
    "    * *unconstrained parameters of model.* from `potential_energy`\n",
    "\n",
    "1. **log_density**\n",
    "    - signature: `log_density(model, model_args, model_kwargs, params)`\n",
    "2. **potential_energy**\n",
    "    - signature: `potential_energy(model, model_args, model_kwargs, params, enum=False)`\n",
    "3. **log_likelihood**\n",
    "    - signature: `log_likelihood(model, posterior_samples, *args, parallel=False, batch_ndims=1, **kwargs)`\n",
    "\n",
    "The odd ball above is `log_likelihood` since there isn't a `params` argument, but I *feel* like `posterior_samples` might be a good starting place. Looking over the doc strings for `params` I am also thinking about the connection between *unconstrained* term to the doc string of `z` from [HMCState](http://num.pyro.ai/en/stable/mcmc.html?highlight=hmcstate#numpyro.infer.hmc.HMCState):\n",
    "\n",
    "> `z` - Python collection representing values (unconstrained samples from the posterior) at latent sites."
   ]
  },
  {
   "cell_type": "code",
   "execution_count": 1,
   "id": "75ab3544-ab66-4c10-bf66-e01d0d055815",
   "metadata": {},
   "outputs": [],
   "source": [
    "import jax.numpy as jnp\n",
    "import numpy as np\n",
    "from jax import random\n",
    "from jax.scipy.special import logsumexp\n",
    "\n",
    "import numpyro\n",
    "import numpyro.distributions as dist\n",
    "from numpyro.distributions import constraints\n",
    "from numpyro.infer import MCMC, NUTS, SVI, Predictive, Trace_ELBO, log_likelihood\n",
    "from numpyro.infer.util import log_density, potential_energy"
   ]
  },
  {
   "cell_type": "code",
   "execution_count": 2,
   "id": "d5a24dbf-1442-4e80-a44b-08463d9d0834",
   "metadata": {},
   "outputs": [],
   "source": [
    "%matplotlib inline\n",
    "%reload_ext autoreload\n",
    "%autoreload 2\n",
    "%load_ext watermark"
   ]
  },
  {
   "cell_type": "code",
   "execution_count": 3,
   "id": "f61b39c9-4734-4720-b815-38b0c83b73be",
   "metadata": {},
   "outputs": [
    {
     "name": "stdout",
     "output_type": "stream",
     "text": [
      "Python implementation: CPython\n",
      "Python version       : 3.8.11\n",
      "IPython version      : 7.18.1\n",
      "\n",
      "jax    : 0.2.19\n",
      "numpy  : 1.20.3\n",
      "numpyro: 0.7.2\n",
      "\n",
      "Compiler    : GCC 7.5.0\n",
      "OS          : Linux\n",
      "Release     : 4.19.193-1-MANJARO\n",
      "Machine     : x86_64\n",
      "Processor   : \n",
      "CPU cores   : 4\n",
      "Architecture: 64bit\n",
      "\n"
     ]
    }
   ],
   "source": [
    "%watermark -v -m -p jax,numpy,numpyro"
   ]
  },
  {
   "cell_type": "code",
   "execution_count": 4,
   "id": "4172d792-5626-44d4-9f79-5294409ecbb5",
   "metadata": {},
   "outputs": [
    {
     "name": "stdout",
     "output_type": "stream",
     "text": [
      "Git hash: 97bdb55fe63d11c591b14b805e86549f87467073\n",
      "\n",
      "Git branch: master\n",
      "\n"
     ]
    }
   ],
   "source": [
    "%watermark -gb"
   ]
  },
  {
   "cell_type": "markdown",
   "id": "c17882c5-1672-4f2e-a694-24c3c688390f",
   "metadata": {},
   "source": [
    "### Example of `params`\n",
    "* a simple example is from [Stochastic Variational Inference (SVI)](http://num.pyro.ai/en/stable/svi.html?highlight=ELBO#stochastic-variational-inference-svi) doc example"
   ]
  },
  {
   "cell_type": "code",
   "execution_count": 5,
   "id": "60c67bba-341c-4c7b-9288-929c86d7f54d",
   "metadata": {},
   "outputs": [
    {
     "name": "stderr",
     "output_type": "stream",
     "text": [
      "100%|██████████| 2000/2000 [00:03<00:00, 640.96it/s, init loss: 68.4248, avg. loss [1901-2000]: 20.9142]\n"
     ]
    }
   ],
   "source": [
    "def model(data):\n",
    "    f = numpyro.sample(\"latent_fairness\", dist.Beta(10, 10))\n",
    "    with numpyro.plate(\"N\", data.shape[0]):\n",
    "        numpyro.sample(\"obs\", dist.Bernoulli(f), obs=data)\n",
    "\n",
    "\n",
    "def guide(data):\n",
    "    alpha_q = numpyro.param(\"alpha_q\", 15.0, constraint=constraints.positive)\n",
    "    beta_q = numpyro.param(\n",
    "        \"beta_q\",\n",
    "        lambda rng_key: random.exponential(rng_key),\n",
    "        constraint=constraints.positive,\n",
    "    )\n",
    "    numpyro.sample(\"latent_fairness\", dist.Beta(alpha_q, beta_q))\n",
    "\n",
    "\n",
    "data = jnp.concatenate([jnp.ones(6), jnp.zeros(4)])\n",
    "optimizer = numpyro.optim.Adam(step_size=0.0005)\n",
    "svi = SVI(model, guide, optimizer, loss=Trace_ELBO())\n",
    "svi_result = svi.run(random.PRNGKey(0), 2000, data)"
   ]
  },
  {
   "cell_type": "code",
   "execution_count": 6,
   "id": "f58a3643-d08d-4d23-80e6-77fe089f3614",
   "metadata": {},
   "outputs": [
    {
     "data": {
      "text/plain": [
       "{'alpha_q': DeviceArray(5.915417, dtype=float32),\n",
       " 'beta_q': DeviceArray(0.93957573, dtype=float32)}"
      ]
     },
     "execution_count": 6,
     "metadata": {},
     "output_type": "execute_result"
    }
   ],
   "source": [
    "params = svi_result.params\n",
    "params"
   ]
  },
  {
   "cell_type": "markdown",
   "id": "c378c76b-1400-48f4-ab47-dcda5c95cf4d",
   "metadata": {},
   "source": [
    "### A Simple Example - 8 Schools\n",
    "* from [Getting Started with NumPyro](http://num.pyro.ai/en/stable/getting_started.html#getting-started-with-numpyro)"
   ]
  },
  {
   "cell_type": "code",
   "execution_count": 7,
   "id": "a5f7da95-1390-4ed7-8a8b-dfcc3bae6dff",
   "metadata": {},
   "outputs": [],
   "source": [
    "J = 8\n",
    "\n",
    "y = np.array([28.0, 8.0, -3.0, 7.0, -1.0, 1.0, 18.0, 12.0])\n",
    "\n",
    "sigma = np.array([15.0, 10.0, 16.0, 11.0, 9.0, 11.0, 10.0, 18.0])"
   ]
  },
  {
   "cell_type": "code",
   "execution_count": 8,
   "id": "1f807920-698c-413f-8bcb-69ea7bc09481",
   "metadata": {},
   "outputs": [],
   "source": [
    "# Eight Schools example\n",
    "def eight_schools(J, sigma, y=None):\n",
    "    mu = numpyro.sample(\"mu\", dist.Normal(0, 5))\n",
    "    tau = numpyro.sample(\"tau\", dist.HalfCauchy(5))\n",
    "    with numpyro.plate(\"J\", J):\n",
    "        theta = numpyro.sample(\"theta\", dist.Normal(mu, tau))\n",
    "        numpyro.sample(\"obs\", dist.Normal(theta, sigma), obs=y)"
   ]
  },
  {
   "cell_type": "code",
   "execution_count": 9,
   "id": "e9d2fac9-b08d-4d8d-ba2b-b1bd5d0db6e6",
   "metadata": {},
   "outputs": [
    {
     "data": {
      "image/svg+xml": [
       "<?xml version=\"1.0\" encoding=\"UTF-8\" standalone=\"no\"?>\n",
       "<!DOCTYPE svg PUBLIC \"-//W3C//DTD SVG 1.1//EN\"\n",
       " \"http://www.w3.org/Graphics/SVG/1.1/DTD/svg11.dtd\">\n",
       "<!-- Generated by graphviz version 2.47.2 (0)\n",
       " -->\n",
       "<!-- Pages: 1 -->\n",
       "<svg width=\"296pt\" height=\"259pt\"\n",
       " viewBox=\"0.00 0.00 295.50 259.00\" xmlns=\"http://www.w3.org/2000/svg\" xmlns:xlink=\"http://www.w3.org/1999/xlink\">\n",
       "<g id=\"graph0\" class=\"graph\" transform=\"scale(1 1) rotate(0) translate(4 255)\">\n",
       "<polygon fill=\"white\" stroke=\"transparent\" points=\"-4,4 -4,-255 291.5,-255 291.5,4 -4,4\"/>\n",
       "<g id=\"clust1\" class=\"cluster\">\n",
       "<title>cluster_J</title>\n",
       "<polygon fill=\"none\" stroke=\"black\" points=\"20,-8 20,-155 106,-155 106,-8 20,-8\"/>\n",
       "<text text-anchor=\"middle\" x=\"95\" y=\"-15.8\" font-family=\"Times,serif\" font-size=\"14.00\">J</text>\n",
       "</g>\n",
       "<!-- mu -->\n",
       "<g id=\"node1\" class=\"node\">\n",
       "<title>mu</title>\n",
       "<ellipse fill=\"white\" stroke=\"black\" cx=\"27\" cy=\"-217\" rx=\"27\" ry=\"18\"/>\n",
       "<text text-anchor=\"middle\" x=\"27\" y=\"-213.3\" font-family=\"Times,serif\" font-size=\"14.00\">mu</text>\n",
       "</g>\n",
       "<!-- theta -->\n",
       "<g id=\"node3\" class=\"node\">\n",
       "<title>theta</title>\n",
       "<ellipse fill=\"white\" stroke=\"black\" cx=\"63\" cy=\"-129\" rx=\"35.19\" ry=\"18\"/>\n",
       "<text text-anchor=\"middle\" x=\"63\" y=\"-125.3\" font-family=\"Times,serif\" font-size=\"14.00\">theta</text>\n",
       "</g>\n",
       "<!-- mu&#45;&gt;theta -->\n",
       "<g id=\"edge1\" class=\"edge\">\n",
       "<title>mu&#45;&gt;theta</title>\n",
       "<path fill=\"none\" stroke=\"black\" d=\"M33.94,-199.42C39.04,-187.24 46.07,-170.45 51.93,-156.44\"/>\n",
       "<polygon fill=\"black\" stroke=\"black\" points=\"55.32,-157.4 55.96,-146.82 48.87,-154.7 55.32,-157.4\"/>\n",
       "</g>\n",
       "<!-- tau -->\n",
       "<g id=\"node2\" class=\"node\">\n",
       "<title>tau</title>\n",
       "<ellipse fill=\"white\" stroke=\"black\" cx=\"99\" cy=\"-217\" rx=\"27\" ry=\"18\"/>\n",
       "<text text-anchor=\"middle\" x=\"99\" y=\"-213.3\" font-family=\"Times,serif\" font-size=\"14.00\">tau</text>\n",
       "</g>\n",
       "<!-- tau&#45;&gt;theta -->\n",
       "<g id=\"edge2\" class=\"edge\">\n",
       "<title>tau&#45;&gt;theta</title>\n",
       "<path fill=\"none\" stroke=\"black\" d=\"M92.06,-199.42C86.96,-187.24 79.93,-170.45 74.07,-156.44\"/>\n",
       "<polygon fill=\"black\" stroke=\"black\" points=\"77.13,-154.7 70.04,-146.82 70.68,-157.4 77.13,-154.7\"/>\n",
       "</g>\n",
       "<!-- obs -->\n",
       "<g id=\"node4\" class=\"node\">\n",
       "<title>obs</title>\n",
       "<ellipse fill=\"grey\" stroke=\"black\" cx=\"63\" cy=\"-57\" rx=\"27\" ry=\"18\"/>\n",
       "<text text-anchor=\"middle\" x=\"63\" y=\"-53.3\" font-family=\"Times,serif\" font-size=\"14.00\">obs</text>\n",
       "</g>\n",
       "<!-- theta&#45;&gt;obs -->\n",
       "<g id=\"edge3\" class=\"edge\">\n",
       "<title>theta&#45;&gt;obs</title>\n",
       "<path fill=\"none\" stroke=\"black\" d=\"M63,-110.7C63,-102.98 63,-93.71 63,-85.11\"/>\n",
       "<polygon fill=\"black\" stroke=\"black\" points=\"66.5,-85.1 63,-75.1 59.5,-85.1 66.5,-85.1\"/>\n",
       "</g>\n",
       "<!-- distribution_description_node -->\n",
       "<g id=\"node5\" class=\"node\">\n",
       "<title>distribution_description_node</title>\n",
       "<text text-anchor=\"start\" x=\"152.5\" y=\"-235.8\" font-family=\"Times,serif\" font-size=\"14.00\">mu ~ Normal</text>\n",
       "<text text-anchor=\"start\" x=\"152.5\" y=\"-220.8\" font-family=\"Times,serif\" font-size=\"14.00\">tau ~ HalfCauchy</text>\n",
       "<text text-anchor=\"start\" x=\"152.5\" y=\"-205.8\" font-family=\"Times,serif\" font-size=\"14.00\">theta ~ Normal</text>\n",
       "<text text-anchor=\"start\" x=\"152.5\" y=\"-190.8\" font-family=\"Times,serif\" font-size=\"14.00\">obs ~ Normal</text>\n",
       "</g>\n",
       "</g>\n",
       "</svg>\n"
      ],
      "text/plain": [
       "<graphviz.dot.Digraph at 0x7fef8416c790>"
      ]
     },
     "execution_count": 9,
     "metadata": {},
     "output_type": "execute_result"
    }
   ],
   "source": [
    "numpyro.render_model(eight_schools, model_args=(J, sigma, y), render_distributions=True)"
   ]
  },
  {
   "cell_type": "code",
   "execution_count": 10,
   "id": "1e9e35d4-cc1c-429a-bc59-7a61df2e30ed",
   "metadata": {},
   "outputs": [],
   "source": [
    "nuts_kernel = NUTS(eight_schools)"
   ]
  },
  {
   "cell_type": "code",
   "execution_count": 11,
   "id": "e8d3aa51-a757-419b-a572-73eb2c42db5c",
   "metadata": {},
   "outputs": [],
   "source": [
    "mcmc = MCMC(nuts_kernel, num_warmup=500, num_samples=1000)"
   ]
  },
  {
   "cell_type": "code",
   "execution_count": 12,
   "id": "fc24852e-f11f-4c72-a507-1113911652fb",
   "metadata": {},
   "outputs": [],
   "source": [
    "rng_key = random.PRNGKey(0)"
   ]
  },
  {
   "cell_type": "code",
   "execution_count": 13,
   "id": "f54fe64f-163f-4e80-8419-f24a9bff8695",
   "metadata": {},
   "outputs": [
    {
     "name": "stderr",
     "output_type": "stream",
     "text": [
      "sample: 100%|██████████| 1500/1500 [00:03<00:00, 385.34it/s, 31 steps of size 3.72e-02. acc. prob=0.99]\n"
     ]
    }
   ],
   "source": [
    "mcmc.run(\n",
    "    rng_key,\n",
    "    J,\n",
    "    sigma,\n",
    "    y=y,\n",
    "    extra_fields=(\n",
    "        \"i\",\n",
    "        \"z\",\n",
    "        \"z_grad\",\n",
    "        \"potential_energy\",\n",
    "        \"energy\",\n",
    "        \"r\",\n",
    "        \"trajectory_length\",\n",
    "        \"num_steps\",\n",
    "        \"accept_prob\",\n",
    "        \"mean_accept_prob\",\n",
    "        \"diverging\",\n",
    "        \"adapt_state\",\n",
    "        \"rng_key\",\n",
    "    ),\n",
    ")"
   ]
  },
  {
   "cell_type": "code",
   "execution_count": 14,
   "id": "2cc39bac-59a5-4258-a8cd-9662614f6f56",
   "metadata": {},
   "outputs": [
    {
     "name": "stdout",
     "output_type": "stream",
     "text": [
      "\n",
      "                mean       std    median      5.0%     95.0%     n_eff     r_hat\n",
      "        mu      4.34      3.09      4.19     -0.63      9.17    147.86      1.01\n",
      "       tau      3.40      2.87      2.68      0.23      7.25     71.79      1.00\n",
      "  theta[0]      5.84      5.04      5.19     -2.38     13.28    240.45      1.01\n",
      "  theta[1]      4.88      4.36      4.70     -1.05     12.77    284.49      1.00\n",
      "  theta[2]      3.91      5.36      4.05     -3.95     12.20    289.84      1.00\n",
      "  theta[3]      4.58      4.65      4.30     -1.96     12.95    248.48      1.00\n",
      "  theta[4]      3.65      4.27      3.74     -3.17     10.23    210.01      1.00\n",
      "  theta[5]      3.95      4.47      4.05     -3.43     10.77    247.01      1.00\n",
      "  theta[6]      6.25      4.88      5.36     -1.52     13.57    167.16      1.00\n",
      "  theta[7]      4.79      4.98      4.38     -2.87     11.75    288.12      1.01\n",
      "\n",
      "Number of divergences: 1\n"
     ]
    }
   ],
   "source": [
    "mcmc.print_summary()"
   ]
  },
  {
   "cell_type": "code",
   "execution_count": 15,
   "id": "3ac12557-736b-4302-bd85-5d821bf73e09",
   "metadata": {},
   "outputs": [
    {
     "data": {
      "text/plain": [
       "dict_keys(['trajectory_length', 'i', 'rng_key', 'diverging', 'accept_prob', 'adapt_state', 'mean_accept_prob', 'z_grad', 'num_steps', 'energy', 'potential_energy', 'r'])"
      ]
     },
     "execution_count": 15,
     "metadata": {},
     "output_type": "execute_result"
    }
   ],
   "source": [
    "mcmc.get_extra_fields().keys()"
   ]
  },
  {
   "cell_type": "code",
   "execution_count": 16,
   "id": "bde882a0-b905-4c7c-944a-f00b805d780c",
   "metadata": {},
   "outputs": [],
   "source": [
    "pe = mcmc.get_extra_fields()[\"potential_energy\"]"
   ]
  },
  {
   "cell_type": "code",
   "execution_count": 17,
   "id": "b9443e13-1c04-4cfa-9c7b-77f39b2b2624",
   "metadata": {},
   "outputs": [
    {
     "name": "stdout",
     "output_type": "stream",
     "text": [
      "Expected log joint density: -52.88\n"
     ]
    }
   ],
   "source": [
    "print(\"Expected log joint density: {:.2f}\".format(np.mean(-pe)))"
   ]
  },
  {
   "cell_type": "code",
   "execution_count": 18,
   "id": "39e31be6-e607-422a-b627-cc56a1ad08aa",
   "metadata": {
    "tags": []
   },
   "outputs": [
    {
     "data": {
      "text/plain": [
       "dict_keys(['mu', 'tau', 'theta'])"
      ]
     },
     "execution_count": 18,
     "metadata": {},
     "output_type": "execute_result"
    }
   ],
   "source": [
    "mcmc.get_samples().keys()"
   ]
  },
  {
   "cell_type": "code",
   "execution_count": 19,
   "id": "6453a780-7b90-4564-8b4d-ed9b29f75266",
   "metadata": {},
   "outputs": [
    {
     "data": {
      "text/plain": [
       "DeviceArray(4.335294, dtype=float32)"
      ]
     },
     "execution_count": 19,
     "metadata": {},
     "output_type": "execute_result"
    }
   ],
   "source": [
    "mcmc.get_samples()[\"mu\"].mean()"
   ]
  },
  {
   "cell_type": "code",
   "execution_count": 20,
   "id": "be5495b8-08dd-47c9-894b-80d70d4bad15",
   "metadata": {},
   "outputs": [
    {
     "data": {
      "text/plain": [
       "DeviceArray(3.4035494, dtype=float32)"
      ]
     },
     "execution_count": 20,
     "metadata": {},
     "output_type": "execute_result"
    }
   ],
   "source": [
    "mcmc.get_samples()[\"tau\"].mean()"
   ]
  },
  {
   "cell_type": "code",
   "execution_count": 21,
   "id": "4b2aeb07-6627-4167-b929-ba363cd6cb28",
   "metadata": {},
   "outputs": [
    {
     "data": {
      "text/plain": [
       "DeviceArray([5.8382387, 4.882821 , 3.9094636, 4.5816617, 3.6524198,\n",
       "             3.9543827, 6.246379 , 4.7896934], dtype=float32)"
      ]
     },
     "execution_count": 21,
     "metadata": {},
     "output_type": "execute_result"
    }
   ],
   "source": [
    "mcmc.get_samples()[\"theta\"].mean(0)"
   ]
  },
  {
   "cell_type": "markdown",
   "id": "b68a8c24-75fd-4e82-b251-68e71fe59c97",
   "metadata": {},
   "source": [
    "### **log_likelihood** \n",
    "\n",
    "signature: `log_likelihood(model, posterior_samples, *args, parallel=False, batch_ndims=1, **kwargs)`\n",
    "\n",
    "* A good example of `log_likelihood` is from the [Example: Baseball Batting Average](http://num.pyro.ai/en/stable/examples/baseball.html#example-baseball-batting-average)"
   ]
  },
  {
   "cell_type": "code",
   "execution_count": 22,
   "id": "b84261ce-2587-48bd-9115-9008bf281e08",
   "metadata": {
    "tags": []
   },
   "outputs": [
    {
     "data": {
      "text/plain": [
       "{'obs': DeviceArray([[-4.756407 , -3.2456636, -3.8251836, ..., -3.3881338,\n",
       "               -4.007017 , -3.8848321],\n",
       "              [-4.7805824, -3.260985 , -3.832055 , ..., -3.390484 ,\n",
       "               -4.022484 , -3.8712993],\n",
       "              [-4.804057 , -3.2758784, -3.8072424, ..., -3.3769853,\n",
       "               -4.069317 , -3.882395 ],\n",
       "              ...,\n",
       "              [-4.6730614, -3.322598 , -3.9107308, ..., -3.3942003,\n",
       "               -3.4346957, -3.860128 ],\n",
       "              [-4.588113 , -3.2291913, -3.8683748, ..., -3.4205554,\n",
       "               -4.2612643, -3.8601947],\n",
       "              [-4.930333 , -3.2294831, -4.070707 , ..., -3.486361 ,\n",
       "               -4.5297904, -3.8479528]], dtype=float32)}"
      ]
     },
     "execution_count": 22,
     "metadata": {},
     "output_type": "execute_result"
    }
   ],
   "source": [
    "log_likelihood(\n",
    "    eight_schools, mcmc.get_samples(), J, sigma, y=y,\n",
    ")"
   ]
  },
  {
   "cell_type": "code",
   "execution_count": 23,
   "id": "29c5fd86-42e8-472f-b455-308829e4ec3d",
   "metadata": {},
   "outputs": [],
   "source": [
    "post_loglik = log_likelihood(eight_schools, mcmc.get_samples(), J, sigma, y=y,)[\"obs\"]\n",
    "exp_log_density = logsumexp(post_loglik, axis=0) - jnp.log(jnp.shape(post_loglik)[0])"
   ]
  },
  {
   "cell_type": "code",
   "execution_count": 24,
   "id": "397438a6-697d-45cf-b91a-bf08ce54b8d6",
   "metadata": {},
   "outputs": [
    {
     "data": {
      "text/plain": [
       "(DeviceArray([-4.6737185, -3.347174 , -3.8256943, -3.4159744, -3.328764 ,\n",
       "              -3.4226027, -3.9185274, -3.9200714], dtype=float32),\n",
       " DeviceArray(-29.852526, dtype=float32))"
      ]
     },
     "execution_count": 24,
     "metadata": {},
     "output_type": "execute_result"
    }
   ],
   "source": [
    "exp_log_density, exp_log_density.sum()"
   ]
  },
  {
   "cell_type": "markdown",
   "id": "8b628c53-a30a-4bd6-9b49-e3e9b05bb81a",
   "metadata": {},
   "source": [
    "### **log_density** \n",
    "\n",
    "signature: `log_density(model, model_args, model_kwargs, params)`"
   ]
  },
  {
   "cell_type": "code",
   "execution_count": 25,
   "id": "6390f23d-f573-4864-94c2-8d973db19836",
   "metadata": {},
   "outputs": [
    {
     "data": {
      "text/plain": [
       "{'mu': DeviceArray(4.335294, dtype=float32),\n",
       " 'tau': DeviceArray(3.4035494, dtype=float32),\n",
       " 'theta': DeviceArray([5.8382387, 4.882821 , 3.9094636, 4.5816617, 3.6524198,\n",
       "              3.9543827, 6.246379 , 4.7896934], dtype=float32)}"
      ]
     },
     "execution_count": 25,
     "metadata": {},
     "output_type": "execute_result"
    }
   ],
   "source": [
    "{\n",
    "    \"mu\": mcmc.get_samples()[\"mu\"].mean(),\n",
    "    \"tau\": mcmc.get_samples()[\"tau\"].mean(),\n",
    "    \"theta\": mcmc.get_samples()[\"theta\"].mean(0),\n",
    "}"
   ]
  },
  {
   "cell_type": "code",
   "execution_count": 26,
   "id": "b6880639-fe8e-41b3-9c68-2f2b74943d92",
   "metadata": {
    "tags": []
   },
   "outputs": [],
   "source": [
    "log_joint_density, model_trace = log_density(\n",
    "    eight_schools,\n",
    "    (J, sigma),\n",
    "    dict(y=y),\n",
    "    {\n",
    "        \"mu\": mcmc.get_samples()[\"mu\"].mean(),\n",
    "        \"tau\": mcmc.get_samples()[\"tau\"].mean(),\n",
    "        \"theta\": mcmc.get_samples()[\"theta\"].mean(0),\n",
    "    },\n",
    ")"
   ]
  },
  {
   "cell_type": "code",
   "execution_count": 27,
   "id": "5b9c8d87-0128-44b0-9b1d-60085957e976",
   "metadata": {},
   "outputs": [
    {
     "data": {
      "text/plain": [
       "DeviceArray(-52.32869, dtype=float32)"
      ]
     },
     "execution_count": 27,
     "metadata": {},
     "output_type": "execute_result"
    }
   ],
   "source": [
    "log_joint_density"
   ]
  },
  {
   "cell_type": "code",
   "execution_count": 28,
   "id": "953d3c1a-b7f7-4042-a583-e7408b7ff00b",
   "metadata": {
    "tags": []
   },
   "outputs": [
    {
     "name": "stdout",
     "output_type": "stream",
     "text": [
      "(1000,)\n",
      "(1000,)\n",
      "(1000, 8)\n"
     ]
    }
   ],
   "source": [
    "for values in mcmc.get_samples().values():\n",
    "    print(values.shape)"
   ]
  },
  {
   "cell_type": "markdown",
   "id": "7c93cd6a-62bc-49e6-a2f0-cb4675eafd0a",
   "metadata": {
    "tags": []
   },
   "source": [
    "* seems like if you pass `mcmc.get_samples()` always results in a `ValueError: Incompatible shapes for broadcasting`\n",
    "\n",
    "```python\n",
    "log_joint_density, model_trace = log_density(\n",
    "    eight_schools,\n",
    "    (J, sigma),\n",
    "    dict(y=y),\n",
    "    mcmc.get_samples(),\n",
    ")\n",
    "\n",
    "---------------------------------------------------------------------------\n",
    "ValueError                                Traceback (most recent call last)\n",
    "<ipython-input-26-1d0d15e69ba2> in <module>\n",
    "----> 1 log_joint_density, model_trace = log_density(\n",
    "      2     eight_schools,\n",
    "      3     (J, sigma),\n",
    "      4     dict(y=y),mcmc.get_samples(),\n",
    "      5 )\n",
    "\n",
    "~/anaconda3/envs/numpyro_play/lib/python3.8/site-packages/numpyro/infer/util.py in log_density(model, model_args, model_kwargs, params)\n",
    "     51     \"\"\"\n",
    "     52     model = substitute(model, data=params)\n",
    "---> 53     model_trace = trace(model).get_trace(*model_args, **model_kwargs)\n",
    "     54     log_joint = jnp.zeros(())\n",
    "     55     for site in model_trace.values():\n",
    "\n",
    "~/anaconda3/envs/numpyro_play/lib/python3.8/site-packages/numpyro/handlers.py in get_trace(self, *args, **kwargs)\n",
    "    163         :return: `OrderedDict` containing the execution trace.\n",
    "    164         \"\"\"\n",
    "--> 165         self(*args, **kwargs)\n",
    "    166         return self.trace\n",
    "    167 \n",
    "\n",
    "~/anaconda3/envs/numpyro_play/lib/python3.8/site-packages/numpyro/primitives.py in __call__(self, *args, **kwargs)\n",
    "     85             return self\n",
    "     86         with self:\n",
    "---> 87             return self.fn(*args, **kwargs)\n",
    "     88 \n",
    "     89 \n",
    "\n",
    "~/anaconda3/envs/numpyro_play/lib/python3.8/site-packages/numpyro/primitives.py in __call__(self, *args, **kwargs)\n",
    "     85             return self\n",
    "     86         with self:\n",
    "---> 87             return self.fn(*args, **kwargs)\n",
    "     88 \n",
    "     89 \n",
    "\n",
    "<ipython-input-3-d4380d296306> in eight_schools(J, sigma, y)\n",
    "      4     tau = numpyro.sample(\"tau\", dist.HalfCauchy(5))\n",
    "      5     with numpyro.plate(\"J\", J):\n",
    "----> 6         theta = numpyro.sample(\"theta\", dist.Normal(mu, tau))\n",
    "      7         numpyro.sample(\"obs\", dist.Normal(theta, sigma), obs=y)\n",
    "\n",
    "~/anaconda3/envs/numpyro_play/lib/python3.8/site-packages/numpyro/primitives.py in sample(name, fn, obs, rng_key, sample_shape, infer, obs_mask)\n",
    "    157 \n",
    "    158     # ...and use apply_stack to send it to the Messengers\n",
    "--> 159     msg = apply_stack(initial_msg)\n",
    "    160     return msg[\"value\"]\n",
    "    161 \n",
    "\n",
    "~/anaconda3/envs/numpyro_play/lib/python3.8/site-packages/numpyro/primitives.py in apply_stack(msg)\n",
    "     22     pointer = 0\n",
    "     23     for pointer, handler in enumerate(reversed(_PYRO_STACK)):\n",
    "---> 24         handler.process_message(msg)\n",
    "     25         # When a Messenger sets the \"stop\" field of a message,\n",
    "     26         # it prevents any Messengers above it on the stack from being applied.\n",
    "\n",
    "~/anaconda3/envs/numpyro_play/lib/python3.8/site-packages/numpyro/primitives.py in process_message(self, msg)\n",
    "    478             overlap_idx = max(len(expected_shape) - len(dist_batch_shape), 0)\n",
    "    479             trailing_shape = expected_shape[overlap_idx:]\n",
    "--> 480             broadcast_shape = lax.broadcast_shapes(\n",
    "    481                 trailing_shape, tuple(dist_batch_shape)\n",
    "    482             )\n",
    "\n",
    "~/anaconda3/envs/numpyro_play/lib/python3.8/site-packages/jax/_src/util.py in wrapper(*args, **kwargs)\n",
    "    184         return f(*args, **kwargs)\n",
    "    185       else:\n",
    "--> 186         return cached(config._trace_context(), *args, **kwargs)\n",
    "    187 \n",
    "    188     wrapper.cache_clear = cached.cache_clear\n",
    "\n",
    "~/anaconda3/envs/numpyro_play/lib/python3.8/site-packages/jax/_src/util.py in cached(_, *args, **kwargs)\n",
    "    177     @functools.lru_cache(max_size)\n",
    "    178     def cached(_, *args, **kwargs):\n",
    "--> 179       return f(*args, **kwargs)\n",
    "    180 \n",
    "    181     @functools.wraps(f)\n",
    "\n",
    "~/anaconda3/envs/numpyro_play/lib/python3.8/site-packages/jax/_src/lax/lax.py in broadcast_shapes(*shapes)\n",
    "     90   result_shape = _try_broadcast_shapes(shapes)\n",
    "     91   if result_shape is None:\n",
    "---> 92     raise ValueError(\"Incompatible shapes for broadcasting: {}\"\n",
    "     93                      .format(tuple(map(tuple, shapes))))\n",
    "     94   return result_shape\n",
    "\n",
    "ValueError: Incompatible shapes for broadcasting: ((8,), (1000,))\n",
    "```"
   ]
  },
  {
   "cell_type": "markdown",
   "id": "4fbfd5b8-0653-4408-88f9-e41795a5bd91",
   "metadata": {},
   "source": [
    "### **potential_energy** \n",
    "\n",
    "signature: `potential_energy(model, model_args, model_kwargs, params, enum=False)`"
   ]
  },
  {
   "cell_type": "code",
   "execution_count": 29,
   "id": "dd2a904f-c945-44f1-a0e3-5fd53a3df960",
   "metadata": {
    "tags": []
   },
   "outputs": [],
   "source": [
    "pe_given_unconstrained_params = potential_energy(\n",
    "    eight_schools,\n",
    "    (J, sigma),\n",
    "    dict(y=y),\n",
    "    {\n",
    "        \"mu\": mcmc.get_samples()[\"mu\"].mean(),\n",
    "        \"tau\": mcmc.get_samples()[\"tau\"].mean(),\n",
    "        \"theta\": mcmc.get_samples()[\"theta\"].mean(0),\n",
    "    },\n",
    ")"
   ]
  },
  {
   "cell_type": "code",
   "execution_count": 30,
   "id": "b3a0c7f4-a0a6-424b-8426-e7cb12fec4ab",
   "metadata": {},
   "outputs": [
    {
     "data": {
      "text/plain": [
       "DeviceArray(69.27994, dtype=float32)"
      ]
     },
     "execution_count": 30,
     "metadata": {},
     "output_type": "execute_result"
    }
   ],
   "source": [
    "pe_given_unconstrained_params"
   ]
  },
  {
   "cell_type": "markdown",
   "id": "a2e1e14c-3f53-43c5-8d93-978dc1de63ae",
   "metadata": {
    "tags": []
   },
   "source": [
    "```python\n",
    "pe_given_unconstrained_params = potential_energy(\n",
    "    eight_schools,\n",
    "    (J, sigma),\n",
    "    dict(y=y),\n",
    "    mcmc.get_samples(),\n",
    ")\n",
    "\n",
    "---------------------------------------------------------------------------\n",
    "ValueError                                Traceback (most recent call last)\n",
    "<ipython-input-31-2604c02b276c> in <module>\n",
    "----> 1 pe_given_unconstrained_params = potential_energy(\n",
    "      2     eight_schools,\n",
    "      3     (J, sigma),\n",
    "      4     dict(y=y),\n",
    "      5     mcmc.get_samples(),\n",
    "\n",
    "~/anaconda3/envs/numpyro_play/lib/python3.8/site-packages/numpyro/infer/util.py in potential_energy(model, model_args, model_kwargs, params, enum)\n",
    "    225     )\n",
    "    226     # no param is needed for log_density computation because we already substitute\n",
    "--> 227     log_joint, model_trace = log_density_(\n",
    "    228         substituted_model, model_args, model_kwargs, {}\n",
    "    229     )\n",
    "\n",
    "~/anaconda3/envs/numpyro_play/lib/python3.8/site-packages/numpyro/infer/util.py in log_density(model, model_args, model_kwargs, params)\n",
    "     51     \"\"\"\n",
    "     52     model = substitute(model, data=params)\n",
    "---> 53     model_trace = trace(model).get_trace(*model_args, **model_kwargs)\n",
    "     54     log_joint = jnp.zeros(())\n",
    "     55     for site in model_trace.values():\n",
    "\n",
    "~/anaconda3/envs/numpyro_play/lib/python3.8/site-packages/numpyro/handlers.py in get_trace(self, *args, **kwargs)\n",
    "    163         :return: `OrderedDict` containing the execution trace.\n",
    "    164         \"\"\"\n",
    "--> 165         self(*args, **kwargs)\n",
    "    166         return self.trace\n",
    "    167 \n",
    "\n",
    "~/anaconda3/envs/numpyro_play/lib/python3.8/site-packages/numpyro/primitives.py in __call__(self, *args, **kwargs)\n",
    "     85             return self\n",
    "     86         with self:\n",
    "---> 87             return self.fn(*args, **kwargs)\n",
    "     88 \n",
    "     89 \n",
    "\n",
    "~/anaconda3/envs/numpyro_play/lib/python3.8/site-packages/numpyro/primitives.py in __call__(self, *args, **kwargs)\n",
    "     85             return self\n",
    "     86         with self:\n",
    "---> 87             return self.fn(*args, **kwargs)\n",
    "     88 \n",
    "     89 \n",
    "\n",
    "~/anaconda3/envs/numpyro_play/lib/python3.8/site-packages/numpyro/primitives.py in __call__(self, *args, **kwargs)\n",
    "     85             return self\n",
    "     86         with self:\n",
    "---> 87             return self.fn(*args, **kwargs)\n",
    "     88 \n",
    "     89 \n",
    "\n",
    "<ipython-input-3-d4380d296306> in eight_schools(J, sigma, y)\n",
    "      4     tau = numpyro.sample(\"tau\", dist.HalfCauchy(5))\n",
    "      5     with numpyro.plate(\"J\", J):\n",
    "----> 6         theta = numpyro.sample(\"theta\", dist.Normal(mu, tau))\n",
    "      7         numpyro.sample(\"obs\", dist.Normal(theta, sigma), obs=y)\n",
    "\n",
    "~/anaconda3/envs/numpyro_play/lib/python3.8/site-packages/numpyro/primitives.py in sample(name, fn, obs, rng_key, sample_shape, infer, obs_mask)\n",
    "    157 \n",
    "    158     # ...and use apply_stack to send it to the Messengers\n",
    "--> 159     msg = apply_stack(initial_msg)\n",
    "    160     return msg[\"value\"]\n",
    "    161 \n",
    "\n",
    "~/anaconda3/envs/numpyro_play/lib/python3.8/site-packages/numpyro/primitives.py in apply_stack(msg)\n",
    "     22     pointer = 0\n",
    "     23     for pointer, handler in enumerate(reversed(_PYRO_STACK)):\n",
    "---> 24         handler.process_message(msg)\n",
    "     25         # When a Messenger sets the \"stop\" field of a message,\n",
    "     26         # it prevents any Messengers above it on the stack from being applied.\n",
    "\n",
    "~/anaconda3/envs/numpyro_play/lib/python3.8/site-packages/numpyro/primitives.py in process_message(self, msg)\n",
    "    478             overlap_idx = max(len(expected_shape) - len(dist_batch_shape), 0)\n",
    "    479             trailing_shape = expected_shape[overlap_idx:]\n",
    "--> 480             broadcast_shape = lax.broadcast_shapes(\n",
    "    481                 trailing_shape, tuple(dist_batch_shape)\n",
    "    482             )\n",
    "\n",
    "~/anaconda3/envs/numpyro_play/lib/python3.8/site-packages/jax/_src/util.py in wrapper(*args, **kwargs)\n",
    "    184         return f(*args, **kwargs)\n",
    "    185       else:\n",
    "--> 186         return cached(config._trace_context(), *args, **kwargs)\n",
    "    187 \n",
    "    188     wrapper.cache_clear = cached.cache_clear\n",
    "\n",
    "~/anaconda3/envs/numpyro_play/lib/python3.8/site-packages/jax/_src/util.py in cached(_, *args, **kwargs)\n",
    "    177     @functools.lru_cache(max_size)\n",
    "    178     def cached(_, *args, **kwargs):\n",
    "--> 179       return f(*args, **kwargs)\n",
    "    180 \n",
    "    181     @functools.wraps(f)\n",
    "\n",
    "~/anaconda3/envs/numpyro_play/lib/python3.8/site-packages/jax/_src/lax/lax.py in broadcast_shapes(*shapes)\n",
    "     90   result_shape = _try_broadcast_shapes(shapes)\n",
    "     91   if result_shape is None:\n",
    "---> 92     raise ValueError(\"Incompatible shapes for broadcasting: {}\"\n",
    "     93                      .format(tuple(map(tuple, shapes))))\n",
    "     94   return result_shape\n",
    "\n",
    "ValueError: Incompatible shapes for broadcasting: ((8,), (1000,))\n",
    "```"
   ]
  }
 ],
 "metadata": {
  "jupytext": {
   "formats": "ipynb,py"
  },
  "kernelspec": {
   "display_name": "Python [conda env:numpyro_play]",
   "language": "python",
   "name": "conda-env-numpyro_play-py"
  },
  "language_info": {
   "codemirror_mode": {
    "name": "ipython",
    "version": 3
   },
   "file_extension": ".py",
   "mimetype": "text/x-python",
   "name": "python",
   "nbconvert_exporter": "python",
   "pygments_lexer": "ipython3",
   "version": "3.8.11"
  }
 },
 "nbformat": 4,
 "nbformat_minor": 5
}
