{
 "cells": [
  {
   "cell_type": "markdown",
   "id": "73d62e94-4346-435d-99b8-a0440119f98d",
   "metadata": {},
   "source": [
    "# Purpose\n",
    "* Trying to reproduce the functionality of the `sim()` function in the `arm` (**A**pplied **R**egression and **M**ultilevel modeling) package Ref [1]\n",
    "    - Original [source of `arm`](http://www.stat.columbia.edu/~gelman/arm/software/)\n",
    "    - Someone's github clone of `arm`, [link to the `sim()` function](https://github.com/suyusung/arm/blob/master/R/sim.R) function\n",
    "* Relevant discussions of `sim`\n",
    "    - [Accepted answer to the question Simulating draws/data from a fitted model with factor/character level inputs](https://stackoverflow.com/a/42151309/3587374)\n",
    "    - [Why does the sim function in Gelman's arm package simulate sigma from inverse chi square?](https://stats.stackexchange.com/questions/192996/why-does-the-sim-function-in-gelmans-arm-package-simulate-sigma-from-inverse-ch)\n",
    "    \n",
    "- From page 272 of Ref [1]: *Review of prediction for classical regression*\n",
    "> In classical regression, prediction is simple: specify the predictor matrix $\\tilde{X}$ for a set of new observations and then compute the linear predictor $\\tilde{X}\\beta$, then simulate the predictive data:\n",
    "> * For linear regression, simulate independent normal errors $\\tilde{\\varepsilon}_i$ with mean 0 and standard deviation $\\sigma$, and compute $y=\\tilde{X}\\beta+\\tilde{\\varepsilon}$; see Section 7.2.\n",
    "\n",
    "Ref [1]. A. Gelman and J. Hill, Data Analysis Using Regression and Multilevel/Hierarchical Models, Cambridge University Press (2007). "
   ]
  },
  {
   "cell_type": "code",
   "execution_count": 1,
   "id": "920a41ba-d424-4afb-8a78-66c9d5c59246",
   "metadata": {},
   "outputs": [],
   "source": [
    "from typing import Optional, Tuple, Union\n",
    "\n",
    "import matplotlib as mpl\n",
    "import matplotlib.pyplot as plt\n",
    "import numpy as np\n",
    "import pandas as pd\n",
    "import seaborn as sns\n",
    "import statsmodels.api as sm\n",
    "import statsmodels.formula.api as smf\n",
    "from scipy.stats import chi2, t\n",
    "from sklearn.metrics import mean_squared_error, r2_score"
   ]
  },
  {
   "cell_type": "code",
   "execution_count": 2,
   "id": "fd677b00-6f0b-403e-b058-17668cb038c8",
   "metadata": {},
   "outputs": [],
   "source": [
    "%matplotlib inline\n",
    "%reload_ext autoreload\n",
    "%autoreload 2\n",
    "%load_ext watermark"
   ]
  },
  {
   "cell_type": "code",
   "execution_count": 3,
   "id": "8e315ebb-4d3c-40bd-ae3a-479e27a687e0",
   "metadata": {},
   "outputs": [
    {
     "name": "stdout",
     "output_type": "stream",
     "text": [
      "Python implementation: CPython\n",
      "Python version       : 3.8.11\n",
      "IPython version      : 7.18.1\n",
      "\n",
      "numpy      : 1.20.3\n",
      "matplotlib : 3.4.3\n",
      "pandas     : 1.3.2\n",
      "sklearn    : 0.24.2\n",
      "seaborn    : 0.11.2\n",
      "statsmodels: 0.12.2\n",
      "scipy      : 1.6.2\n",
      "\n",
      "Compiler    : GCC 7.5.0\n",
      "OS          : Linux\n",
      "Release     : 4.19.193-1-MANJARO\n",
      "Machine     : x86_64\n",
      "Processor   : \n",
      "CPU cores   : 4\n",
      "Architecture: 64bit\n",
      "\n"
     ]
    }
   ],
   "source": [
    "%watermark -v -m -p numpy,matplotlib,pandas,sklearn,seaborn,statsmodels,scipy"
   ]
  },
  {
   "cell_type": "code",
   "execution_count": 4,
   "id": "99ea0efe-554c-4ebb-96ab-518b6f5227a3",
   "metadata": {},
   "outputs": [
    {
     "name": "stdout",
     "output_type": "stream",
     "text": [
      "Git hash: 4d07defde7464b78de811a0ea00f4e7600bf4ee7\n",
      "\n",
      "Git branch: master\n",
      "\n"
     ]
    }
   ],
   "source": [
    "%watermark -gb"
   ]
  },
  {
   "cell_type": "code",
   "execution_count": 5,
   "id": "c1dbe4e8-9d85-4eab-bcb4-a8015b8754cf",
   "metadata": {},
   "outputs": [],
   "source": [
    "def resid_std(resid: np.array, df: int):\n",
    "    return np.sqrt(np.sum(np.square(resid)) / df)\n",
    "\n",
    "\n",
    "def display(result, digits=1):\n",
    "    model = result.model.__class__.__name__\n",
    "    formula = result.model.formula\n",
    "    print(f\"{model}(formular = {formula})\\n\")\n",
    "    table = pd.concat([result.params, result.bse], axis=1).rename(\n",
    "        columns={0: \"coef.est\", 1: \"coef.se\"}\n",
    "    )\n",
    "    with pd.option_context(\"display.float_format\", \"{{:0.{}f}}\".format(digits).format):\n",
    "        print(table)\n",
    "\n",
    "    print(f\"n = {int(result.nobs)}, k = {len(result.params)}\")\n",
    "    print(\n",
    "        f\"residual sd = {resid_std(result.resid, result.nobs - len(result.params)):0.1f}, R-Squared = {result.rsquared:0.2f}\"\n",
    "    )\n",
    "\n",
    "\n",
    "def sim(result, n, **kwargs):\n",
    "    df = result.nobs - len(result.params)\n",
    "    sigmas = resid_std(result.resid, df) * np.sqrt((df) / chi2.rvs(df, size=n))\n",
    "    betas = np.random.multivariate_normal(\n",
    "        result.params, result.cov_params(**kwargs), size=n\n",
    "    )\n",
    "    return betas, sigmas\n",
    "\n",
    "\n",
    "def score(y_true, y_pred):\n",
    "    rmse = mean_squared_error(y_true, y_pred, squared=False)\n",
    "    r2_ = r2_score(y_true, y_pred)\n",
    "    print(f\"RMSE = {rmse:.2f}\")\n",
    "    print(f\"R-Squared = {r2_:.2f}\")\n",
    "\n",
    "\n",
    "def _forward(X, weights, add_constant=False):\n",
    "    return (\n",
    "        np.dot(np.concatenate([np.ones((X.shape[0], 1)), X], axis=1), weights)\n",
    "        if add_constant\n",
    "        else np.dot(X, weights)\n",
    "    )\n",
    "\n",
    "\n",
    "def plot_fit(\n",
    "    data: pd.DataFrame,\n",
    "    x_col: str,\n",
    "    y_col: str,\n",
    "    weights: np.array,\n",
    "    axis_labels: Optional[Tuple[str, str]] = (None, None),\n",
    "    error: Optional[Tuple[int, np.array]] = None,\n",
    "    return_fig_ax=False,\n",
    "    jitter: Optional[Union[float, np.array]] = 0,\n",
    "    ax: Optional = None,\n",
    "    add_constant=False,\n",
    "):\n",
    "    fig, ax = plt.subplots() if ax is None else (None, ax)\n",
    "    if error is not None:\n",
    "        for i in range(error[0]):\n",
    "            ax.plot(\n",
    "                data[x_col],\n",
    "                _forward(\n",
    "                    data[x_col].values[:, None],\n",
    "                    error[1][i, :],\n",
    "                    add_constant=add_constant,\n",
    "                ),\n",
    "                c=\"xkcd:grey\",\n",
    "                alpha=0.15,\n",
    "            )\n",
    "    ax.plot(\n",
    "        data[x_col],\n",
    "        _forward(data[x_col].values[:, None], weights, add_constant=add_constant),\n",
    "        c=\"k\",\n",
    "    )\n",
    "    ax.scatter(data[x_col] + jitter, data[y_col])\n",
    "    ax.set_xlabel(axis_labels[0])\n",
    "    ax.set_ylabel(axis_labels[1])\n",
    "\n",
    "    if return_fig_ax:\n",
    "        return fig, ax"
   ]
  },
  {
   "cell_type": "code",
   "execution_count": 6,
   "id": "eb149a19-2ec7-4034-8c29-f795a19a6bae",
   "metadata": {},
   "outputs": [],
   "source": [
    "font = {\"size\": 16}\n",
    "mpl.rc(\"font\", **font)\n",
    "\n",
    "mpl.rcParams[\"figure.dpi\"] = 100\n",
    "# mpl.rcParams[\"font.sans-serif\"] = \"Arial\"\n",
    "# mpl.rcParams[\"font.family\"] = \"sans-serif\""
   ]
  },
  {
   "cell_type": "markdown",
   "id": "68a2f37b-ae52-458b-927c-38474359c25a",
   "metadata": {},
   "source": [
    "## `statsmodel` OLS\n",
    "* Taken from the `statsmodel`'s docs on [Ordinary Least Squares](https://www.statsmodels.org/dev/examples/notebooks/generated/ols.html)"
   ]
  },
  {
   "cell_type": "code",
   "execution_count": 7,
   "id": "b6f43f1e-7ce7-44d1-9090-e1295b1e35d3",
   "metadata": {},
   "outputs": [
    {
     "data": {
      "text/plain": [
       "Generator(PCG64) at 0x7FDAB8474BA0"
      ]
     },
     "execution_count": 7,
     "metadata": {},
     "output_type": "execute_result"
    }
   ],
   "source": [
    "np.random.default_rng(9876789)"
   ]
  },
  {
   "cell_type": "code",
   "execution_count": 8,
   "id": "172072cd-4792-47ef-864d-85e7536c50cd",
   "metadata": {},
   "outputs": [],
   "source": [
    "nsample = 100\n",
    "x = np.linspace(0, 10, 100)\n",
    "X = np.column_stack((x, x ** 2))\n",
    "beta = np.array([1, 0.1, 10])\n",
    "e = np.random.normal(size=nsample)"
   ]
  },
  {
   "cell_type": "code",
   "execution_count": 9,
   "id": "8bee511a-eaee-428c-a2ad-fbc790ed0bd8",
   "metadata": {},
   "outputs": [],
   "source": [
    "sm_ols_example = pd.DataFrame(X, columns=[\"x1\", \"x2\"])"
   ]
  },
  {
   "cell_type": "code",
   "execution_count": 10,
   "id": "31375db7-00a8-4445-af42-38eb34eb134e",
   "metadata": {},
   "outputs": [
    {
     "name": "stderr",
     "output_type": "stream",
     "text": [
      "/home/benda/anaconda3/envs/numpyro_play/lib/python3.8/site-packages/statsmodels/tsa/tsatools.py:142: FutureWarning: In a future version of pandas all arguments of concat except for the argument 'objs' will be keyword-only\n",
      "  x = pd.concat(x[::order], 1)\n"
     ]
    }
   ],
   "source": [
    "sm_ols_example = sm.add_constant(sm_ols_example)\n",
    "sm_ols_example[\"Y\"] = np.dot(sm_ols_example, beta) + e"
   ]
  },
  {
   "cell_type": "code",
   "execution_count": 11,
   "id": "74747068-a035-4099-b964-fe9bfd10ec02",
   "metadata": {},
   "outputs": [
    {
     "name": "stdout",
     "output_type": "stream",
     "text": [
      "OLS(formular = Y ~ x1 + x2)\n",
      "\n",
      "           coef.est  coef.se\n",
      "Intercept    1.1415   0.2649\n",
      "x1           0.0130   0.1224\n",
      "x2          10.0062   0.0118\n",
      "n = 100, k = 3\n",
      "residual sd = 0.9, R-Squared = 1.00\n"
     ]
    }
   ],
   "source": [
    "results = smf.ols(\"Y ~ x1 + x2\", data=sm_ols_example).fit()\n",
    "display(results, digits=4)"
   ]
  },
  {
   "cell_type": "code",
   "execution_count": 12,
   "id": "b69b05ce-2466-478b-8d10-5f041de0500b",
   "metadata": {},
   "outputs": [
    {
     "data": {
      "text/html": [
       "<div>\n",
       "<style scoped>\n",
       "    .dataframe tbody tr th:only-of-type {\n",
       "        vertical-align: middle;\n",
       "    }\n",
       "\n",
       "    .dataframe tbody tr th {\n",
       "        vertical-align: top;\n",
       "    }\n",
       "\n",
       "    .dataframe thead th {\n",
       "        text-align: right;\n",
       "    }\n",
       "</style>\n",
       "<table border=\"1\" class=\"dataframe\">\n",
       "  <thead>\n",
       "    <tr style=\"text-align: right;\">\n",
       "      <th></th>\n",
       "      <th>Intercept</th>\n",
       "      <th>x1</th>\n",
       "      <th>x2</th>\n",
       "    </tr>\n",
       "  </thead>\n",
       "  <tbody>\n",
       "    <tr>\n",
       "      <th>Intercept</th>\n",
       "      <td>0.070189</td>\n",
       "      <td>-0.027933</td>\n",
       "      <td>0.002316</td>\n",
       "    </tr>\n",
       "    <tr>\n",
       "      <th>x1</th>\n",
       "      <td>-0.027933</td>\n",
       "      <td>0.014993</td>\n",
       "      <td>-0.001404</td>\n",
       "    </tr>\n",
       "    <tr>\n",
       "      <th>x2</th>\n",
       "      <td>0.002316</td>\n",
       "      <td>-0.001404</td>\n",
       "      <td>0.000140</td>\n",
       "    </tr>\n",
       "  </tbody>\n",
       "</table>\n",
       "</div>"
      ],
      "text/plain": [
       "           Intercept        x1        x2\n",
       "Intercept   0.070189 -0.027933  0.002316\n",
       "x1         -0.027933  0.014993 -0.001404\n",
       "x2          0.002316 -0.001404  0.000140"
      ]
     },
     "execution_count": 12,
     "metadata": {},
     "output_type": "execute_result"
    }
   ],
   "source": [
    "results.cov_params()"
   ]
  },
  {
   "cell_type": "code",
   "execution_count": 13,
   "id": "9cc75b28-df42-4124-af3a-55d1f0265db7",
   "metadata": {},
   "outputs": [
    {
     "data": {
      "text/plain": [
       "0.8916824241774342"
      ]
     },
     "execution_count": 13,
     "metadata": {},
     "output_type": "execute_result"
    }
   ],
   "source": [
    "results.resid.std()"
   ]
  },
  {
   "cell_type": "code",
   "execution_count": 14,
   "id": "efa771c9-f5a8-4f9f-bfad-94cdcb4f729f",
   "metadata": {},
   "outputs": [
    {
     "data": {
      "text/plain": [
       "0.9008281242354061"
      ]
     },
     "execution_count": 14,
     "metadata": {},
     "output_type": "execute_result"
    }
   ],
   "source": [
    "sigma_hat = resid_std(results.resid, results.nobs - len(results.params))\n",
    "sigma_hat"
   ]
  },
  {
   "cell_type": "code",
   "execution_count": 15,
   "id": "85a73755-1473-445f-a755-9cd30eac77ba",
   "metadata": {},
   "outputs": [],
   "source": [
    "beta = results.params\n",
    "sigma = results.cov_params(scale=None)"
   ]
  },
  {
   "cell_type": "code",
   "execution_count": 16,
   "id": "c17df332-7555-42da-a970-fb962d1b41f6",
   "metadata": {},
   "outputs": [],
   "source": [
    "B, s = sim(results, 1000, scale=None)"
   ]
  },
  {
   "cell_type": "code",
   "execution_count": 17,
   "id": "f98bd843-456c-46e1-8377-0dd6ac4315d7",
   "metadata": {},
   "outputs": [
    {
     "data": {
      "text/plain": [
       "(1000, 3)"
      ]
     },
     "execution_count": 17,
     "metadata": {},
     "output_type": "execute_result"
    }
   ],
   "source": [
    "B.shape"
   ]
  },
  {
   "cell_type": "code",
   "execution_count": 18,
   "id": "9e3e5eda-d01b-4377-b0d2-2cac50182b94",
   "metadata": {
    "tags": []
   },
   "outputs": [
    {
     "data": {
      "text/plain": [
       "<seaborn.axisgrid.PairGrid at 0x7fdab7bb17f0>"
      ]
     },
     "execution_count": 18,
     "metadata": {},
     "output_type": "execute_result"
    },
    {
     "data": {
      "image/png": "[encoded data removed]",
      "text/plain": [
       "<Figure size 750x750 with 12 Axes>"
      ]
     },
     "metadata": {
      "needs_background": "light"
     },
     "output_type": "display_data"
    }
   ],
   "source": [
    "sns.pairplot(pd.DataFrame(B))"
   ]
  },
  {
   "cell_type": "code",
   "execution_count": 19,
   "id": "f43a7cda-bf05-440c-95cb-8a48b5d66bae",
   "metadata": {},
   "outputs": [
    {
     "data": {
      "text/plain": [
       "(0     1.141041\n",
       " 1     0.015388\n",
       " 2    10.006087\n",
       " dtype: float64,\n",
       " 0    0.262126\n",
       " 1    0.119401\n",
       " 2    0.011385\n",
       " dtype: float64)"
      ]
     },
     "execution_count": 19,
     "metadata": {},
     "output_type": "execute_result"
    }
   ],
   "source": [
    "pd.DataFrame(B).mean(), pd.DataFrame(B).std()"
   ]
  },
  {
   "cell_type": "code",
   "execution_count": 20,
   "id": "5c4b0f58-6895-4b02-bd33-35b8aec5c3e3",
   "metadata": {},
   "outputs": [
    {
     "data": {
      "text/html": [
       "<div>\n",
       "<style scoped>\n",
       "    .dataframe tbody tr th:only-of-type {\n",
       "        vertical-align: middle;\n",
       "    }\n",
       "\n",
       "    .dataframe tbody tr th {\n",
       "        vertical-align: top;\n",
       "    }\n",
       "\n",
       "    .dataframe thead th {\n",
       "        text-align: right;\n",
       "    }\n",
       "</style>\n",
       "<table border=\"1\" class=\"dataframe\">\n",
       "  <thead>\n",
       "    <tr style=\"text-align: right;\">\n",
       "      <th></th>\n",
       "      <th>0</th>\n",
       "      <th>1</th>\n",
       "      <th>2</th>\n",
       "    </tr>\n",
       "  </thead>\n",
       "  <tbody>\n",
       "    <tr>\n",
       "      <th>0.025</th>\n",
       "      <td>0.632986</td>\n",
       "      <td>-0.215474</td>\n",
       "      <td>9.984349</td>\n",
       "    </tr>\n",
       "    <tr>\n",
       "      <th>0.975</th>\n",
       "      <td>1.637354</td>\n",
       "      <td>0.240517</td>\n",
       "      <td>10.028356</td>\n",
       "    </tr>\n",
       "  </tbody>\n",
       "</table>\n",
       "</div>"
      ],
      "text/plain": [
       "              0         1          2\n",
       "0.025  0.632986 -0.215474   9.984349\n",
       "0.975  1.637354  0.240517  10.028356"
      ]
     },
     "execution_count": 20,
     "metadata": {},
     "output_type": "execute_result"
    }
   ],
   "source": [
    "pd.DataFrame(B).quantile([0.025, 0.975])"
   ]
  },
  {
   "cell_type": "code",
   "execution_count": 21,
   "id": "70c967a3-0f61-4d47-a25b-42a4168b228a",
   "metadata": {},
   "outputs": [
    {
     "data": {
      "text/plain": [
       "0.9008281242354061"
      ]
     },
     "execution_count": 21,
     "metadata": {},
     "output_type": "execute_result"
    }
   ],
   "source": [
    "sigma_hat"
   ]
  },
  {
   "cell_type": "code",
   "execution_count": 22,
   "id": "db53cc25-cf14-40a2-b0c8-899afbf9c83b",
   "metadata": {},
   "outputs": [
    {
     "data": {
      "text/plain": [
       "(0    0.90898\n",
       " dtype: float64,\n",
       " 0    0.068546\n",
       " dtype: float64)"
      ]
     },
     "execution_count": 22,
     "metadata": {},
     "output_type": "execute_result"
    }
   ],
   "source": [
    "pd.DataFrame(s).mean(), pd.DataFrame(s).std()"
   ]
  },
  {
   "cell_type": "markdown",
   "id": "1e4f4b98-cbfa-4038-8223-87b5b5d7cdf7",
   "metadata": {},
   "source": [
    "### Verifying sigma sampling\n",
    "* Not 100% sure which resid standard deviation, they both look similar\n",
    "* I think `e = np.random.normal(size=nsample)` default scale is `1.` so both look correct\n",
    "* Maybe I should try with a different scale"
   ]
  },
  {
   "cell_type": "code",
   "execution_count": 23,
   "id": "91acc954-29eb-43b0-af16-9a074f82b863",
   "metadata": {},
   "outputs": [
    {
     "name": "stdout",
     "output_type": "stream",
     "text": [
      "df = 97.0 | mean sigma = 0.91 | std sigma = 0.07\n"
     ]
    }
   ],
   "source": [
    "df_ = results.nobs - len(results.params)\n",
    "sigmas_ = resid_std(results.resid, df_) * np.sqrt((df_) / chi2.rvs(df_, size=1000))\n",
    "print(\n",
    "    f\"df = {df_} | mean sigma = {sigmas_.mean():0.2f} | std sigma = {sigmas_.std():0.2f}\"\n",
    ")"
   ]
  },
  {
   "cell_type": "code",
   "execution_count": 24,
   "id": "a7937d6f-14d3-47ac-959d-e9f3a4eecd36",
   "metadata": {},
   "outputs": [
    {
     "name": "stdout",
     "output_type": "stream",
     "text": [
      "df = 97.0 | mean sigma = 0.90 | std sigma = 0.07\n"
     ]
    }
   ],
   "source": [
    "df_ = results.nobs - len(results.params)\n",
    "sigmas_ = results.resid.std() * np.sqrt((df_) / chi2.rvs(df_, size=1000))\n",
    "print(\n",
    "    f\"df = {df_} | mean sigma = {sigmas_.mean():0.2f} | std sigma = {sigmas_.std():0.2f}\"\n",
    ")"
   ]
  },
  {
   "cell_type": "markdown",
   "id": "c28274fa-b806-4b82-9844-b6e65ee9bd50",
   "metadata": {},
   "source": [
    "## 8.1 Fake-data simulation\n",
    "- From Chapter 8, Simulation for checking statistical procedures and model fits. Ref [1]"
   ]
  },
  {
   "cell_type": "code",
   "execution_count": 25,
   "id": "d3a22370-f549-430d-b5bb-59d1599782dd",
   "metadata": {},
   "outputs": [],
   "source": [
    "rng = np.random.default_rng(9876789)"
   ]
  },
  {
   "cell_type": "code",
   "execution_count": 26,
   "id": "ce9453c8-5b7d-42fc-bd4f-f1b2c55cfad7",
   "metadata": {},
   "outputs": [],
   "source": [
    "x = np.arange(1, 6)\n",
    "beta = np.array([1.4, 2.3])\n",
    "sigma = 0.9\n",
    "e = rng.normal(scale=sigma, size=len(x))"
   ]
  },
  {
   "cell_type": "code",
   "execution_count": 27,
   "id": "2c1f47de-2849-43d8-b3ef-8fbd3262baf4",
   "metadata": {},
   "outputs": [
    {
     "name": "stderr",
     "output_type": "stream",
     "text": [
      "/home/benda/anaconda3/envs/numpyro_play/lib/python3.8/site-packages/statsmodels/tsa/tsatools.py:142: FutureWarning: In a future version of pandas all arguments of concat except for the argument 'objs' will be keyword-only\n",
      "  x = pd.concat(x[::order], 1)\n"
     ]
    },
    {
     "data": {
      "text/html": [
       "<div>\n",
       "<style scoped>\n",
       "    .dataframe tbody tr th:only-of-type {\n",
       "        vertical-align: middle;\n",
       "    }\n",
       "\n",
       "    .dataframe tbody tr th {\n",
       "        vertical-align: top;\n",
       "    }\n",
       "\n",
       "    .dataframe thead th {\n",
       "        text-align: right;\n",
       "    }\n",
       "</style>\n",
       "<table border=\"1\" class=\"dataframe\">\n",
       "  <thead>\n",
       "    <tr style=\"text-align: right;\">\n",
       "      <th></th>\n",
       "      <th>const</th>\n",
       "      <th>x</th>\n",
       "      <th>y</th>\n",
       "    </tr>\n",
       "  </thead>\n",
       "  <tbody>\n",
       "    <tr>\n",
       "      <th>0</th>\n",
       "      <td>1.0</td>\n",
       "      <td>1</td>\n",
       "      <td>1.755502</td>\n",
       "    </tr>\n",
       "    <tr>\n",
       "      <th>1</th>\n",
       "      <td>1.0</td>\n",
       "      <td>2</td>\n",
       "      <td>5.260247</td>\n",
       "    </tr>\n",
       "    <tr>\n",
       "      <th>2</th>\n",
       "      <td>1.0</td>\n",
       "      <td>3</td>\n",
       "      <td>9.098717</td>\n",
       "    </tr>\n",
       "    <tr>\n",
       "      <th>3</th>\n",
       "      <td>1.0</td>\n",
       "      <td>4</td>\n",
       "      <td>11.034726</td>\n",
       "    </tr>\n",
       "    <tr>\n",
       "      <th>4</th>\n",
       "      <td>1.0</td>\n",
       "      <td>5</td>\n",
       "      <td>13.174619</td>\n",
       "    </tr>\n",
       "  </tbody>\n",
       "</table>\n",
       "</div>"
      ],
      "text/plain": [
       "   const  x          y\n",
       "0    1.0  1   1.755502\n",
       "1    1.0  2   5.260247\n",
       "2    1.0  3   9.098717\n",
       "3    1.0  4  11.034726\n",
       "4    1.0  5  13.174619"
      ]
     },
     "execution_count": 27,
     "metadata": {},
     "output_type": "execute_result"
    }
   ],
   "source": [
    "data = pd.DataFrame(x, columns=[\"x\"])\n",
    "data = sm.add_constant(data)\n",
    "data[\"y\"] = np.dot(data, beta) + e\n",
    "data"
   ]
  },
  {
   "cell_type": "code",
   "execution_count": 28,
   "id": "6b0a7d7b-2968-45e6-86a0-4c6782689988",
   "metadata": {},
   "outputs": [
    {
     "name": "stdout",
     "output_type": "stream",
     "text": [
      "OLS(formular = y ~ x)\n",
      "\n",
      "           coef.est  coef.se\n",
      "Intercept      -0.5      0.8\n",
      "x               2.9      0.2\n",
      "n = 5, k = 2\n",
      "residual sd = 0.8, R-Squared = 0.98\n"
     ]
    }
   ],
   "source": [
    "results = smf.ols(\"y ~ x\", data=data).fit()\n",
    "display(results)"
   ]
  },
  {
   "cell_type": "code",
   "execution_count": 29,
   "id": "e0143ed7-3a6b-4ee0-9135-64626f3fd910",
   "metadata": {},
   "outputs": [],
   "source": [
    "n_ = 1000\n",
    "B, s = sim(results, n_, scale=None)"
   ]
  },
  {
   "cell_type": "code",
   "execution_count": 30,
   "id": "091dbf0e-50fe-4574-84a4-0932426f4e66",
   "metadata": {},
   "outputs": [
    {
     "data": {
      "image/png": "[encoded data removed]",
      "text/plain": [
       "<Figure size 600x400 with 1 Axes>"
      ]
     },
     "metadata": {
      "needs_background": "light"
     },
     "output_type": "display_data"
    }
   ],
   "source": [
    "plot_fit(data, \"x\", \"y\", results.params.values, add_constant=True, error=(10, B))"
   ]
  },
  {
   "cell_type": "code",
   "execution_count": 31,
   "id": "965e77e1-3b32-4753-9716-e1a6b779c49e",
   "metadata": {},
   "outputs": [],
   "source": [
    "B = pd.DataFrame(B)\n",
    "s = pd.DataFrame(s)"
   ]
  },
  {
   "cell_type": "code",
   "execution_count": 32,
   "id": "459d441c-cc4f-4fd9-85f4-98600d3c46f7",
   "metadata": {},
   "outputs": [
    {
     "name": "stdout",
     "output_type": "stream",
     "text": [
      "a true =       1.4 | mean = -0.6 std = 0.8\n",
      "b true =       2.3 | mean = 2.9 std = 0.2\n",
      "sigma true =   0.9 | mean = 1.1 std = 0.7\n"
     ]
    }
   ],
   "source": [
    "print(f\"a true = {beta[0]:9} | mean = {B.mean()[0]:0.1f} std = {B.std()[0]:0.1f}\")\n",
    "print(f\"b true = {beta[1]:9} | mean = {B.mean()[1]:0.1f} std = {B.std()[1]:0.1f}\")\n",
    "print(f\"sigma true = {sigma:5} | mean = {s.mean()[0]:0.1f} std = {s.std()[0]:0.1f}\")"
   ]
  },
  {
   "cell_type": "code",
   "execution_count": 33,
   "id": "d2c22af0-f2b3-4e55-8330-5be8d58db90b",
   "metadata": {},
   "outputs": [
    {
     "name": "stdout",
     "output_type": "stream",
     "text": [
      "df = 3.0 | mean sigma = 1.02 | std sigma = 0.62\n"
     ]
    }
   ],
   "source": [
    "df_ = results.nobs - len(results.params)\n",
    "sigmas_ = resid_std(results.resid, df_) * np.sqrt((df_) / chi2.rvs(df_, size=n_))\n",
    "print(\n",
    "    f\"df = {df_} | mean sigma = {sigmas_.mean():0.2f} | std sigma = {sigmas_.std():0.2f}\"\n",
    ")"
   ]
  },
  {
   "cell_type": "code",
   "execution_count": 34,
   "id": "b614116b-ace4-43ee-a655-2df2fcef818c",
   "metadata": {},
   "outputs": [
    {
     "name": "stdout",
     "output_type": "stream",
     "text": [
      "df = 3.0 | mean sigma = 1.3 | std sigma = 1.0\n"
     ]
    }
   ],
   "source": [
    "df_ = results.nobs - len(results.params)\n",
    "sigmas_ = results.resid.std(ddof=int(df_)) * np.sqrt(df_ / chi2.rvs(df_, size=n_))\n",
    "print(\n",
    "    f\"df = {df_} | mean sigma = {sigmas_.mean():0.1f} | std sigma = {sigmas_.std():0.1f}\"\n",
    ")"
   ]
  },
  {
   "cell_type": "code",
   "execution_count": 35,
   "id": "57d551e0-ce6d-4075-a724-dc67c71cac6d",
   "metadata": {},
   "outputs": [
    {
     "data": {
      "text/plain": [
       "0   -0.586718\n",
       "1    0.056756\n",
       "2    1.033955\n",
       "3    0.108692\n",
       "4   -0.612686\n",
       "dtype: float64"
      ]
     },
     "execution_count": 35,
     "metadata": {},
     "output_type": "execute_result"
    }
   ],
   "source": [
    "results.resid"
   ]
  },
  {
   "cell_type": "code",
   "execution_count": 36,
   "id": "9d9ba383-0538-480c-bbbc-79cf8cfa46b1",
   "metadata": {},
   "outputs": [
    {
     "data": {
      "text/plain": [
       "0.7753963800733337"
      ]
     },
     "execution_count": 36,
     "metadata": {},
     "output_type": "execute_result"
    }
   ],
   "source": [
    "np.sqrt(np.sum(np.square(results.resid)) / df_)"
   ]
  },
  {
   "cell_type": "code",
   "execution_count": 37,
   "id": "fe5b3009-47df-4427-b3d9-00af11c75847",
   "metadata": {},
   "outputs": [
    {
     "data": {
      "text/plain": [
       "(0.9496627397904187, 0.7753963800733337)"
      ]
     },
     "execution_count": 37,
     "metadata": {},
     "output_type": "execute_result"
    }
   ],
   "source": [
    "results.resid.std(ddof=int(df_)), resid_std(results.resid, df_)"
   ]
  },
  {
   "cell_type": "code",
   "execution_count": 38,
   "id": "80e13c67-61ee-49c2-8b31-e583099e3ef0",
   "metadata": {},
   "outputs": [
    {
     "name": "stdout",
     "output_type": "stream",
     "text": [
      "68% coverage: False\n",
      "95% coverage: False\n"
     ]
    }
   ],
   "source": [
    "cover_68 = np.abs(beta[1] - results.params[1]) < results.bse[1]\n",
    "cover_95 = np.abs(beta[1] - results.params[1]) < 2 * results.bse[1]\n",
    "print(f\"68% coverage: {cover_68}\\n95% coverage: {cover_95}\")"
   ]
  },
  {
   "cell_type": "code",
   "execution_count": 39,
   "id": "edcc78e4-6b3d-4c73-8dd8-31f247d657db",
   "metadata": {},
   "outputs": [
    {
     "name": "stderr",
     "output_type": "stream",
     "text": [
      "/home/benda/anaconda3/envs/numpyro_play/lib/python3.8/site-packages/statsmodels/tsa/tsatools.py:142: FutureWarning: In a future version of pandas all arguments of concat except for the argument 'objs' will be keyword-only\n",
      "  x = pd.concat(x[::order], 1)\n"
     ]
    },
    {
     "name": "stdout",
     "output_type": "stream",
     "text": [
      "Assuming Normal, which is wrong\n",
      "68% coverage: 0.622\n",
      "95% coverage: 0.879\n"
     ]
    }
   ],
   "source": [
    "n = 1000\n",
    "cover_68 = np.zeros(n)\n",
    "cover_95 = np.zeros(n)\n",
    "for i in range(n):\n",
    "    e = np.random.normal(scale=sigma, size=len(x))\n",
    "    data = pd.DataFrame(x, columns=[\"x\"])\n",
    "    data = sm.add_constant(data)\n",
    "    data[\"y\"] = np.dot(data, beta) + e\n",
    "    results = smf.ols(\"y ~ x\", data=data).fit()\n",
    "    cover_68[i] = np.abs(beta[1] - results.params[1]) < results.bse[1]\n",
    "    cover_95[i] = np.abs(beta[1] - results.params[1]) < 2 * results.bse[1]\n",
    "\n",
    "print(f\"Assuming Normal, which is wrong\")\n",
    "print(f\"68% coverage: {cover_68.mean()}\\n95% coverage: {cover_95.mean()}\")"
   ]
  },
  {
   "cell_type": "code",
   "execution_count": 40,
   "id": "08a51994-0a62-44b7-a793-c79b388ecb9e",
   "metadata": {},
   "outputs": [
    {
     "name": "stdout",
     "output_type": "stream",
     "text": [
      "Assuming t-dist\n",
      "68% coverage: 0.687\n",
      "95% coverage: 0.952\n"
     ]
    }
   ],
   "source": [
    "n = 1000\n",
    "cover_68 = np.zeros(n)\n",
    "cover_95 = np.zeros(n)\n",
    "t_68 = t.ppf(0.84, len(x) - 2)\n",
    "t_95 = t.ppf(0.975, len(x) - 2)\n",
    "for i in range(n):\n",
    "    e = np.random.normal(scale=sigma, size=len(x))\n",
    "    data = pd.DataFrame(x, columns=[\"x\"])\n",
    "    data = sm.add_constant(data)\n",
    "    data[\"y\"] = np.dot(data, beta) + e\n",
    "    results = smf.ols(\"y ~ x\", data=data).fit()\n",
    "    cover_68[i] = np.abs(beta[1] - results.params[1]) < t_68 * results.bse[1]\n",
    "    cover_95[i] = np.abs(beta[1] - results.params[1]) < t_95 * results.bse[1]\n",
    "\n",
    "print(f\"Assuming t-dist\")\n",
    "print(f\"68% coverage: {cover_68.mean()}\\n95% coverage: {cover_95.mean()}\")"
   ]
  },
  {
   "cell_type": "code",
   "execution_count": 41,
   "id": "c4aaaf38-763a-4d8d-9c7c-69632a8aef4e",
   "metadata": {},
   "outputs": [
    {
     "name": "stdout",
     "output_type": "stream",
     "text": [
      "Assuming t-dist\n",
      "68% coverage: [0.675 0.691] std: [0.46837485 0.46208116]\n",
      "95% coverage: [0.951 0.952] std: [0.21586802 0.21376623]\n"
     ]
    }
   ],
   "source": [
    "n = 1000\n",
    "cover_68 = np.zeros((n,2))\n",
    "cover_95 = np.zeros((n,2))\n",
    "t_68 = t.ppf(0.84, len(x) - 2)\n",
    "t_95 = t.ppf(0.975, len(x) - 2)\n",
    "for i in range(n):\n",
    "    e = np.random.normal(scale=sigma, size=len(x))\n",
    "    data = pd.DataFrame(x, columns=[\"x\"])\n",
    "    data = sm.add_constant(data)\n",
    "    data[\"y\"] = np.dot(data, beta) + e\n",
    "    results = smf.ols(\"y ~ x\", data=data).fit()\n",
    "    cover_68[i,0] = np.abs(beta[0] - results.params[0]) < t_68 * results.bse[0]\n",
    "    cover_68[i,1] = np.abs(beta[1] - results.params[1]) < t_68 * results.bse[1]\n",
    "    cover_95[i,0] = np.abs(beta[0] - results.params[0]) < t_95 * results.bse[0]\n",
    "    cover_95[i,1] = np.abs(beta[1] - results.params[1]) < t_95 * results.bse[1]\n",
    "\n",
    "print(f\"Assuming t-dist\")\n",
    "print(f\"68% coverage: {cover_68.mean(0)} std: {cover_68.std(0)}\\n95% coverage: {cover_95.mean(0)} std: {cover_95.std(0)}\")"
   ]
  },
  {
   "cell_type": "markdown",
   "id": "8d2640fa-1730-4ddd-8d8e-c0f00a308c8b",
   "metadata": {},
   "source": [
    "## Larger Data"
   ]
  },
  {
   "cell_type": "code",
   "execution_count": 42,
   "id": "5ad0b2b2-d72d-45df-a271-b49d72146813",
   "metadata": {},
   "outputs": [],
   "source": [
    "rng = np.random.default_rng(9876789)\n",
    "nsample = 100\n",
    "x = np.linspace(0, 10, 100)\n",
    "X = np.column_stack((x, x ** 2))\n",
    "sigma = 2\n",
    "beta = np.array([1, 0.1, 10])\n",
    "e = rng.normal(scale=sigma, size=nsample)\n",
    "sm_ols_example = pd.DataFrame(X, columns=[\"x1\", \"x2\"])\n",
    "sm_ols_example = sm.add_constant(sm_ols_example)\n",
    "sm_ols_example[\"Y\"] = np.dot(sm_ols_example, beta) + e"
   ]
  },
  {
   "cell_type": "code",
   "execution_count": 43,
   "id": "58c13bb8-1010-4cd3-80bc-1bceec6e394e",
   "metadata": {},
   "outputs": [
    {
     "name": "stdout",
     "output_type": "stream",
     "text": [
      "OLS(formular = Y ~ x1 + x2)\n",
      "\n",
      "           coef.est  coef.se\n",
      "Intercept    1.2193   0.5891\n",
      "x1           0.2226   0.2722\n",
      "x2           9.9854   0.0263\n",
      "n = 100, k = 3\n",
      "residual sd = 2.0, R-Squared = 1.00\n"
     ]
    }
   ],
   "source": [
    "results = smf.ols(\"Y ~ x1 + x2\", data=sm_ols_example).fit()\n",
    "display(results, digits=4)"
   ]
  },
  {
   "cell_type": "code",
   "execution_count": 44,
   "id": "2f1722f5-db8d-4370-8a57-6ab6a59bef14",
   "metadata": {},
   "outputs": [],
   "source": [
    "n_ = 1000\n",
    "B, s = sim(results, n_, scale=None)"
   ]
  },
  {
   "cell_type": "code",
   "execution_count": 45,
   "id": "e4bcd60f-6029-4805-9b61-f6fae54d6a36",
   "metadata": {},
   "outputs": [],
   "source": [
    "B = pd.DataFrame(B)\n",
    "s = pd.DataFrame(s)"
   ]
  },
  {
   "cell_type": "code",
   "execution_count": 46,
   "id": "87ee35b1-743a-4fc1-ab90-b2d39cdcbc05",
   "metadata": {},
   "outputs": [
    {
     "name": "stdout",
     "output_type": "stream",
     "text": [
      "b0 true =       1.0 | mean = 1.21 std = 0.60\n",
      "b1 true =       0.1 | mean = 0.23 std = 0.28\n",
      "b2 true =      10.0 | mean = 9.98 std = 0.03\n",
      "sigma true =      2 | mean = 2.01 std = 0.15\n"
     ]
    }
   ],
   "source": [
    "print(f\"b0 true = {beta[0]:9} | mean = {B.mean()[0]:0.2f} std = {B.std()[0]:0.2f}\")\n",
    "print(f\"b1 true = {beta[1]:9} | mean = {B.mean()[1]:0.2f} std = {B.std()[1]:0.2f}\")\n",
    "print(f\"b2 true = {beta[2]:9} | mean = {B.mean()[2]:0.2f} std = {B.std()[2]:0.2f}\")\n",
    "print(f\"sigma true = {sigma:6} | mean = {s.mean()[0]:0.2f} std = {s.std()[0]:0.2f}\")"
   ]
  },
  {
   "cell_type": "markdown",
   "id": "80835ef9-97ab-4310-ada1-542f88b0f990",
   "metadata": {},
   "source": [
    "### Verifying sigma sampling\n",
    "* This comparison seems to verify Gelman's approach"
   ]
  },
  {
   "cell_type": "code",
   "execution_count": 47,
   "id": "54ce47f0-24e2-40e0-a06b-c17d289d1350",
   "metadata": {},
   "outputs": [
    {
     "name": "stdout",
     "output_type": "stream",
     "text": [
      "df = 97.0 | mean sigma = 2.02 | std sigma = 0.15\n"
     ]
    }
   ],
   "source": [
    "df_ = results.nobs - len(results.params)\n",
    "sigmas_ = resid_std(results.resid, df_) * np.sqrt(df_ / chi2.rvs(df_, size=n_))\n",
    "print(\n",
    "    f\"df = {df_} | mean sigma = {sigmas_.mean():0.2f} | std sigma = {sigmas_.std():0.2f}\"\n",
    ")"
   ]
  },
  {
   "cell_type": "code",
   "execution_count": 48,
   "id": "1ebf5c51-6c62-45c0-87c5-ae755d986c7b",
   "metadata": {},
   "outputs": [
    {
     "name": "stdout",
     "output_type": "stream",
     "text": [
      "df = 97.0 | mean sigma = 11.4 | std sigma = 0.8\n"
     ]
    }
   ],
   "source": [
    "df_ = results.nobs - len(results.params)\n",
    "sigmas_ = results.resid.std(ddof=int(df_)) * np.sqrt(df_ / chi2.rvs(df_, size=n_))\n",
    "print(\n",
    "    f\"df = {df_} | mean sigma = {sigmas_.mean():0.1f} | std sigma = {sigmas_.std():0.1f}\"\n",
    ")"
   ]
  },
  {
   "cell_type": "code",
   "execution_count": null,
   "id": "1dcdce1d-3176-4cb8-a474-ea6b72153b8d",
   "metadata": {},
   "outputs": [],
   "source": []
  }
 ],
 "metadata": {
  "jupytext": {
   "formats": "ipynb,py"
  },
  "kernelspec": {
   "display_name": "Python [conda env:numpyro_play]",
   "language": "python",
   "name": "conda-env-numpyro_play-py"
  },
  "language_info": {
   "codemirror_mode": {
    "name": "ipython",
    "version": 3
   },
   "file_extension": ".py",
   "mimetype": "text/x-python",
   "name": "python",
   "nbconvert_exporter": "python",
   "pygments_lexer": "ipython3",
   "version": "3.8.11"
  }
 },
 "nbformat": 4,
 "nbformat_minor": 5
}
