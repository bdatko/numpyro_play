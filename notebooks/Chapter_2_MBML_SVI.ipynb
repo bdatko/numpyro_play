{
 "cells": [
  {
   "cell_type": "code",
   "execution_count": 1,
   "id": "392d2c0b-a967-4662-85e4-111ca328507c",
   "metadata": {},
   "outputs": [],
   "source": [
    "import operator\n",
    "from functools import reduce\n",
    "from typing import List\n",
    "\n",
    "import arviz as az\n",
    "import matplotlib.pyplot as plt\n",
    "import numpy as np\n",
    "import pandas as pd\n",
    "import pyro\n",
    "import pyro.distributions as dist\n",
    "import torch\n",
    "from pyro import poutine\n",
    "from pyro.infer import SVI, Trace_ELBO, TraceEnum_ELBO, config_enumerate, infer_discrete\n",
    "from pyro.ops.indexing import Vindex\n",
    "from torch.distributions import constraints\n",
    "\n",
    "pyro.set_rng_seed(0)"
   ]
  },
  {
   "cell_type": "markdown",
   "id": "8b4f6de6-c40d-456f-8645-966b9862425f",
   "metadata": {},
   "source": [
    "# Purpose\n",
    "- Reproducing [`fritzo`'s answer](https://forum.pyro.ai/t/model-based-machine-learning-book-chapter-2-skills-example-in-pyro-tensor-dimension-issue/464/12?u=bdatko) to [Chapter 2 MBML Learning skills](https://mbmlbook.com/LearningSkills.html)\n",
    "\n",
    "The twist:\n",
    "1. we are using `pyro.__version__ == 1.7.0` instead of `0.3`\n",
    "1. assume a fixed guessing probability (work on building one the first iterations of the model from the book)\n",
    "2. reporduce the results for just three questions, two skills using model form [**Figure 2.17**](https://mbmlbook.com/LearningSkills_Moving_to_real_data.html) with [**Table 2.4**](https://mbmlbook.com/LearningSkills_Testing_out_the_model.html), reproduced below\n",
    "\n",
    "|    | IsCorrect1   | IsCorrect2   | IsCorrect2   |   P(csharp) |   P(sql) |\n",
    "|---:|:-------------|:-------------|:-------------|------------:|---------:|\n",
    "|  0 | False        | False        | False        |       0.101 |    0.101 |\n",
    "|  1 | True         | False        | False        |       0.802 |    0.034 |\n",
    "|  2 | False        | True         | False        |       0.034 |    0.802 |\n",
    "|  3 | True         | True         | False        |       0.561 |    0.561 |\n",
    "|  4 | False        | False        | True         |       0.148 |    0.148 |\n",
    "|  5 | True         | False        | True         |       0.862 |    0.326 |\n",
    "|  6 | False        | True         | True         |       0.326 |    0.862 |\n",
    "|  7 | True         | True         | True         |       0.946 |    0.946 |\n",
    "\n",
    "The table above can be used to check our model, and to get us ready for the *real data*. Lets view each permutation as a data record, resulting in a table of 3 responses from 8 people, where each question either needs `skill_01`, `skill_02`, or `skill_01` and `skill_02`. The toy data is shown below:"
   ]
  },
  {
   "cell_type": "code",
   "execution_count": 2,
   "id": "663eb131-3fe6-4815-aa2e-912431809697",
   "metadata": {},
   "outputs": [],
   "source": [
    "responses_check = torch.tensor([[0., 1., 0., 1., 0., 1., 0., 1.], [0., 0., 1., 1., 0., 0., 1., 1.], [0., 0., 0., 0., 1., 1., 1., 1.]])\n",
    "skills_needed_check = [[0], [1], [0, 1]]"
   ]
  },
  {
   "cell_type": "code",
   "execution_count": 3,
   "id": "25705fd0-5034-46df-b2d3-2eb61eaea857",
   "metadata": {},
   "outputs": [
    {
     "data": {
      "text/plain": [
       "torch.Size([3, 8])"
      ]
     },
     "execution_count": 3,
     "metadata": {},
     "output_type": "execute_result"
    }
   ],
   "source": [
    "# row = participants' responses to each question\n",
    "# column = participants\n",
    "responses_check.shape"
   ]
  },
  {
   "cell_type": "code",
   "execution_count": 4,
   "id": "65834553-7c8f-4282-bfa7-a1b55aac4fbe",
   "metadata": {},
   "outputs": [],
   "source": [
    "def model(graded_responses, skills_needed: List[List[int]], prob_mistake=0.1, prob_guess=0.2):\n",
    "    n_questions, n_participants = graded_responses.shape\n",
    "    n_skills = max(map(max, skills_needed)) + 1\n",
    "    \n",
    "    with pyro.plate(\"participants_plate\", n_participants):\n",
    "        with pyro.plate(\"skills_plate\", n_skills):\n",
    "            skills = pyro.sample(\"skills\", dist.Bernoulli(0.5), )\n",
    "            \n",
    "    for q in pyro.plate(\"questions_plate\", n_questions):\n",
    "        has_skills = reduce(operator.mul, [skills[i] for i in skills_needed[q]]).float()\n",
    "        prob_correct = (has_skills * (1 - prob_mistake) + (1 - has_skills) * prob_guess)\n",
    "        isCorrect = pyro.sample(\"isCorrect{}\".format(q), dist.Bernoulli(prob_correct).to_event(1), obs=graded_responses[q])"
   ]
  },
  {
   "cell_type": "code",
   "execution_count": 5,
   "id": "a0fa1a46-8d8b-4cda-858b-2f959bf4e9af",
   "metadata": {},
   "outputs": [],
   "source": [
    "def guide(graded_responses, skills_needed: List[List[int]], prob_mistake=0.1, prob_guess=0.2):\n",
    "    _, n_participants = graded_responses.shape\n",
    "    n_skills = max(map(max, skills_needed)) + 1\n",
    "    \n",
    "    skill_p = pyro.param(\"skill_p\", 0.5 * torch.ones(n_skills,n_participants), constraint=constraints.unit_interval)\n",
    "    \n",
    "    with pyro.plate(\"participants_plate\", n_participants):\n",
    "        with pyro.plate(\"skills_plate\", n_skills):\n",
    "            skills = pyro.sample(\"skills\", dist.Bernoulli(skill_p))\n",
    "            \n",
    "    return skills, skill_p"
   ]
  },
  {
   "cell_type": "code",
   "execution_count": 6,
   "id": "8af2b9cb-e78a-4a11-a5d3-3f2005ed0e25",
   "metadata": {},
   "outputs": [
    {
     "data": {
      "text/plain": [
       "(tensor([[1., 0., 1., 1., 1., 0., 1., 0.],\n",
       "         [1., 0., 1., 1., 1., 1., 1., 0.]]),\n",
       " tensor([[0.5000, 0.5000, 0.5000, 0.5000, 0.5000, 0.5000, 0.5000, 0.5000],\n",
       "         [0.5000, 0.5000, 0.5000, 0.5000, 0.5000, 0.5000, 0.5000, 0.5000]],\n",
       "        grad_fn=<ClampBackward1>))"
      ]
     },
     "execution_count": 6,
     "metadata": {},
     "output_type": "execute_result"
    }
   ],
   "source": [
    "# smoke test for guide\n",
    "guide(responses_check, skills_needed_check)"
   ]
  },
  {
   "cell_type": "code",
   "execution_count": 7,
   "id": "eb98441f-50a5-4a17-a5ed-1b1649c481d5",
   "metadata": {},
   "outputs": [],
   "source": [
    "adam_params = {\"lr\": 0.05, \"betas\": (0.9, 0.999)}\n",
    "optimizer = pyro.optim.Adam(adam_params)"
   ]
  },
  {
   "cell_type": "code",
   "execution_count": 8,
   "id": "932b373c-5a17-46d1-8fec-2675843207a5",
   "metadata": {},
   "outputs": [],
   "source": [
    "pyro.clear_param_store()\n",
    "svi = pyro.infer.SVI(model=model, guide=guide, optim=optimizer, loss=pyro.infer.Trace_ELBO())\n",
    "\n",
    "losses, skills_svi = [], []\n",
    "for t in range(10_000):\n",
    "    losses.append(svi.step(responses_check, skills_needed_check))\n",
    "    skills_svi.append(pyro.param(\"skill_p\"))"
   ]
  },
  {
   "cell_type": "code",
   "execution_count": 9,
   "id": "54cca8cf-db29-44c4-8070-2031dce4ee56",
   "metadata": {},
   "outputs": [],
   "source": [
    "d = pyro.get_param_store()"
   ]
  },
  {
   "cell_type": "code",
   "execution_count": 10,
   "id": "32db0c56-5d5e-4e06-b8f1-59fa9d27137f",
   "metadata": {},
   "outputs": [
    {
     "data": {
      "text/plain": [
       "array([[0.51249737, 0.51249737, 0.48750263, ..., 0.51249737, 0.48750263,\n",
       "        0.51249737],\n",
       "       [0.5111439 , 0.5111439 , 0.4750087 , ..., 0.5249913 , 0.48885608,\n",
       "        0.5249913 ],\n",
       "       [0.5067726 , 0.5067726 , 0.4694806 , ..., 0.5371534 , 0.49322742,\n",
       "        0.5305194 ],\n",
       "       ...,\n",
       "       [0.07945157, 0.940372  , 0.02209679, ..., 0.8843498 , 0.35367662,\n",
       "        0.9886127 ],\n",
       "       [0.07912742, 0.9399194 , 0.02226795, ..., 0.8837418 , 0.35083267,\n",
       "        0.98854584],\n",
       "       [0.07893684, 0.93944186, 0.02244011, ..., 0.8830483 , 0.34681496,\n",
       "        0.98847884]], dtype=float32)"
      ]
     },
     "execution_count": 10,
     "metadata": {},
     "output_type": "execute_result"
    }
   ],
   "source": [
    "res_skill_0 = torch.vstack([s[0] for s in skills_svi])\n",
    "res_skill_0 = res_skill_0.detach().numpy()\n",
    "res_skill_0"
   ]
  },
  {
   "cell_type": "code",
   "execution_count": 11,
   "id": "75a479c5-b3e2-4fcb-b471-1a326b6cd544",
   "metadata": {},
   "outputs": [
    {
     "data": {
      "text/plain": [
       "<matplotlib.legend.Legend at 0x7f647faa8a00>"
      ]
     },
     "execution_count": 11,
     "metadata": {},
     "output_type": "execute_result"
    },
    {
     "data": {
      "image/png": "[encoded data removed]",
      "text/plain": [
       "<Figure size 432x288 with 2 Axes>"
      ]
     },
     "metadata": {
      "needs_background": "light"
     },
     "output_type": "display_data"
    }
   ],
   "source": [
    "plt.subplot(1,2,1)\n",
    "plt.semilogy(losses)\n",
    "\n",
    "ax2 = plt.subplot(1,2,2)\n",
    "for n in range(8):\n",
    "    plt.plot(res_skill_0[:,n], label=str(n))\n",
    "    \n",
    "plt.legend()"
   ]
  },
  {
   "cell_type": "code",
   "execution_count": 12,
   "id": "dec8fb9a-9b91-42fc-9911-de2cd5506548",
   "metadata": {},
   "outputs": [
    {
     "data": {
      "text/plain": [
       "array([[0.48750263, 0.51249737, 0.51249737, ..., 0.48750263, 0.48750263,\n",
       "        0.51249737],\n",
       "       [0.48885608, 0.5111439 , 0.5249913 , ..., 0.4750087 , 0.48885608,\n",
       "        0.5249913 ],\n",
       "       [0.49322742, 0.5067726 , 0.5305194 , ..., 0.4694806 , 0.48624858,\n",
       "        0.5371534 ],\n",
       "       ...,\n",
       "       [0.05672815, 0.00344691, 0.8466699 , ..., 0.08960518, 0.84103084,\n",
       "        0.8718411 ],\n",
       "       [0.05604482, 0.00341778, 0.84697336, ..., 0.08976293, 0.83969796,\n",
       "        0.8731921 ],\n",
       "       [0.05550299, 0.00339268, 0.84697396, ..., 0.09000763, 0.83818406,\n",
       "        0.8741439 ]], dtype=float32)"
      ]
     },
     "execution_count": 12,
     "metadata": {},
     "output_type": "execute_result"
    }
   ],
   "source": [
    "res_skill_1 = torch.vstack([s[1] for s in skills_svi])\n",
    "res_skill_1 = res_skill_1.detach().numpy()\n",
    "res_skill_1"
   ]
  },
  {
   "cell_type": "code",
   "execution_count": 13,
   "id": "1c842b96-bf0f-452d-a937-f9c2335fa726",
   "metadata": {},
   "outputs": [
    {
     "data": {
      "text/plain": [
       "<matplotlib.legend.Legend at 0x7f647f7d6790>"
      ]
     },
     "execution_count": 13,
     "metadata": {},
     "output_type": "execute_result"
    },
    {
     "data": {
      "image/png": "[encoded data removed]",
      "text/plain": [
       "<Figure size 432x288 with 2 Axes>"
      ]
     },
     "metadata": {
      "needs_background": "light"
     },
     "output_type": "display_data"
    }
   ],
   "source": [
    "# same loss, skill_02\n",
    "plt.subplot(1,2,1)\n",
    "plt.semilogy(losses)\n",
    "\n",
    "ax2 = plt.subplot(1,2,2)\n",
    "for n in range(8):\n",
    "    plt.plot(res_skill_1[:,n], label=str(n))\n",
    "    \n",
    "plt.legend()"
   ]
  },
  {
   "cell_type": "markdown",
   "id": "75e7dd62-d4fd-477b-98bf-c38b7fc44adf",
   "metadata": {},
   "source": [
    "## Expected Answer"
   ]
  },
  {
   "cell_type": "code",
   "execution_count": 14,
   "id": "9d60f757-acd5-449b-ba79-ac0e9adc82d4",
   "metadata": {},
   "outputs": [
    {
     "data": {
      "text/html": [
       "<div>\n",
       "<style scoped>\n",
       "    .dataframe tbody tr th:only-of-type {\n",
       "        vertical-align: middle;\n",
       "    }\n",
       "\n",
       "    .dataframe tbody tr th {\n",
       "        vertical-align: top;\n",
       "    }\n",
       "\n",
       "    .dataframe thead th {\n",
       "        text-align: right;\n",
       "    }\n",
       "</style>\n",
       "<table border=\"1\" class=\"dataframe\">\n",
       "  <thead>\n",
       "    <tr style=\"text-align: right;\">\n",
       "      <th></th>\n",
       "      <th>IsCorrect1</th>\n",
       "      <th>IsCorrect2</th>\n",
       "      <th>IsCorrect2</th>\n",
       "      <th>P(csharp)</th>\n",
       "      <th>P(sql)</th>\n",
       "    </tr>\n",
       "  </thead>\n",
       "  <tbody>\n",
       "    <tr>\n",
       "      <th>0</th>\n",
       "      <td>False</td>\n",
       "      <td>False</td>\n",
       "      <td>False</td>\n",
       "      <td>0.101</td>\n",
       "      <td>0.101</td>\n",
       "    </tr>\n",
       "    <tr>\n",
       "      <th>1</th>\n",
       "      <td>True</td>\n",
       "      <td>False</td>\n",
       "      <td>False</td>\n",
       "      <td>0.802</td>\n",
       "      <td>0.034</td>\n",
       "    </tr>\n",
       "    <tr>\n",
       "      <th>2</th>\n",
       "      <td>False</td>\n",
       "      <td>True</td>\n",
       "      <td>False</td>\n",
       "      <td>0.034</td>\n",
       "      <td>0.802</td>\n",
       "    </tr>\n",
       "    <tr>\n",
       "      <th>3</th>\n",
       "      <td>True</td>\n",
       "      <td>True</td>\n",
       "      <td>False</td>\n",
       "      <td>0.561</td>\n",
       "      <td>0.561</td>\n",
       "    </tr>\n",
       "    <tr>\n",
       "      <th>4</th>\n",
       "      <td>False</td>\n",
       "      <td>False</td>\n",
       "      <td>True</td>\n",
       "      <td>0.148</td>\n",
       "      <td>0.148</td>\n",
       "    </tr>\n",
       "    <tr>\n",
       "      <th>5</th>\n",
       "      <td>True</td>\n",
       "      <td>False</td>\n",
       "      <td>True</td>\n",
       "      <td>0.862</td>\n",
       "      <td>0.326</td>\n",
       "    </tr>\n",
       "    <tr>\n",
       "      <th>6</th>\n",
       "      <td>False</td>\n",
       "      <td>True</td>\n",
       "      <td>True</td>\n",
       "      <td>0.326</td>\n",
       "      <td>0.862</td>\n",
       "    </tr>\n",
       "    <tr>\n",
       "      <th>7</th>\n",
       "      <td>True</td>\n",
       "      <td>True</td>\n",
       "      <td>True</td>\n",
       "      <td>0.946</td>\n",
       "      <td>0.946</td>\n",
       "    </tr>\n",
       "  </tbody>\n",
       "</table>\n",
       "</div>"
      ],
      "text/plain": [
       "   IsCorrect1  IsCorrect2  IsCorrect2  P(csharp)  P(sql)\n",
       "0       False       False       False      0.101   0.101\n",
       "1        True       False       False      0.802   0.034\n",
       "2       False        True       False      0.034   0.802\n",
       "3        True        True       False      0.561   0.561\n",
       "4       False       False        True      0.148   0.148\n",
       "5        True       False        True      0.862   0.326\n",
       "6       False        True        True      0.326   0.862\n",
       "7        True        True        True      0.946   0.946"
      ]
     },
     "execution_count": 14,
     "metadata": {},
     "output_type": "execute_result"
    }
   ],
   "source": [
    "expected = pd.DataFrame(\n",
    "    [\n",
    "        (False, False, False, 0.101, 0.101),\n",
    "        (True, False, False, 0.802, 0.034),\n",
    "        (False, True, False, 0.034, 0.802),\n",
    "        (True, True, False, 0.561, 0.561),\n",
    "        (False, False, True, 0.148, 0.148),\n",
    "        (True, False, True, 0.862, 0.326),\n",
    "        (False, True, True, 0.326, 0.862),\n",
    "        (True, True, True, 0.946, 0.946),\n",
    "    ],\n",
    "    columns=[\"IsCorrect1\", \"IsCorrect2\", \"IsCorrect2\", \"P(csharp)\", \"P(sql)\"],\n",
    ")\n",
    "expected"
   ]
  },
  {
   "cell_type": "code",
   "execution_count": 15,
   "id": "1a8bf177-0acd-416f-a465-105821489e3c",
   "metadata": {},
   "outputs": [],
   "source": [
    "expected[\"SVI skill_01 P(csharp)\"] = res_skill_0[-1, :]\n",
    "expected[\"SVI skill_02 P(sql)\"] = res_skill_1[-1, :]"
   ]
  },
  {
   "cell_type": "code",
   "execution_count": 16,
   "id": "7948730d-2ed9-4257-b7d7-81bf2addebc6",
   "metadata": {},
   "outputs": [
    {
     "data": {
      "text/html": [
       "<div>\n",
       "<style scoped>\n",
       "    .dataframe tbody tr th:only-of-type {\n",
       "        vertical-align: middle;\n",
       "    }\n",
       "\n",
       "    .dataframe tbody tr th {\n",
       "        vertical-align: top;\n",
       "    }\n",
       "\n",
       "    .dataframe thead th {\n",
       "        text-align: right;\n",
       "    }\n",
       "</style>\n",
       "<table border=\"1\" class=\"dataframe\">\n",
       "  <thead>\n",
       "    <tr style=\"text-align: right;\">\n",
       "      <th></th>\n",
       "      <th>IsCorrect1</th>\n",
       "      <th>IsCorrect2</th>\n",
       "      <th>IsCorrect2</th>\n",
       "      <th>P(csharp)</th>\n",
       "      <th>P(sql)</th>\n",
       "      <th>SVI skill_01 P(csharp)</th>\n",
       "      <th>SVI skill_02 P(sql)</th>\n",
       "    </tr>\n",
       "  </thead>\n",
       "  <tbody>\n",
       "    <tr>\n",
       "      <th>0</th>\n",
       "      <td>False</td>\n",
       "      <td>False</td>\n",
       "      <td>False</td>\n",
       "      <td>0.101</td>\n",
       "      <td>0.101</td>\n",
       "      <td>0.078937</td>\n",
       "      <td>0.055503</td>\n",
       "    </tr>\n",
       "    <tr>\n",
       "      <th>1</th>\n",
       "      <td>True</td>\n",
       "      <td>False</td>\n",
       "      <td>False</td>\n",
       "      <td>0.802</td>\n",
       "      <td>0.034</td>\n",
       "      <td>0.939442</td>\n",
       "      <td>0.003393</td>\n",
       "    </tr>\n",
       "    <tr>\n",
       "      <th>2</th>\n",
       "      <td>False</td>\n",
       "      <td>True</td>\n",
       "      <td>False</td>\n",
       "      <td>0.034</td>\n",
       "      <td>0.802</td>\n",
       "      <td>0.022440</td>\n",
       "      <td>0.846974</td>\n",
       "    </tr>\n",
       "    <tr>\n",
       "      <th>3</th>\n",
       "      <td>True</td>\n",
       "      <td>True</td>\n",
       "      <td>False</td>\n",
       "      <td>0.561</td>\n",
       "      <td>0.561</td>\n",
       "      <td>0.547225</td>\n",
       "      <td>0.868830</td>\n",
       "    </tr>\n",
       "    <tr>\n",
       "      <th>4</th>\n",
       "      <td>False</td>\n",
       "      <td>False</td>\n",
       "      <td>True</td>\n",
       "      <td>0.148</td>\n",
       "      <td>0.148</td>\n",
       "      <td>0.034718</td>\n",
       "      <td>0.023729</td>\n",
       "    </tr>\n",
       "    <tr>\n",
       "      <th>5</th>\n",
       "      <td>True</td>\n",
       "      <td>False</td>\n",
       "      <td>True</td>\n",
       "      <td>0.862</td>\n",
       "      <td>0.326</td>\n",
       "      <td>0.883048</td>\n",
       "      <td>0.090008</td>\n",
       "    </tr>\n",
       "    <tr>\n",
       "      <th>6</th>\n",
       "      <td>False</td>\n",
       "      <td>True</td>\n",
       "      <td>True</td>\n",
       "      <td>0.326</td>\n",
       "      <td>0.862</td>\n",
       "      <td>0.346815</td>\n",
       "      <td>0.838184</td>\n",
       "    </tr>\n",
       "    <tr>\n",
       "      <th>7</th>\n",
       "      <td>True</td>\n",
       "      <td>True</td>\n",
       "      <td>True</td>\n",
       "      <td>0.946</td>\n",
       "      <td>0.946</td>\n",
       "      <td>0.988479</td>\n",
       "      <td>0.874144</td>\n",
       "    </tr>\n",
       "  </tbody>\n",
       "</table>\n",
       "</div>"
      ],
      "text/plain": [
       "   IsCorrect1  IsCorrect2  IsCorrect2  P(csharp)  P(sql)  \\\n",
       "0       False       False       False      0.101   0.101   \n",
       "1        True       False       False      0.802   0.034   \n",
       "2       False        True       False      0.034   0.802   \n",
       "3        True        True       False      0.561   0.561   \n",
       "4       False       False        True      0.148   0.148   \n",
       "5        True       False        True      0.862   0.326   \n",
       "6       False        True        True      0.326   0.862   \n",
       "7        True        True        True      0.946   0.946   \n",
       "\n",
       "   SVI skill_01 P(csharp)  SVI skill_02 P(sql)  \n",
       "0                0.078937             0.055503  \n",
       "1                0.939442             0.003393  \n",
       "2                0.022440             0.846974  \n",
       "3                0.547225             0.868830  \n",
       "4                0.034718             0.023729  \n",
       "5                0.883048             0.090008  \n",
       "6                0.346815             0.838184  \n",
       "7                0.988479             0.874144  "
      ]
     },
     "execution_count": 16,
     "metadata": {},
     "output_type": "execute_result"
    }
   ],
   "source": [
    "expected"
   ]
  }
 ],
 "metadata": {
  "jupytext": {
   "formats": "ipynb,py"
  },
  "kernelspec": {
   "display_name": "Python [conda env:numpyro_play]",
   "language": "python",
   "name": "conda-env-numpyro_play-py"
  },
  "language_info": {
   "codemirror_mode": {
    "name": "ipython",
    "version": 3
   },
   "file_extension": ".py",
   "mimetype": "text/x-python",
   "name": "python",
   "nbconvert_exporter": "python",
   "pygments_lexer": "ipython3",
   "version": "3.8.10"
  }
 },
 "nbformat": 4,
 "nbformat_minor": 5
}
