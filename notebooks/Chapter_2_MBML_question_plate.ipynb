{
 "cells": [
  {
   "cell_type": "markdown",
   "id": "55d8f618-8379-4e99-9e8a-0ba6ce410e45",
   "metadata": {},
   "source": [
    "# Purpose\n",
    "* Working through the question plate for chapter 2 of MBML"
   ]
  },
  {
   "cell_type": "code",
   "execution_count": 1,
   "id": "0cfe9fcc-c9c7-482a-9d38-fb6f8ee8e362",
   "metadata": {},
   "outputs": [],
   "source": [
    "import operator\n",
    "from functools import reduce\n",
    "from typing import Callable, Dict, List\n",
    "\n",
    "import arviz as az\n",
    "import jax\n",
    "import jax.numpy as jnp\n",
    "import matplotlib.pyplot as plt\n",
    "import numpy as np\n",
    "import pandas as pd\n",
    "import scipy.stats\n",
    "from jax.scipy.special import logsumexp\n",
    "\n",
    "import numpyro\n",
    "import numpyro.distributions as dist\n",
    "from numpyro.infer import MCMC, NUTS, DiscreteHMCGibbs, log_likelihood\n",
    "from numpyro.infer.util import log_density, potential_energy"
   ]
  },
  {
   "cell_type": "code",
   "execution_count": 2,
   "id": "d50a273a-fbe5-4989-aca5-fc5dacf1133c",
   "metadata": {},
   "outputs": [],
   "source": [
    "%matplotlib inline\n",
    "%reload_ext autoreload\n",
    "%autoreload 2\n",
    "%load_ext watermark"
   ]
  },
  {
   "cell_type": "code",
   "execution_count": 3,
   "id": "b5caf874-6fe1-417e-bb88-b4ebf730a149",
   "metadata": {},
   "outputs": [
    {
     "name": "stdout",
     "output_type": "stream",
     "text": [
      "Python implementation: CPython\n",
      "Python version       : 3.8.11\n",
      "IPython version      : 7.18.1\n",
      "\n",
      "arviz     : 0.11.2\n",
      "jax       : 0.2.19\n",
      "matplotlib: 3.4.3\n",
      "numpy     : 1.20.3\n",
      "pandas    : 1.3.2\n",
      "scipy     : 1.6.2\n",
      "numpyro   : 0.7.2\n",
      "\n",
      "Compiler    : GCC 7.5.0\n",
      "OS          : Linux\n",
      "Release     : 4.19.193-1-MANJARO\n",
      "Machine     : x86_64\n",
      "Processor   : \n",
      "CPU cores   : 4\n",
      "Architecture: 64bit\n",
      "\n"
     ]
    }
   ],
   "source": [
    "%watermark -v -m -p arviz,jax,matplotlib,numpy,pandas,scipy,numpyro"
   ]
  },
  {
   "cell_type": "code",
   "execution_count": 4,
   "id": "1fae18d2-6a58-4c4b-8e84-a0821f4d2ffc",
   "metadata": {},
   "outputs": [
    {
     "name": "stdout",
     "output_type": "stream",
     "text": [
      "Git hash: 307321cc497d1542d2908d60950823b102b16219\n",
      "\n",
      "Git branch: master\n",
      "\n"
     ]
    }
   ],
   "source": [
    "%watermark -gb"
   ]
  },
  {
   "cell_type": "code",
   "execution_count": 5,
   "id": "28403213-4569-4d74-9ecf-00bb85dae020",
   "metadata": {},
   "outputs": [],
   "source": [
    "rng_key = jax.random.PRNGKey(2)"
   ]
  },
  {
   "cell_type": "markdown",
   "id": "ad734bd6-ceae-4b94-a7a5-c6761ef56aff",
   "metadata": {},
   "source": [
    "### Get Data"
   ]
  },
  {
   "cell_type": "code",
   "execution_count": 6,
   "id": "44ffa093-ef7c-4a54-a642-76f7c77309fd",
   "metadata": {},
   "outputs": [],
   "source": [
    "raw_data = pd.read_csv(\n",
    "    \"http://www.mbmlbook.com/Downloads/LearningSkills_Real_Data_Experiments-Original-Inputs-RawResponsesAsDictionary.csv\"\n",
    ")\n",
    "self_assessed = raw_data.iloc[1:, 1:8].copy()\n",
    "self_assessed = self_assessed.astype(int)\n",
    "\n",
    "skills_key = pd.read_csv(\n",
    "    \"http://www.mbmlbook.com/Downloads/LearningSkills_Real_Data_Experiments-Original-Inputs-Quiz-SkillsQuestionsMask.csv\",\n",
    "    header=None,\n",
    ")\n",
    "skills_needed = []\n",
    "for index, row in skills_key.iterrows():\n",
    "    skills_needed.append([i for i, x in enumerate(row) if x])\n",
    "\n",
    "responses = pd.read_csv(\n",
    "    \"http://www.mbmlbook.com/Downloads/LearningSkills_Real_Data_Experiments-Original-Inputs-IsCorrect.csv\",\n",
    "    header=None,\n",
    ")\n",
    "\n",
    "responses = responses.astype(\"int32\")"
   ]
  },
  {
   "cell_type": "code",
   "execution_count": 7,
   "id": "c930f962-c999-405f-a149-364de69f90ea",
   "metadata": {},
   "outputs": [],
   "source": [
    "def model_03(\n",
    "    graded_responses, skills_needed: np.array, prob_mistake=0.1, prob_guess=0.2\n",
    "):\n",
    "    assert graded_responses.shape[0] == skills_needed.shape[0]\n",
    "    n_questions, n_participants = graded_responses.shape\n",
    "    n_skills = skills_needed.shape[1]\n",
    "\n",
    "    questions_plate = numpyro.plate(\"questions_plate\", n_questions)\n",
    "\n",
    "    # skills.shape == (n_participants, n_skills)\n",
    "    with numpyro.plate(\"participants_plate\", n_participants, dim=-2):\n",
    "        with numpyro.plate(\"skills_plate\", n_skills):\n",
    "            skills = numpyro.sample(\"skill\", dist.Bernoulli(0.5))\n",
    "\n",
    "    with questions_plate:\n",
    "        # shape: people x questions x skills\n",
    "        # astype(bool) is needed for the log density\n",
    "        relevant_skills = skills[:, None, :].astype(bool) | (~skills_needed)\n",
    "        # shape: people x questions\n",
    "        has_skill = jnp.all(relevant_skills, -1)\n",
    "        prob_correct = has_skill * (1 - prob_mistake) + (1 - has_skill) * prob_guess\n",
    "        is_correct = numpyro.sample(\n",
    "            \"isCorrect\", dist.Bernoulli(prob_correct), obs=graded_responses.T\n",
    "        )"
   ]
  },
  {
   "cell_type": "code",
   "execution_count": 8,
   "id": "a94f6761-c121-40ae-b4d3-fd089a339eae",
   "metadata": {},
   "outputs": [
    {
     "data": {
      "image/svg+xml": [
       "<?xml version=\"1.0\" encoding=\"UTF-8\" standalone=\"no\"?>\n",
       "<!DOCTYPE svg PUBLIC \"-//W3C//DTD SVG 1.1//EN\"\n",
       " \"http://www.w3.org/Graphics/SVG/1.1/DTD/svg11.dtd\">\n",
       "<!-- Generated by graphviz version 2.47.2 (0)\n",
       " -->\n",
       "<!-- Pages: 1 -->\n",
       "<svg width=\"385pt\" height=\"221pt\"\n",
       " viewBox=\"0.00 0.00 385.00 221.00\" xmlns=\"http://www.w3.org/2000/svg\" xmlns:xlink=\"http://www.w3.org/1999/xlink\">\n",
       "<g id=\"graph0\" class=\"graph\" transform=\"scale(1 1) rotate(0) translate(4 217)\">\n",
       "<polygon fill=\"white\" stroke=\"transparent\" points=\"-4,4 -4,-217 381,-217 381,4 -4,4\"/>\n",
       "<g id=\"clust1\" class=\"cluster\">\n",
       "<title>cluster_questions_plate</title>\n",
       "<polygon fill=\"none\" stroke=\"black\" points=\"8,-8 8,-83 136,-83 136,-8 8,-8\"/>\n",
       "<text text-anchor=\"middle\" x=\"72\" y=\"-15.8\" font-family=\"Times,serif\" font-size=\"14.00\">questions_plate</text>\n",
       "</g>\n",
       "<g id=\"clust2\" class=\"cluster\">\n",
       "<title>cluster_participants_plate</title>\n",
       "<polygon fill=\"none\" stroke=\"black\" points=\"13,-91 13,-205 159,-205 159,-91 13,-91\"/>\n",
       "<text text-anchor=\"middle\" x=\"86\" y=\"-98.8\" font-family=\"Times,serif\" font-size=\"14.00\">participants_plate</text>\n",
       "</g>\n",
       "<g id=\"clust3\" class=\"cluster\">\n",
       "<title>cluster_skills_plate</title>\n",
       "<polygon fill=\"none\" stroke=\"black\" points=\"30,-122 30,-197 126,-197 126,-122 30,-122\"/>\n",
       "<text text-anchor=\"middle\" x=\"78\" y=\"-129.8\" font-family=\"Times,serif\" font-size=\"14.00\">skills_plate</text>\n",
       "</g>\n",
       "<!-- isCorrect -->\n",
       "<g id=\"node1\" class=\"node\">\n",
       "<title>isCorrect</title>\n",
       "<ellipse fill=\"grey\" stroke=\"black\" cx=\"72\" cy=\"-57\" rx=\"53.89\" ry=\"18\"/>\n",
       "<text text-anchor=\"middle\" x=\"72\" y=\"-53.3\" font-family=\"Times,serif\" font-size=\"14.00\">isCorrect</text>\n",
       "</g>\n",
       "<!-- skill -->\n",
       "<g id=\"node2\" class=\"node\">\n",
       "<title>skill</title>\n",
       "<ellipse fill=\"white\" stroke=\"black\" cx=\"72\" cy=\"-171\" rx=\"29.8\" ry=\"18\"/>\n",
       "<text text-anchor=\"middle\" x=\"72\" y=\"-167.3\" font-family=\"Times,serif\" font-size=\"14.00\">skill</text>\n",
       "</g>\n",
       "<!-- skill&#45;&gt;isCorrect -->\n",
       "<g id=\"edge1\" class=\"edge\">\n",
       "<title>skill&#45;&gt;isCorrect</title>\n",
       "<path fill=\"none\" stroke=\"black\" d=\"M72,-152.99C72,-135.06 72,-106.56 72,-85.44\"/>\n",
       "<polygon fill=\"black\" stroke=\"black\" points=\"75.5,-85.17 72,-75.17 68.5,-85.17 75.5,-85.17\"/>\n",
       "</g>\n",
       "<!-- distribution_description_node -->\n",
       "<g id=\"node3\" class=\"node\">\n",
       "<title>distribution_description_node</title>\n",
       "<text text-anchor=\"start\" x=\"175\" y=\"-174.8\" font-family=\"Times,serif\" font-size=\"14.00\">skill ~ BernoulliProbs</text>\n",
       "<text text-anchor=\"start\" x=\"175\" y=\"-159.8\" font-family=\"Times,serif\" font-size=\"14.00\">isCorrect ~ BernoulliProbs</text>\n",
       "</g>\n",
       "</g>\n",
       "</svg>\n"
      ],
      "text/plain": [
       "<graphviz.dot.Digraph at 0x7fe178487be0>"
      ]
     },
     "execution_count": 8,
     "metadata": {},
     "output_type": "execute_result"
    }
   ],
   "source": [
    "numpyro.render_model(\n",
    "    model_03,\n",
    "    (jnp.array(responses), jnp.array(skills_key.astype(bool))),\n",
    "    dict(prob_mistake=0.1),\n",
    "    render_distributions=True,\n",
    ")"
   ]
  },
  {
   "cell_type": "code",
   "execution_count": 9,
   "id": "b5d3a7a3-1139-44de-996d-c8e58d49e8b8",
   "metadata": {},
   "outputs": [
    {
     "name": "stderr",
     "output_type": "stream",
     "text": [
      "/home/benda/anaconda3/envs/numpyro_play/lib/python3.8/site-packages/numpyro/infer/mcmc.py:269: UserWarning: There are not enough devices to run parallel chains: expected 4 but got 1. Chains will be drawn sequentially. If you are running MCMC in CPU, consider using `numpyro.set_host_device_count(4)` at the beginning of your program. You can double-check how many devices are available in your system using `jax.local_device_count()`.\n",
      "  warnings.warn(\n",
      "sample: 100%|██████████| 1200/1200 [00:07<00:00, 156.92it/s, 1 steps of size 1.18e+37. acc. prob=1.00]\n",
      "sample: 100%|██████████| 1200/1200 [00:02<00:00, 529.09it/s, 1 steps of size 1.18e+37. acc. prob=1.00]\n",
      "sample: 100%|██████████| 1200/1200 [00:02<00:00, 590.51it/s, 1 steps of size 1.18e+37. acc. prob=1.00]\n",
      "sample: 100%|██████████| 1200/1200 [00:02<00:00, 525.62it/s, 1 steps of size 1.18e+37. acc. prob=1.00]\n"
     ]
    },
    {
     "name": "stdout",
     "output_type": "stream",
     "text": [
      "\n",
      "                 mean       std    median      5.0%     95.0%     n_eff     r_hat\n",
      " skill[0,0]      1.00      0.00      1.00      1.00      1.00       nan       nan\n",
      " skill[0,1]      1.00      0.00      1.00      1.00      1.00       nan       nan\n",
      " skill[0,2]      0.98      0.13      1.00      1.00      1.00   4007.27      1.00\n",
      " skill[0,3]      0.99      0.09      1.00      1.00      1.00   3523.86      1.00\n",
      " skill[0,4]      1.00      0.00      1.00      1.00      1.00       nan       nan\n",
      " skill[0,5]      1.00      0.00      1.00      1.00      1.00       nan       nan\n",
      " skill[0,6]      1.00      0.00      1.00      1.00      1.00       nan       nan\n",
      " skill[1,0]      1.00      0.00      1.00      1.00      1.00       nan       nan\n",
      " skill[1,1]      1.00      0.05      1.00      1.00      1.00   4027.48      1.00\n",
      " skill[1,2]      0.59      0.49      1.00      0.00      1.00  21255.70      1.00\n",
      " skill[1,3]      0.99      0.09      1.00      1.00      1.00   3855.32      1.00\n",
      " skill[1,4]      0.16      0.36      0.00      0.00      1.00   6398.46      1.00\n",
      " skill[1,5]      0.00      0.00      0.00      0.00      0.00       nan       nan\n",
      " skill[1,6]      0.99      0.10      1.00      1.00      1.00   4091.70      1.00\n",
      " skill[2,0]      0.01      0.12      0.00      0.00      0.00   4119.50      1.00\n",
      " skill[2,1]      0.00      0.06      0.00      0.00      0.00   4034.74      1.00\n",
      " skill[2,2]      0.04      0.20      0.00      0.00      0.00   4399.36      1.00\n",
      " skill[2,3]      0.99      0.09      1.00      1.00      1.00   3802.22      1.00\n",
      " skill[2,4]      0.59      0.49      1.00      0.00      1.00  29538.31      1.00\n",
      " skill[2,5]      0.78      0.42      1.00      0.00      1.00   7515.12      1.00\n",
      " skill[2,6]      0.49      0.50      0.00      0.00      1.00  -7988.59      1.00\n",
      " skill[3,0]      1.00      0.00      1.00      1.00      1.00       nan       nan\n",
      " skill[3,1]      1.00      0.00      1.00      1.00      1.00       nan       nan\n",
      " skill[3,2]      0.59      0.49      1.00      0.00      1.00  22782.84      1.00\n",
      " skill[3,3]      0.99      0.10      1.00      1.00      1.00   3829.47      1.00\n",
      " skill[3,4]      0.14      0.35      0.00      0.00      1.00   5478.77      1.00\n",
      " skill[3,5]      0.99      0.09      1.00      1.00      1.00   4080.44      1.00\n",
      " skill[3,6]      1.00      0.00      1.00      1.00      1.00       nan       nan\n",
      " skill[4,0]      1.00      0.00      1.00      1.00      1.00       nan       nan\n",
      " skill[4,1]      1.00      0.00      1.00      1.00      1.00       nan       nan\n",
      " skill[4,2]      0.98      0.13      1.00      1.00      1.00   4160.78      1.00\n",
      " skill[4,3]      0.78      0.41      1.00      0.00      1.00   6547.16      1.00\n",
      " skill[4,4]      1.00      0.00      1.00      1.00      1.00       nan       nan\n",
      " skill[4,5]      0.99      0.10      1.00      1.00      1.00   3859.70      1.00\n",
      " skill[4,6]      1.00      0.00      1.00      1.00      1.00       nan       nan\n",
      " skill[5,0]      0.00      0.00      0.00      0.00      0.00       nan       nan\n",
      " skill[5,1]      0.00      0.06      0.00      0.00      0.00   4038.41      1.00\n",
      " skill[5,2]      0.00      0.00      0.00      0.00      0.00       nan       nan\n",
      " skill[5,3]      0.00      0.00      0.00      0.00      0.00       nan       nan\n",
      " skill[5,4]      0.00      0.03      0.00      0.00      0.00       nan      1.00\n",
      " skill[5,5]      0.00      0.00      0.00      0.00      0.00       nan       nan\n",
      " skill[5,6]      0.50      0.50      0.00      0.00      1.00  -4834.32      1.00\n",
      " skill[6,0]      1.00      0.00      1.00      1.00      1.00       nan       nan\n",
      " skill[6,1]      1.00      0.00      1.00      1.00      1.00       nan       nan\n",
      " skill[6,2]      0.98      0.15      1.00      1.00      1.00   4195.02      1.00\n",
      " skill[6,3]      0.99      0.08      1.00      1.00      1.00   4055.22      1.00\n",
      " skill[6,4]      1.00      0.06      1.00      1.00      1.00   3579.01      1.00\n",
      " skill[6,5]      1.00      0.00      1.00      1.00      1.00       nan       nan\n",
      " skill[6,6]      1.00      0.00      1.00      1.00      1.00       nan       nan\n",
      " skill[7,0]      1.00      0.03      1.00      1.00      1.00       nan      1.00\n",
      " skill[7,1]      1.00      0.00      1.00      1.00      1.00       nan       nan\n",
      " skill[7,2]      1.00      0.02      1.00      1.00      1.00       nan      1.00\n",
      " skill[7,3]      0.79      0.41      1.00      0.00      1.00   6567.00      1.00\n",
      " skill[7,4]      0.15      0.36      0.00      0.00      1.00   4806.60      1.00\n",
      " skill[7,5]      1.00      0.00      1.00      1.00      1.00       nan       nan\n",
      " skill[7,6]      1.00      0.00      1.00      1.00      1.00       nan       nan\n",
      " skill[8,0]      0.99      0.11      1.00      1.00      1.00   4117.96      1.00\n",
      " skill[8,1]      1.00      0.00      1.00      1.00      1.00       nan       nan\n",
      " skill[8,2]      0.98      0.13      1.00      1.00      1.00   3948.65      1.00\n",
      " skill[8,3]      1.00      0.00      1.00      1.00      1.00       nan       nan\n",
      " skill[8,4]      1.00      0.00      1.00      1.00      1.00       nan       nan\n",
      " skill[8,5]      1.00      0.02      1.00      1.00      1.00       nan      1.00\n",
      " skill[8,6]      1.00      0.00      1.00      1.00      1.00       nan       nan\n",
      " skill[9,0]      1.00      0.00      1.00      1.00      1.00       nan       nan\n",
      " skill[9,1]      1.00      0.00      1.00      1.00      1.00       nan       nan\n",
      " skill[9,2]      0.04      0.20      0.00      0.00      0.00   4393.49      1.00\n",
      " skill[9,3]      1.00      0.02      1.00      1.00      1.00       nan      1.00\n",
      " skill[9,4]      1.00      0.02      1.00      1.00      1.00       nan      1.00\n",
      " skill[9,5]      0.99      0.09      1.00      1.00      1.00   3623.58      1.00\n",
      " skill[9,6]      1.00      0.00      1.00      1.00      1.00       nan       nan\n",
      "skill[10,0]      1.00      0.00      1.00      1.00      1.00       nan       nan\n",
      "skill[10,1]      1.00      0.00      1.00      1.00      1.00       nan       nan\n",
      "skill[10,2]      0.58      0.49      1.00      0.00      1.00  29410.68      1.00\n",
      "skill[10,3]      1.00      0.00      1.00      1.00      1.00       nan       nan\n",
      "skill[10,4]      0.87      0.34      1.00      0.00      1.00   5665.24      1.00\n",
      "skill[10,5]      0.78      0.41      1.00      0.00      1.00   6876.10      1.00\n",
      "skill[10,6]      1.00      0.00      1.00      1.00      1.00       nan       nan\n",
      "skill[11,0]      0.97      0.16      1.00      1.00      1.00   4212.01      1.00\n",
      "skill[11,1]      0.94      0.24      1.00      1.00      1.00   3236.26      1.00\n",
      "skill[11,2]      0.98      0.13      1.00      1.00      1.00   3675.31      1.00\n",
      "skill[11,3]      0.00      0.04      0.00      0.00      0.00   4023.54      1.00\n",
      "skill[11,4]      0.99      0.07      1.00      1.00      1.00   4050.40      1.00\n",
      "skill[11,5]      0.00      0.04      0.00      0.00      0.00       nan      1.00\n",
      "skill[11,6]      0.10      0.29      0.00      0.00      0.00   2113.95      1.00\n",
      "skill[12,0]      1.00      0.00      1.00      1.00      1.00       nan       nan\n",
      "skill[12,1]      1.00      0.00      1.00      1.00      1.00       nan       nan\n",
      "skill[12,2]      0.98      0.14      1.00      1.00      1.00   4179.95      1.00\n",
      "skill[12,3]      0.99      0.09      1.00      1.00      1.00   3746.76      1.00\n",
      "skill[12,4]      0.87      0.34      1.00      0.00      1.00   5249.61      1.00\n",
      "skill[12,5]      1.00      0.02      1.00      1.00      1.00       nan      1.00\n",
      "skill[12,6]      1.00      0.00      1.00      1.00      1.00       nan       nan\n",
      "skill[13,0]      0.66      0.47      1.00      0.00      1.00  12244.52      1.00\n",
      "skill[13,1]      1.00      0.00      1.00      1.00      1.00       nan       nan\n",
      "skill[13,2]      0.98      0.14      1.00      1.00      1.00   4165.87      1.00\n",
      "skill[13,3]      0.99      0.09      1.00      1.00      1.00   4064.02      1.00\n",
      "skill[13,4]      0.15      0.36      0.00      0.00      1.00   5670.10      1.00\n",
      "skill[13,5]      0.78      0.41      1.00      0.00      1.00   7449.36      1.00\n",
      "skill[13,6]      0.99      0.09      1.00      1.00      1.00   3841.18      1.00\n",
      "skill[14,0]      1.00      0.04      1.00      1.00      1.00   4021.12      1.00\n",
      "skill[14,1]      0.96      0.19      1.00      1.00      1.00   3972.18      1.00\n",
      "skill[14,2]      0.59      0.49      1.00      0.00      1.00  22337.70      1.00\n",
      "skill[14,3]      0.99      0.09      1.00      1.00      1.00   4069.47      1.00\n",
      "skill[14,4]      0.86      0.34      1.00      0.00      1.00   5230.53      1.00\n",
      "skill[14,5]      1.00      0.02      1.00      1.00      1.00       nan      1.00\n",
      "skill[14,6]      0.99      0.12      1.00      1.00      1.00   3793.82      1.00\n",
      "skill[15,0]      1.00      0.00      1.00      1.00      1.00       nan       nan\n",
      "skill[15,1]      1.00      0.00      1.00      1.00      1.00       nan       nan\n",
      "skill[15,2]      0.59      0.49      1.00      0.00      1.00  27452.34      1.00\n",
      "skill[15,3]      1.00      0.02      1.00      1.00      1.00       nan      1.00\n",
      "skill[15,4]      0.86      0.35      1.00      0.00      1.00   5793.36      1.00\n",
      "skill[15,5]      1.00      0.00      1.00      1.00      1.00       nan       nan\n",
      "skill[15,6]      1.00      0.00      1.00      1.00      1.00       nan       nan\n",
      "skill[16,0]      1.00      0.00      1.00      1.00      1.00       nan       nan\n",
      "skill[16,1]      1.00      0.00      1.00      1.00      1.00       nan       nan\n",
      "skill[16,2]      0.59      0.49      1.00      0.00      1.00  28115.25      1.00\n",
      "skill[16,3]      0.99      0.09      1.00      1.00      1.00   3960.73      1.00\n",
      "skill[16,4]      1.00      0.06      1.00      1.00      1.00   4035.50      1.00\n",
      "skill[16,5]      1.00      0.02      1.00      1.00      1.00       nan      1.00\n",
      "skill[16,6]      1.00      0.00      1.00      1.00      1.00       nan       nan\n",
      "skill[17,0]      1.00      0.00      1.00      1.00      1.00       nan       nan\n",
      "skill[17,1]      1.00      0.00      1.00      1.00      1.00       nan       nan\n",
      "skill[17,2]      0.98      0.12      1.00      1.00      1.00   3978.82      1.00\n",
      "skill[17,3]      0.99      0.09      1.00      1.00      1.00   3907.57      1.00\n",
      "skill[17,4]      0.99      0.08      1.00      1.00      1.00   3851.72      1.00\n",
      "skill[17,5]      0.78      0.41      1.00      0.00      1.00   6662.39      1.00\n",
      "skill[17,6]      1.00      0.00      1.00      1.00      1.00       nan       nan\n",
      "skill[18,0]      1.00      0.02      1.00      1.00      1.00       nan      1.00\n",
      "skill[18,1]      1.00      0.02      1.00      1.00      1.00       nan      1.00\n",
      "skill[18,2]      0.98      0.14      1.00      1.00      1.00   4027.09      1.00\n",
      "skill[18,3]      1.00      0.02      1.00      1.00      1.00       nan      1.00\n",
      "skill[18,4]      0.87      0.34      1.00      0.00      1.00   5572.52      1.00\n",
      "skill[18,5]      0.79      0.41      1.00      0.00      1.00   6977.37      1.00\n",
      "skill[18,6]      0.99      0.12      1.00      1.00      1.00   3849.26      1.00\n",
      "skill[19,0]      1.00      0.00      1.00      1.00      1.00       nan       nan\n",
      "skill[19,1]      1.00      0.00      1.00      1.00      1.00       nan       nan\n",
      "skill[19,2]      1.00      0.02      1.00      1.00      1.00       nan      1.00\n",
      "skill[19,3]      1.00      0.02      1.00      1.00      1.00       nan      1.00\n",
      "skill[19,4]      1.00      0.05      1.00      1.00      1.00   4027.48      1.00\n",
      "skill[19,5]      1.00      0.00      1.00      1.00      1.00       nan       nan\n",
      "skill[19,6]      1.00      0.00      1.00      1.00      1.00       nan       nan\n",
      "skill[20,0]      1.00      0.00      1.00      1.00      1.00       nan       nan\n",
      "skill[20,1]      1.00      0.00      1.00      1.00      1.00       nan       nan\n",
      "skill[20,2]      0.98      0.14      1.00      1.00      1.00   3947.82      1.00\n",
      "skill[20,3]      1.00      0.00      1.00      1.00      1.00       nan       nan\n",
      "skill[20,4]      1.00      0.00      1.00      1.00      1.00       nan       nan\n",
      "skill[20,5]      1.00      0.00      1.00      1.00      1.00       nan       nan\n",
      "skill[20,6]      1.00      0.00      1.00      1.00      1.00       nan       nan\n",
      "skill[21,0]      1.00      0.00      1.00      1.00      1.00       nan       nan\n",
      "skill[21,1]      1.00      0.00      1.00      1.00      1.00       nan       nan\n",
      "skill[21,2]      0.59      0.49      1.00      0.00      1.00  25455.78      1.00\n",
      "skill[21,3]      1.00      0.02      1.00      1.00      1.00       nan      1.00\n",
      "skill[21,4]      0.99      0.08      1.00      1.00      1.00   4057.64      1.00\n",
      "skill[21,5]      1.00      0.00      1.00      1.00      1.00       nan       nan\n",
      "skill[21,6]      1.00      0.02      1.00      1.00      1.00       nan      1.00\n",
      "\n"
     ]
    }
   ],
   "source": [
    "nuts_kernel = NUTS(model_03)\n",
    "\n",
    "kernel = DiscreteHMCGibbs(nuts_kernel, modified=True)\n",
    "\n",
    "mcmc_03 = MCMC(kernel, num_warmup=200, num_samples=1000, num_chains=4)\n",
    "mcmc_03.run(\n",
    "    rng_key,\n",
    "    jnp.array(responses),\n",
    "    jnp.array(skills_key.astype(bool)),\n",
    "    extra_fields=(\n",
    "        \"z\",\n",
    "        \"hmc_state.potential_energy\",\n",
    "        \"hmc_state.z\",\n",
    "        \"rng_key\",\n",
    "        \"hmc_state.rng_key\",\n",
    "    ),\n",
    ")\n",
    "mcmc_03.print_summary()"
   ]
  },
  {
   "cell_type": "code",
   "execution_count": 10,
   "id": "737abf6f-d9ce-44f8-8786-205738b5995b",
   "metadata": {},
   "outputs": [
    {
     "data": {
      "image/png": "[encoded data removed]",
      "text/plain": [
       "<Figure size 864x144 with 2 Axes>"
      ]
     },
     "metadata": {
      "needs_background": "light"
     },
     "output_type": "display_data"
    }
   ],
   "source": [
    "ds = az.from_numpyro(mcmc_03)\n",
    "az.plot_trace(ds);"
   ]
  },
  {
   "cell_type": "markdown",
   "id": "2e943e4c-2b9a-4de0-8ede-9ce011d88052",
   "metadata": {},
   "source": [
    "### Explaining the bit operations\n",
    "\n",
    "* The bitwise `OR` and `~` may seem trivail to some or opaque to others. Reguardless, the operation is significant because it allows for efficient use of the `plate` primitive which speeds up the code.\n",
    "*  When following the MBML book you may recognize the author use of the `AND` factor when two skills are needed for a question, yet our model uses the `OR`, hopefully the example below will explain how and why this works\n",
    "* The credit for the approach goes all to @fehiepsi (from the Pyro forums), the example is only to convience myself and others why this works.\n",
    "* Below is the snippet of code, we will first consider a single participant and question with seven possible skills\n",
    "\n",
    "```python\n",
    "# skills_needed is boolean with shape num_questions x num_skills\n",
    "# skills.shape == (num_participants, num_skills)\n",
    "relevant_skills = skills[:, None, :].astype(bool) | (~skills_needed)\n",
    "```\n",
    "\n",
    "Consider the example:\n",
    "\n",
    "A participant, $p_i$ has skills $[0, 1, 0, 1, 1, 1, 1]$ \n",
    "\n",
    "A question, $q_j$ the required skills are $[0, 1, 0, 0, 0, 0, 1]$"
   ]
  },
  {
   "cell_type": "code",
   "execution_count": 11,
   "id": "f034fb70-dd50-4fb4-adcc-fe987d4ff846",
   "metadata": {},
   "outputs": [],
   "source": [
    "s = jnp.array([0, 1, 0, 1, 1, 1, 1])\n",
    "q = skills_key.values[7]"
   ]
  },
  {
   "cell_type": "markdown",
   "id": "974bb06f-46c9-4110-a9b1-b0dbea361146",
   "metadata": {},
   "source": [
    "1. `AND` operatoin:"
   ]
  },
  {
   "cell_type": "code",
   "execution_count": 12,
   "id": "ea0dd8fb-0188-44c8-a4bc-993d7031c4a4",
   "metadata": {},
   "outputs": [
    {
     "name": "stdout",
     "output_type": "stream",
     "text": [
      "s=[False  True False  True  True  True  True]\n",
      "q=[False  True False False False False  True]\n",
      "[0 1 0 0 0 0 1]\n",
      "all=False\n"
     ]
    }
   ],
   "source": [
    "print(f\"s={s.astype(bool)}\")\n",
    "print(f\"q={q}\")\n",
    "print(s & q)\n",
    "print(f\"all={jnp.all(s & q)}\")"
   ]
  },
  {
   "cell_type": "markdown",
   "id": "cec1c97a-d77d-42b3-b2ba-26a3a9ee4d53",
   "metadata": {},
   "source": [
    "* The `AND` operation does work to identify the match between the participant and the required skills, but thinking in terms of per skill, per participant hinders the ues of vectorizing over the questions with a `plate` primitive. \n",
    "* We want move from knowing if particular skills match between participant and question and simply indicate the if participant simply has the needed skills to answer the question"
   ]
  },
  {
   "cell_type": "markdown",
   "id": "5330ca18-a814-42cb-9bc8-e8674b17ee62",
   "metadata": {},
   "source": [
    "2. `OR` operatoin:"
   ]
  },
  {
   "cell_type": "code",
   "execution_count": 13,
   "id": "cc744ce6-be14-4f55-9e44-392bf89c3ad3",
   "metadata": {},
   "outputs": [
    {
     "name": "stdout",
     "output_type": "stream",
     "text": [
      "s=[False  True False  True  True  True  True]\n",
      "q=[False  True False False False False  True]\n",
      "[0 1 0 1 1 1 1]\n",
      "all=False\n"
     ]
    }
   ],
   "source": [
    "print(f\"s={s.astype(bool)}\")\n",
    "print(f\"q={q}\")\n",
    "print(s | q)\n",
    "print(f\"all={jnp.all(s | q)}\")"
   ]
  },
  {
   "cell_type": "markdown",
   "id": "20338155-5842-4582-a01e-33112ffb1c2a",
   "metadata": {},
   "source": [
    "* The `OR` operation alone doesn't work, since the resulting bit vector is indicating if either the participant or the skills needed are present (which alone is useless information)\n",
    "* In hindsight, we need to add another operatoin to achieve our goal, the give away is the use of `jnp.all`"
   ]
  },
  {
   "cell_type": "markdown",
   "id": "508b4ed1-8df9-4ff9-a50b-434171c2896a",
   "metadata": {},
   "source": [
    "3. `OR` operatoin with `~`:"
   ]
  },
  {
   "cell_type": "code",
   "execution_count": 14,
   "id": "7832401c-16b7-4469-bffc-0fb3b9a2b45b",
   "metadata": {},
   "outputs": [
    {
     "name": "stdout",
     "output_type": "stream",
     "text": [
      "s=[False  True False  True  True  True  True]\n",
      "q=[False  True False False False False  True]\n",
      "~q=[ True False  True  True  True  True False]\n",
      "[1 1 1 1 1 1 1]\n",
      "all=True\n"
     ]
    }
   ],
   "source": [
    "print(f\"s={s.astype(bool)}\")\n",
    "print(f\"q={q}\")\n",
    "print(f\"~q={~q}\")\n",
    "print(s | ~q)\n",
    "print(f\"all={jnp.all(s | ~q)}\")"
   ]
  },
  {
   "cell_type": "markdown",
   "id": "e538dc8f-7ba3-4e49-8c9a-bcc7af7fbcdb",
   "metadata": {},
   "source": [
    "* comparing between 2. and 3. the `~` gives us the desired effect where skills that match remain `True` and all other skills result in a `True` allowing for `jnp.all` to verify the participant has the nesscary skill for the question.\n",
    "* The final example shows the use of `OR` and `~` when participant doesn't have the nesscary skills to answer the question:"
   ]
  },
  {
   "cell_type": "code",
   "execution_count": 15,
   "id": "854a14ae-3580-47a3-9a69-b4f31b646d67",
   "metadata": {},
   "outputs": [
    {
     "name": "stdout",
     "output_type": "stream",
     "text": [
      "s=[False  True False  True  True  True  True]\n",
      "q=[ True False False False False False  True]\n",
      "~q=[False  True  True  True  True  True False]\n",
      "[0 1 1 1 1 1 1]\n",
      "all=False\n"
     ]
    }
   ],
   "source": [
    "print(f\"s={s.astype(bool)}\")\n",
    "print(f\"q={skills_key.values[6]}\")\n",
    "print(f\"~q={~skills_key.values[6]}\")\n",
    "print(s | ~skills_key.values[6])\n",
    "print(f\"all={jnp.all(s | ~skills_key.values[6])}\")"
   ]
  },
  {
   "cell_type": "markdown",
   "id": "c61dcfb4-17a5-409e-94ae-b84c0cbe7e12",
   "metadata": {},
   "source": [
    "### Broadcasting to utilize `plate`\n",
    "* The bitwise `OR` and `~` is only half the puzzle to utilize the `plate`, we still have to worry about how to vectorize the skills needed check under the question plate.\n",
    "* For the problem a key insight is the skills of an individual are not changing throught the test and therefore we can calculate the `has_skill` all at once\n",
    "* For convience, the relevant snippet is shown again:\n",
    "```python\n",
    "# skills_needed is boolean with shape num_questions x num_skills\n",
    "# skills.shape == (num_participants, num_skills)\n",
    "relevant_skills = skills[:, None, :].astype(bool) | (~skills_needed)\n",
    "# shape: people x questions\n",
    "has_skill = jnp.all(relevant_skills, -1)\n",
    "prob_correct = has_skill * (1 - prob_mistake) + (1 - has_skill) * prob_guess\n",
    "```"
   ]
  },
  {
   "cell_type": "markdown",
   "id": "471f00be-3cb2-4441-b14f-b2ff1654af67",
   "metadata": {},
   "source": [
    "* `logical_or` == `|` and is done elementwise, therefore looking over examples of broadcasting just imaging the `OR` operation\n",
    "* s[:, None, :] view it as 22 x (1,7) np.array then from there explain the broadcast ...\n",
    "* s[:, None, :] | (~skills_key.values)"
   ]
  },
  {
   "cell_type": "code",
   "execution_count": 16,
   "id": "0cc32ce9-72b4-410f-8125-3dbe04e6efdf",
   "metadata": {},
   "outputs": [
    {
     "data": {
      "text/plain": [
       "(22, 7)"
      ]
     },
     "execution_count": 16,
     "metadata": {},
     "output_type": "execute_result"
    }
   ],
   "source": [
    "# In our data there are: 22 people, 48 questions, and 7 skills\n",
    "s = dist.Bernoulli(0.5 * jnp.ones((22, 7))).sample(rng_key)\n",
    "s.shape"
   ]
  },
  {
   "cell_type": "code",
   "execution_count": null,
   "id": "84f0cdcc-4778-4799-80d3-dd32f3abb3af",
   "metadata": {},
   "outputs": [],
   "source": [
    "(s[:, None, :] | (~skills_key.values)).shape"
   ]
  },
  {
   "cell_type": "code",
   "execution_count": null,
   "id": "28a94c0d-dd6c-45f4-bbab-3298d28020c0",
   "metadata": {},
   "outputs": [],
   "source": [
    "r_s = s[:, None, :] | (~skills_key.values)"
   ]
  },
  {
   "cell_type": "code",
   "execution_count": null,
   "id": "ff53831c-c20c-4be3-a10b-3979b3902c8d",
   "metadata": {},
   "outputs": [],
   "source": [
    "s[:, None, :][19]"
   ]
  },
  {
   "cell_type": "code",
   "execution_count": null,
   "id": "0698566b-fffe-4cea-aa3f-b94977d95f28",
   "metadata": {},
   "outputs": [],
   "source": [
    "(~skills_key.values).shape"
   ]
  },
  {
   "cell_type": "code",
   "execution_count": null,
   "id": "98042612-fefc-42af-88ad-8710f1228ac2",
   "metadata": {},
   "outputs": [],
   "source": [
    "b = np.broadcast(s[:, None, :], (~skills_key.values))"
   ]
  },
  {
   "cell_type": "code",
   "execution_count": null,
   "id": "22bf9b25-e22d-4d8f-a947-d06069f5c39b",
   "metadata": {},
   "outputs": [],
   "source": [
    "len(list(b))"
   ]
  },
  {
   "cell_type": "code",
   "execution_count": null,
   "id": "b76a1d2a-a80d-4498-b16c-5b750a3796c7",
   "metadata": {},
   "outputs": [],
   "source": [
    "22 * 48 * 7"
   ]
  },
  {
   "cell_type": "code",
   "execution_count": null,
   "id": "e1337664-e609-4e8b-a3fe-968995dde724",
   "metadata": {},
   "outputs": [],
   "source": [
    "r_s = (s[:, None, :] | (~skills_key.values))\n",
    "r_s.shape"
   ]
  },
  {
   "cell_type": "code",
   "execution_count": null,
   "id": "5c4d456c-1d2d-4037-acb5-5971745ac088",
   "metadata": {},
   "outputs": [],
   "source": [
    "# (22,48)x7\n",
    "r_s[:,:,0].shape"
   ]
  },
  {
   "cell_type": "code",
   "execution_count": null,
   "id": "d6bf0692-21f6-47c5-819e-9fc0d5d65450",
   "metadata": {},
   "outputs": [],
   "source": [
    "# 22x(48,7)\n",
    "r_s[0].shape"
   ]
  },
  {
   "cell_type": "code",
   "execution_count": null,
   "id": "89ec7254-4d1d-4ea3-a847-176e5c0aa6b1",
   "metadata": {},
   "outputs": [],
   "source": [
    "# (22,7)x48\n",
    "r_s[:,0,:].shape"
   ]
  },
  {
   "cell_type": "code",
   "execution_count": null,
   "id": "568ee6fa-e381-4273-8667-ef9eb5a71b4a",
   "metadata": {},
   "outputs": [],
   "source": [
    "# (22, 48)\n",
    "jnp.all(r_s, 2)[0,0]"
   ]
  },
  {
   "cell_type": "code",
   "execution_count": null,
   "id": "66d76411-79b7-4e51-85cd-c516d9032905",
   "metadata": {},
   "outputs": [],
   "source": [
    "jnp.all(r_s, 2).shape"
   ]
  },
  {
   "cell_type": "code",
   "execution_count": null,
   "id": "f09c2642-00d0-4c29-9c60-82fa2379116b",
   "metadata": {},
   "outputs": [],
   "source": [
    "s[0,:]"
   ]
  },
  {
   "cell_type": "code",
   "execution_count": null,
   "id": "0fb5518c-8498-409c-b41b-347f4d1c4752",
   "metadata": {},
   "outputs": [],
   "source": [
    "(s[:, None, :].astype(bool) | ~skills_key.values)[0]"
   ]
  },
  {
   "cell_type": "code",
   "execution_count": null,
   "id": "d6e84e82-faaa-45ef-8223-f1ce45fcd1dc",
   "metadata": {},
   "outputs": [],
   "source": [
    "jnp.all(r_s)"
   ]
  },
  {
   "cell_type": "code",
   "execution_count": null,
   "id": "f45e59c7-f9ed-4ee6-906c-0de2459d895c",
   "metadata": {},
   "outputs": [],
   "source": [
    "h_s = jnp.all(r_s, -1)\n",
    "h_s.shape"
   ]
  },
  {
   "cell_type": "code",
   "execution_count": null,
   "id": "3582db4b-3c17-4393-89dc-286a4fcc6cff",
   "metadata": {},
   "outputs": [],
   "source": [
    "h_s[0]"
   ]
  },
  {
   "cell_type": "code",
   "execution_count": null,
   "id": "9e965c65-bcd5-4b03-bec7-c4a7d9e221f4",
   "metadata": {},
   "outputs": [],
   "source": [
    "p_c = h_s * (1 - 0.1) + (1 - h_s) * 0.2\n",
    "p_c.shape"
   ]
  },
  {
   "cell_type": "code",
   "execution_count": null,
   "id": "4e4e2c65-f364-4a77-a9fa-9cb07a30e7aa",
   "metadata": {},
   "outputs": [],
   "source": [
    "h_s[0][:8]"
   ]
  },
  {
   "cell_type": "code",
   "execution_count": null,
   "id": "0a2db686-ff27-4f49-95c4-82c274fd89a9",
   "metadata": {},
   "outputs": [],
   "source": [
    "p_c[0][:8]"
   ]
  },
  {
   "cell_type": "code",
   "execution_count": null,
   "id": "3007338f-478f-4551-82af-fd5328b0098d",
   "metadata": {},
   "outputs": [],
   "source": [
    "self_assessed.shape"
   ]
  },
  {
   "cell_type": "code",
   "execution_count": null,
   "id": "fe242e2d-d0db-4390-b297-a46276105052",
   "metadata": {},
   "outputs": [],
   "source": [
    "s = dist.Bernoulli(0.5 * jnp.ones((22, 7))).sample(rng_key)"
   ]
  },
  {
   "cell_type": "code",
   "execution_count": null,
   "id": "bff838e7-7e46-417b-8851-4236dd17ee22",
   "metadata": {},
   "outputs": [],
   "source": [
    "s.shape"
   ]
  },
  {
   "cell_type": "code",
   "execution_count": null,
   "id": "acaeed3b-05b0-473f-a7a9-7548e8453620",
   "metadata": {},
   "outputs": [],
   "source": [
    "s[0]"
   ]
  },
  {
   "cell_type": "code",
   "execution_count": null,
   "id": "a453a71b-cc73-4560-8d1f-004e7e92fc1a",
   "metadata": {},
   "outputs": [],
   "source": [
    "skills_key.values[25]"
   ]
  },
  {
   "cell_type": "code",
   "execution_count": null,
   "id": "50bd43fe-1234-4ea9-9f1d-65b0b4bd90e9",
   "metadata": {},
   "outputs": [],
   "source": [
    "s[0] & skills_key.values[25]"
   ]
  },
  {
   "cell_type": "code",
   "execution_count": null,
   "id": "d88fb756-5ffb-4b73-ad2a-4cb0c3f3e1e8",
   "metadata": {},
   "outputs": [],
   "source": [
    "n_ = 6\n",
    "print(\"bitwise ADND\")\n",
    "print(f\"s={s[0].astype(bool)}\")\n",
    "print(f\"q={skills_key.values[n_]}\")\n",
    "print(s[0] & skills_key.values[n_])\n",
    "print(f\"all={jnp.all(s[0] & skills_key.values[n_])}\")\n",
    "print(\"bitwise OR\")\n",
    "print(f\"s={s[0].astype(bool)}\")\n",
    "print(f\"q={skills_key.values[n_]}\")\n",
    "print(s[0] | (~skills_key.values[n_]))\n",
    "print(f\"all={jnp.all(s[0] | (~skills_key.values[n_]))}\")"
   ]
  },
  {
   "cell_type": "code",
   "execution_count": null,
   "id": "a8e95dab-e26c-4149-bb8d-7f1eecaf971b",
   "metadata": {},
   "outputs": [],
   "source": [
    "(s[0] | (~skills_key.values))[25]"
   ]
  },
  {
   "cell_type": "code",
   "execution_count": null,
   "id": "6aa33d4e-5e48-4513-87e8-8815a956fec1",
   "metadata": {},
   "outputs": [],
   "source": [
    "(s[:, None, :] | (~skills_key.values))[0]"
   ]
  },
  {
   "cell_type": "code",
   "execution_count": null,
   "id": "77097b49-4474-40a3-998c-837c39d088aa",
   "metadata": {},
   "outputs": [],
   "source": [
    "jnp.all(r_s, -1).shape"
   ]
  },
  {
   "cell_type": "code",
   "execution_count": null,
   "id": "b8d3f660-6247-4e69-b103-efe7e053f7df",
   "metadata": {},
   "outputs": [],
   "source": [
    "skills_key.astype(bool).sum(1).max()"
   ]
  },
  {
   "cell_type": "code",
   "execution_count": null,
   "id": "42254dbe-c862-4ab6-88b1-305d97fabcf1",
   "metadata": {},
   "outputs": [],
   "source": [
    "skills_key.shape"
   ]
  },
  {
   "cell_type": "code",
   "execution_count": null,
   "id": "a6260af1-00ab-44c5-ad40-f427cbb3b57d",
   "metadata": {},
   "outputs": [],
   "source": [
    "responses.shape"
   ]
  }
 ],
 "metadata": {
  "kernelspec": {
   "display_name": "Python [conda env:numpyro_play]",
   "language": "python",
   "name": "conda-env-numpyro_play-py"
  },
  "language_info": {
   "codemirror_mode": {
    "name": "ipython",
    "version": 3
   },
   "file_extension": ".py",
   "mimetype": "text/x-python",
   "name": "python",
   "nbconvert_exporter": "python",
   "pygments_lexer": "ipython3",
   "version": "3.8.11"
  }
 },
 "nbformat": 4,
 "nbformat_minor": 5
}
