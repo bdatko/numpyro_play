{
 "cells": [
  {
   "cell_type": "markdown",
   "id": "3b97f255-6423-40dd-b345-5dcacb8d1ba3",
   "metadata": {},
   "source": [
    "# Purpose\n",
    "## Building an Interaction between categorical predictors\n",
    "\n",
    "In McElreath Statistical rethinking 2nd edition [1], Richard discribes how to build interactions between continous and categorical predicatros as well as continous and continous predicators. How do we build a regression model with interactions between two categorical predicators? My first attempt was simply to build the regression using *two intercepts* where each categorical predicator would have their respected mean:\n",
    "\n",
    "$$ y_i \\sim Normal(\\mu_i, \\sigma)$$\n",
    "$$\\mu_i = \\alpha_{factor_A[i]} + \\alpha_{factor_B[i]}$$\n",
    "$$\\alpha_{factor_A[j]} \\sim  Normal(0, 10)\\quad \\text{for}\\: j = 1...J$$\n",
    "$$\\alpha_{factor_B[k]} \\sim  Normal(0, 10)\\quad \\text{for}\\: k = 1...K$$\n",
    "$$\\sigma \\sim Exponential(1)$$\n",
    "\n",
    "Above we are using a index variable for the categories which the approach is also discussed in the book, chapter 5. [1] A more experience practionar might already see the problem with this model definition, but until I built the model I didn't realize the error. I wasn't the only one to think the above model was a reasonable approach, see the post on the PyMC discourse forum titled [Modeling two varying intercepts](https://discourse.pymc.io/t/modeling-two-varying-intercepts/6107) for a spolier.\n",
    "\n",
    "To be clear, the model definition above is **wrong** to predict a continous variable with two categorical predicator but let's simulate a dataset to see why model definition is incorrect. Lets simulate data that we know doesn't have interactions just to isolate the issue.\n",
    "\n",
    "```python\n",
    "import jax.numpy as jnp\n",
    "from jax.numpy import DeviceArray\n",
    "\n",
    "import numpyro\n",
    "import numpyro.distributions as dist\n",
    "\n",
    "proba_ = 0.28\n",
    "cpt_ = jnp.array([[0.9, 0.1], [0.2, 0.8]])\n",
    "mean_ = jnp.array([15.,10.])\n",
    "\n",
    "def synthetic_00(proba: float, cpt: DeviceArray, mean: DeviceArray):\n",
    "    A = numpyro.sample(\"A\", dist.Bernoulli(proba))\n",
    "    M = numpyro.sample(\"M\", dist.Categorical(cpt[A]))\n",
    "    D = numpyro.sample(\"D\", dist.Normal(mean[A],1))\n",
    "```\n",
    "\n",
    "* model render \n",
    "\n",
    "The function above simulates a joint probability where A is a common cause of both D and M, and D and M are conditional independent given A. Before fitting we expect that if we regress D on just A we would see one category will have a mean of 15 and another with a mean of 10. \n",
    "\n",
    "* pairs plot\n",
    "\n",
    "We will fit the model using Numpyro. The incorrect model of predicting a continous outcome with two categorical predicators is shown below:\n",
    "\n",
    "```python\n",
    "def model_00(\n",
    "    factor_00: DeviceArray, factor_01: DeviceArray, y: Optional[DeviceArray] = None\n",
    "):\n",
    "    num_data = cat_00.shape[0]\n",
    "    num_factor_00 = len(set(factor_00))\n",
    "    num_factor_01 = len(set(factor_01))\n",
    "\n",
    "    sigma = numpyro.sample(\"sigma\", dist.Exponential(1))\n",
    "\n",
    "    with numpyro.plate(\"num_factor_00\", num_factor_00):\n",
    "        a_factor_00 = numpyro.sample(\"a_factor_00\", dist.Normal(0, 10))\n",
    "\n",
    "    with numpyro.plate(\"num_factor_01\", num_cat_01):\n",
    "        b_factor_01 = numpyro.sample(\"b_factor_01\", dist.Normal(0, 10))\n",
    "\n",
    "    with numpyro.plate(\"num_data\", num_data):\n",
    "        mu = numpyro.deterministic(\n",
    "            \"mu\", a_factor_00[factor_00] + b_factor_01[factor_01]\n",
    "        )\n",
    "        numpyro.sample(\"obs\", dist.Normal(mu, sigma), obs=y)\n",
    "```\n",
    "\n",
    "* mcmc.print_summary()\n",
    "* trace plot\n",
    "\n",
    "Looking at the trace plots we can see the model converges and don't see any obvious problems with the inference. The problem with this model is multicollinearity. With both means in the model there are infinite combinations of the two parameters that will result in equally good fits to the data such that the sums of the parameters recovers the response between D and A. We can verify the cause by inspecting the correlation of the posterior for the two parameters.\n",
    "\n",
    "* image of the posterior distribution of the parameters\n",
    "\n",
    "The plot above shows a significant correlation between the two parameters. Visually inspecting the correlation of the posterior for the parameters is always good practice for your model diagnostics, see [chapter 8 of Course Handouts for Bayesian Data Analysis Class for examples](https://bookdown.org/marklhc/notes_bookdown/model-diagnostics.html).\n",
    "\n",
    "## Wait... How do we build an interaction with a continous outcome and two categorical predicators?\n",
    "\n",
    "Again more traditionally trained in statistics might already recognize the pattern of our problem as a simple analysis of variance (ANOVA). Our next challenge is how to set up the model using our Bayesian approach. Typical statitical texts develope ANOVA by the decomposition of the variance for each factor through the ANOVA table, but there is an analogous way to setup ANOVA using regression. Aside, most statical test are just linear models, see the post by [Jonas Kristoffer Lindeløv titled Common statistical tests are linear models](https://lindeloev.github.io/tests-as-linear/#6_three_or_more_means). I find the simplest ANOVA model to implement without re-parameterizing the data into a design matrix is the cell means model:\n",
    "\n",
    "$$Y_{i,j,k} \\sim Normal(\\mu_{i,j}, \\sigma)$$\n",
    "$$\\mu_{i,j} \\sim Normal(0,10)$$\n",
    "$$\\sigma \\sim Exponential(1)$$\n",
    "$$i = 1,...,I\\: \\text{levels of factor}\\: I$$\n",
    "$$j = 1,...,J\\: \\text{levels of factor}\\: J$$\n",
    "$$k = 1,...,K\\: \\text{observations in cell}\\: (i,j)$$\n",
    "\n",
    "\n",
    "* Wanted to see how I can build a regression prediciting a continous/metric response using two predictors that are discrete/categorical/factors/nominal\n",
    "* The large motivation for the exercise is recover known interaction effects between the two predictors\n",
    "* McElreath [1] shows how to build interactions between continous and categorical, continous and continous, but doesn't show a categorical and categorical\n",
    "* Using the approach index variables for categorical predicators I tought the model will simply by the additoin of two seperate means\n",
    "* This approach is incorrest and was similar to [Modeling two varying intercepts](https://discourse.pymc.io/t/modeling-two-varying-intercepts/6107) which introduced multicollinearity\n",
    "\n",
    "\n",
    "* build a Bayesian Regression with continous output on two categorical predicators\n",
    "* key is to see if we model categorical predicators as index variables can we recover 2-way interactions\n",
    "\n",
    "* The data and examples are adopted from reference [2]\n",
    "* \n",
    "\n",
    "1. Ref: McElreath, R., 2018. Statistical rethinking: A Bayesian course with examples in R and Stan. Chapman and Hall/CRC.\n",
    "2. Ref: (2016). Understanding 2-way Interactions [Online]. University of Virginia Library Research Data Servi. Available at: [data.library.virginia.edu/understanding-2-way-interactions/](data.library.virginia.edu/understanding-2-way-interactions/) (Accessed: 7 October 2021)."
   ]
  },
  {
   "cell_type": "code",
   "execution_count": null,
   "id": "2ee7244a-1253-4ae7-8566-498d1dd6a831",
   "metadata": {},
   "outputs": [],
   "source": [
    "import jax\n",
    "import jax.numpy as jnp\n",
    "import numpy as np\n",
    "import arviz as az\n",
    "import numpyro\n",
    "import numpyro.distributions as dist\n",
    "from numpyro.infer.util import Predictive\n",
    "import pandas as pd\n",
    "from numpyro.infer import MCMC, NUTS\n",
    "import matplotlib.pyplot as plt"
   ]
  },
  {
   "cell_type": "code",
   "execution_count": null,
   "id": "b8bec4b3-5775-4827-8a23-d757d2fef0f7",
   "metadata": {},
   "outputs": [],
   "source": [
    "%matplotlib inline\n",
    "%reload_ext autoreload\n",
    "%autoreload 2\n",
    "%load_ext watermark"
   ]
  },
  {
   "cell_type": "code",
   "execution_count": null,
   "id": "a87a341a-ecc5-4b03-b8c2-a715e8a061c1",
   "metadata": {},
   "outputs": [],
   "source": [
    "%watermark -v -m -p arviz,jax,matplotlib,numpy,pandas,scipy,numpyro"
   ]
  },
  {
   "cell_type": "code",
   "execution_count": null,
   "id": "94a3cfa4-07f8-4a40-8713-4ed51348c0be",
   "metadata": {},
   "outputs": [],
   "source": [
    "%watermark -gb"
   ]
  },
  {
   "cell_type": "code",
   "execution_count": null,
   "id": "1bc1942c-81ac-4e67-840d-fbbb80c8aa02",
   "metadata": {},
   "outputs": [],
   "source": [
    "num_warmup = 500\n",
    "num_samples = 1000\n",
    "num_chains = 4"
   ]
  },
  {
   "cell_type": "code",
   "execution_count": null,
   "id": "ee79d868-0a37-445f-9d4b-2827320b7524",
   "metadata": {},
   "outputs": [],
   "source": [
    "np.repeat([\"male\", \"female\"], 20)"
   ]
  },
  {
   "cell_type": "code",
   "execution_count": null,
   "id": "2d025e3b-75d6-41fb-a180-130e82a6e1d8",
   "metadata": {},
   "outputs": [],
   "source": [
    "np.tile(np.repeat([\"yes\", \"no\"], 10), 2)"
   ]
  },
  {
   "cell_type": "code",
   "execution_count": null,
   "id": "189ee15d-1e44-4c53-8ab4-177635e439b0",
   "metadata": {},
   "outputs": [],
   "source": [
    "d_ = dist.Normal(loc=jnp.array([15, 10]))\n",
    "s_ = d_.sample(jax.random.PRNGKey(2), (10,))\n",
    "a_ = jnp.hstack([s_[:, 0], s_[:, 1]])\n",
    "\n",
    "d_ = dist.Normal(loc=jnp.array([10, 15]))\n",
    "s_ = d_.sample(jax.random.PRNGKey(3), (10,))\n",
    "b_ = jnp.hstack([s_[:, 0], s_[:, 1]])"
   ]
  },
  {
   "cell_type": "code",
   "execution_count": null,
   "id": "3aa2b0f6-dac5-4c91-91f4-811c0613b8e2",
   "metadata": {},
   "outputs": [],
   "source": [
    "np.hstack([a_, b_])"
   ]
  },
  {
   "cell_type": "code",
   "execution_count": null,
   "id": "dd556c1c-71a7-440f-a4c1-e10dabeb0f44",
   "metadata": {},
   "outputs": [],
   "source": [
    "dat = pd.DataFrame(\n",
    "    {\n",
    "        \"gender\": np.repeat([\"male\", \"female\"], 20),\n",
    "        \"trt\": np.tile(np.repeat([\"yes\", \"no\"], 10), 2),\n",
    "        \"resp\": np.hstack([a_, b_]),\n",
    "    }\n",
    ")\n",
    "\n",
    "dat[\"gender\"] = dat[\"gender\"].astype(\"category\")\n",
    "dat[\"trt\"] = dat[\"trt\"].astype(\"category\")\n",
    "\n",
    "dat.head()"
   ]
  },
  {
   "cell_type": "code",
   "execution_count": null,
   "id": "cba26f05-f0e8-4086-a7f3-60cea3b5daba",
   "metadata": {},
   "outputs": [],
   "source": [
    "dat.info()"
   ]
  },
  {
   "cell_type": "code",
   "execution_count": null,
   "id": "b48f794a-47af-4ace-ba9c-7ac227d66c8a",
   "metadata": {},
   "outputs": [],
   "source": [
    "dat.groupby(\"gender\").mean()"
   ]
  },
  {
   "cell_type": "code",
   "execution_count": null,
   "id": "580cd0eb-dfd3-47ca-b263-80ad1fe368a2",
   "metadata": {},
   "outputs": [],
   "source": [
    "dat.groupby(\"trt\").mean()"
   ]
  },
  {
   "cell_type": "code",
   "execution_count": null,
   "id": "904dfbf4-1b8d-43ed-b323-400a5f307e63",
   "metadata": {},
   "outputs": [],
   "source": [
    "dat.groupby([\"trt\", \"gender\"]).mean()"
   ]
  },
  {
   "cell_type": "code",
   "execution_count": null,
   "id": "3335e080-ceae-4ab6-941e-44caf3fb5158",
   "metadata": {},
   "outputs": [],
   "source": [
    "dat[\"resp_z_score\"] = (dat[\"resp\"] - dat[\"resp\"].mean())/ dat[\"resp\"].std()"
   ]
  },
  {
   "cell_type": "code",
   "execution_count": null,
   "id": "93c6f23e-c9cb-42a5-ae3b-194c732a4988",
   "metadata": {},
   "outputs": [],
   "source": [
    "dat.groupby([\"trt\", \"gender\"])[[\"resp\",\"resp_z_score\"]].mean()"
   ]
  },
  {
   "cell_type": "code",
   "execution_count": null,
   "id": "5a43fe0c-eba0-43e2-af7c-c97100edddc6",
   "metadata": {},
   "outputs": [],
   "source": [
    "dat[\"gender_id\"] = dat.gender.cat.codes\n",
    "dat[\"trt_id\"] = dat.trt.cat.codes"
   ]
  },
  {
   "cell_type": "code",
   "execution_count": null,
   "id": "d1e41e6c-8e4b-4bd4-a830-48df2f741c1a",
   "metadata": {},
   "outputs": [],
   "source": [
    "dat.info()"
   ]
  },
  {
   "cell_type": "code",
   "execution_count": null,
   "id": "09ed85a9-5d9e-44a4-aade-b8345e533fd3",
   "metadata": {},
   "outputs": [],
   "source": [
    "def model_00(cat_00, y=None):\n",
    "    num_data = cat_00.shape[0]\n",
    "    num_cat_00 = len(set(cat_00))\n",
    "\n",
    "    sigma = numpyro.sample(\"sigma\", dist.Exponential(1))\n",
    "\n",
    "    with numpyro.plate(\"num_cat_00\", num_cat_00):\n",
    "        a_cat_00 = numpyro.sample(\"a_cat_00\", dist.Normal(0, 1000))\n",
    "\n",
    "    with numpyro.plate(\"num_data\", num_data):\n",
    "        numpyro.sample(\"obs\", dist.Normal(a_cat_00[cat_00], sigma), obs=y)"
   ]
  },
  {
   "cell_type": "code",
   "execution_count": null,
   "id": "1ca008f8-778f-477c-bf67-e33a40868729",
   "metadata": {},
   "outputs": [],
   "source": [
    "kernel = NUTS(model_00)\n",
    "mcmc = MCMC(\n",
    "    kernel, num_warmup=num_warmup, num_samples=num_samples, num_chains=num_chains\n",
    ")\n",
    "mcmc.run(jax.random.PRNGKey(4), jnp.array(dat[\"gender_id\"]), jnp.array(dat[\"resp\"]))\n",
    "mcmc.print_summary()\n",
    "ds_ = az.from_numpyro(mcmc)\n",
    "az.plot_trace(ds_);"
   ]
  },
  {
   "cell_type": "code",
   "execution_count": null,
   "id": "a2d271ef-de1d-4038-8368-fee34d7eb4f4",
   "metadata": {},
   "outputs": [],
   "source": [
    "posterior_predictive = Predictive(model_00, mcmc.get_samples())(\n",
    "    jax.random.PRNGKey(10),\n",
    "    jnp.array(dat[\"gender_id\"]),\n",
    ")\n",
    "fig, ax = plt.subplots()\n",
    "ax.scatter(dat[\"resp\"], np.array(posterior_predictive[\"obs\"].mean(0)))"
   ]
  },
  {
   "cell_type": "code",
   "execution_count": null,
   "id": "4f9b7083-87aa-4718-ab8e-9ec786d8f7f6",
   "metadata": {},
   "outputs": [],
   "source": [
    "kernel = NUTS(model_00)\n",
    "mcmc = MCMC(\n",
    "    kernel, num_warmup=num_warmup, num_samples=num_samples, num_chains=num_chains\n",
    ")\n",
    "mcmc.run(jax.random.PRNGKey(4), jnp.array(dat[\"trt_id\"]), jnp.array(dat[\"resp\"]))\n",
    "mcmc.print_summary()\n",
    "ds_ = az.from_numpyro(mcmc)\n",
    "az.plot_trace(ds_);"
   ]
  },
  {
   "cell_type": "code",
   "execution_count": null,
   "id": "542c8706-0395-4c2a-8b39-c22527e182c8",
   "metadata": {},
   "outputs": [],
   "source": [
    "fig, ax = plt.subplots()\n",
    "ax.scatter(np.array(mcmc.get_samples()[\"a_cat_00\"][:,0]),np.array(mcmc.get_samples()[\"a_cat_00\"][:,1]))"
   ]
  },
  {
   "cell_type": "code",
   "execution_count": null,
   "id": "69aca332-4d38-4ce0-913d-73788d8aec8f",
   "metadata": {},
   "outputs": [],
   "source": [
    "def model_01(cat_00, cat_01, y=None):\n",
    "    num_data = cat_00.shape[0]\n",
    "    num_cat_00 = len(set(cat_00))\n",
    "    num_cat_01 = len(set(cat_01))\n",
    "\n",
    "    sigma = numpyro.sample(\"sigma\", dist.Exponential(1))\n",
    "\n",
    "    with numpyro.plate(\"num_cat_00\", num_cat_00):\n",
    "        a_cat_00 = numpyro.sample(\"a_cat_00\", dist.Normal(0, 0.5))\n",
    "\n",
    "    with numpyro.plate(\"num_cat_01\", num_cat_01):\n",
    "        b_cat_01 = numpyro.sample(\"b_cat_01\", dist.Normal(0, 0.5))\n",
    "\n",
    "    with numpyro.plate(\"num_data\", num_data):\n",
    "        mu = numpyro.deterministic(\"mu\", a_cat_00[cat_00] + b_cat_01[cat_00])\n",
    "        numpyro.sample(\"obs\", dist.Normal(mu, sigma), obs=y)"
   ]
  },
  {
   "cell_type": "code",
   "execution_count": null,
   "id": "0fddb1d3-6d66-4fa7-ae47-e1f659016358",
   "metadata": {},
   "outputs": [],
   "source": [
    "kernel = NUTS(model_01)\n",
    "mcmc = MCMC(\n",
    "    kernel, num_warmup=num_warmup, num_samples=num_samples, num_chains=num_chains\n",
    ")\n",
    "mcmc.run(\n",
    "    jax.random.PRNGKey(4),\n",
    "    jnp.array(dat[\"gender_id\"]),\n",
    "    jnp.array(dat[\"trt_id\"]),\n",
    "    jnp.array(dat[\"resp\"]),\n",
    ")\n",
    "mcmc.print_summary(exclude_deterministic=True)\n",
    "ds_ = az.from_numpyro(mcmc)\n",
    "az.plot_trace(ds_);"
   ]
  },
  {
   "cell_type": "code",
   "execution_count": null,
   "id": "94b34235-d5a1-4d87-8748-ad053e38a959",
   "metadata": {},
   "outputs": [],
   "source": [
    "kernel = NUTS(model_01)\n",
    "mcmc = MCMC(\n",
    "    kernel, num_warmup=num_warmup, num_samples=num_samples, num_chains=num_chains\n",
    ")\n",
    "mcmc.run(\n",
    "    jax.random.PRNGKey(4),\n",
    "    jnp.array(dat[\"gender_id\"]),\n",
    "    jnp.array(dat[\"trt_id\"]),\n",
    "    jnp.array(dat[\"resp\"]),\n",
    ")\n",
    "mcmc.print_summary(exclude_deterministic=True)\n",
    "ds_ = az.from_numpyro(mcmc)\n",
    "az.plot_trace(ds_);"
   ]
  },
  {
   "cell_type": "code",
   "execution_count": null,
   "id": "ea9613c7-5dd5-46de-8d49-924af73622e7",
   "metadata": {},
   "outputs": [],
   "source": [
    "fig, ax = plt.subplots()\n",
    "ax.scatter(np.array(mcmc.get_samples()[\"a_cat_00\"][:1000,0]), np.array(mcmc.get_samples()[\"a_cat_00\"][:1000,1]))"
   ]
  },
  {
   "cell_type": "code",
   "execution_count": null,
   "id": "60fbf876-451d-49a9-b8dd-43093412f808",
   "metadata": {},
   "outputs": [],
   "source": [
    "mcmc.get_samples()[\"a_cat_00\"][:,0]"
   ]
  },
  {
   "cell_type": "code",
   "execution_count": null,
   "id": "4b99cbdc-3e66-4a6c-a461-a71bf72a31a8",
   "metadata": {},
   "outputs": [],
   "source": [
    "posterior_predictive = Predictive(model_01, mcmc.get_samples())(\n",
    "    jax.random.PRNGKey(10),\n",
    "    jnp.array(dat[\"gender_id\"]),\n",
    "    jnp.array(dat[\"trt_id\"]),\n",
    ")"
   ]
  },
  {
   "cell_type": "code",
   "execution_count": null,
   "id": "b97c6cee-6f5f-4cac-ba50-725aefc106a2",
   "metadata": {},
   "outputs": [],
   "source": [
    "fig, ax = plt.subplots()\n",
    "ax.scatter(dat[\"resp_z_score\"], np.array(posterior_predictive[\"obs\"].mean(0)))"
   ]
  },
  {
   "cell_type": "code",
   "execution_count": null,
   "id": "ba4ff9c4-ee07-481a-bc9a-f7d653e35de2",
   "metadata": {},
   "outputs": [],
   "source": [
    "def model_02(cat_00, cat_01, y=None):\n",
    "    num_data = cat_00.shape[0]\n",
    "    num_cat_00 = len(set(cat_00))\n",
    "    num_cat_01 = len(set(cat_01))\n",
    "    num_interactions = num_cat_00 * num_cat_01\n",
    "\n",
    "    sigma = numpyro.sample(\"sigma\", dist.Exponential(1))\n",
    "    \n",
    "    grand_mean = numpyro.sample(\"grand_mean\", dist.Normal(0, 0.5))\n",
    "\n",
    "    with numpyro.plate(\"num_cat_00\", num_cat_00):\n",
    "        a_cat_00 = numpyro.sample(\"a_cat_00\", dist.Normal(0, 0.5))\n",
    "\n",
    "    with numpyro.plate(\"num_cat_01\", num_cat_01):\n",
    "        b_cat_01 = numpyro.sample(\"b_cat_01\", dist.Normal(0, 0.5))\n",
    "    \n",
    "\n",
    "    with numpyro.plate(\"num_data\", num_data):\n",
    "        mu = numpyro.deterministic(\"mu\", grand_mean+ a_cat_00[cat_00] + b_cat_01[cat_00] + a_cat_00[cat_00]*b_cat_01[cat_00])\n",
    "        numpyro.sample(\"obs\", dist.Normal(mu, sigma), obs=y)"
   ]
  },
  {
   "cell_type": "code",
   "execution_count": null,
   "id": "c5dda057-3d5a-416f-9832-be8e1af933c9",
   "metadata": {},
   "outputs": [],
   "source": [
    "kernel = NUTS(model_02)\n",
    "mcmc = MCMC(\n",
    "    kernel, num_warmup=num_warmup, num_samples=num_samples, num_chains=num_chains\n",
    ")\n",
    "mcmc.run(\n",
    "    jax.random.PRNGKey(4),\n",
    "    jnp.array(dat[\"gender_id\"]),\n",
    "    jnp.array(dat[\"trt_id\"]),\n",
    "    jnp.array(dat[\"resp\"]),\n",
    ")\n",
    "mcmc.print_summary(exclude_deterministic=True)\n",
    "ds_ = az.from_numpyro(mcmc)\n",
    "az.plot_trace(ds_);"
   ]
  },
  {
   "cell_type": "code",
   "execution_count": null,
   "id": "a516ef82-70ca-48e0-9990-5bfaa20f5f09",
   "metadata": {},
   "outputs": [],
   "source": [
    "posterior_predictive = Predictive(model_02, mcmc.get_samples())(\n",
    "    jax.random.PRNGKey(10),\n",
    "    jnp.array(dat[\"gender_id\"]),\n",
    "    jnp.array(dat[\"trt_id\"]),\n",
    ")\n",
    "fig, ax = plt.subplots()\n",
    "ax.scatter(dat[\"resp\"], np.array(posterior_predictive[\"obs\"].mean(0)))"
   ]
  },
  {
   "cell_type": "code",
   "execution_count": null,
   "id": "8c0673bb-4f5d-40e2-87ce-7caed7ac2e08",
   "metadata": {},
   "outputs": [],
   "source": [
    "def model_04(factor_00, factor_01, y=None):\n",
    "    num_data = factor_00.shape[0]\n",
    "    num_factor_00 = len(set(factor_00))\n",
    "    num_factor_01 = len(set(factor_01))\n",
    "\n",
    "    sigma = numpyro.sample(\"sigma\", dist.Exponential(1))\n",
    "    \n",
    "    with numpyro.plate(\"num_factor_01\", num_factor_01):\n",
    "        with numpyro.plate(\"num_factor_00\", num_factor_00):\n",
    "            cell_mean = numpyro.sample(\"cell_mean\", dist.Normal(0, 1000))\n",
    "    \n",
    "    with numpyro.plate(\"num_data\", num_data):\n",
    "        numpyro.sample(\"obs\", dist.Normal(cell_mean[factor_00, factor_01], sigma), obs=y)"
   ]
  },
  {
   "cell_type": "code",
   "execution_count": null,
   "id": "368d4a6a-4e55-4470-b758-808f4dab46d0",
   "metadata": {},
   "outputs": [],
   "source": [
    "kernel = NUTS(model_04)\n",
    "mcmc_D_A_M = MCMC(\n",
    "    kernel, num_warmup=num_warmup, num_samples=num_samples, num_chains=num_chains\n",
    ")\n",
    "mcmc_D_A_M.run(\n",
    "    jax.random.PRNGKey(4),\n",
    "    jnp.array(dat[\"gender_id\"]),\n",
    "    jnp.array(dat[\"trt_id\"]),\n",
    "    jnp.array(dat[\"resp\"]),\n",
    ")\n",
    "mcmc_D_A_M.print_summary(exclude_deterministic=True)\n",
    "ds_ = az.from_numpyro(mcmc_D_A_M)\n",
    "az.plot_trace(ds_);"
   ]
  },
  {
   "cell_type": "code",
   "execution_count": null,
   "id": "b1820592-acc8-4275-8f7d-baef0ca09156",
   "metadata": {},
   "outputs": [],
   "source": [
    "mcmc_D_A_M.get_samples()[\"cell_mean\"].shape"
   ]
  },
  {
   "cell_type": "code",
   "execution_count": null,
   "id": "0665aad6-eb97-479c-8d9e-ee8415483ddc",
   "metadata": {},
   "outputs": [],
   "source": [
    "mcmc_D_A_M.get_samples()[\"cell_mean\"].mean(0)"
   ]
  },
  {
   "cell_type": "code",
   "execution_count": null,
   "id": "cfdcdec6-3788-423c-aad8-1e0a0ab85087",
   "metadata": {},
   "outputs": [],
   "source": [
    "dat.groupby([\"trt\", \"gender\"])[\"resp\"].mean().values.reshape(2,2).mean(1)"
   ]
  },
  {
   "cell_type": "code",
   "execution_count": null,
   "id": "ab1f5cc3-b2f2-4bd0-93a3-c501928ddc7d",
   "metadata": {},
   "outputs": [],
   "source": [
    "mcmc_D_A_M.get_samples()[\"cell_mean\"].mean(0).sum(0)"
   ]
  },
  {
   "cell_type": "code",
   "execution_count": null,
   "id": "6015143b-6721-4e36-94f1-23593df5d1ba",
   "metadata": {},
   "outputs": [],
   "source": [
    "mcmc_D_A_M.get_samples()[\"cell_mean\"].mean(0).sum(1)"
   ]
  },
  {
   "cell_type": "markdown",
   "id": "86d0c0ce-3c4e-455a-adf8-d9168029514e",
   "metadata": {},
   "source": [
    "```python\n",
    "H0: all (μJK – μJ. – μ.K + μ) = 0\n",
    "```"
   ]
  },
  {
   "cell_type": "code",
   "execution_count": null,
   "id": "68121baf-a984-40f6-9880-55e850c3c18e",
   "metadata": {},
   "outputs": [],
   "source": [
    "mcmc_D_A_M.get_samples()[\"cell_mean\"].mean(0) - mcmc_D_A_M.get_samples()[\"cell_mean\"].mean(0).mean(0) - mcmc_D_A_M.get_samples()[\"cell_mean\"].mean(0).mean(1) - mcmc_D_A_M.get_samples()[\"cell_mean\"].mean(0).mean()"
   ]
  },
  {
   "cell_type": "markdown",
   "id": "e3255547-862c-4b2d-924a-5418e1c3d5b3",
   "metadata": {},
   "source": [
    "## Example from Purdue Stat 512"
   ]
  },
  {
   "cell_type": "code",
   "execution_count": null,
   "id": "6a898f4a-d9ca-4c68-81d1-a09896946bcb",
   "metadata": {},
   "outputs": [],
   "source": [
    "bread = pd.DataFrame(\n",
    "    {\n",
    "        \"sales\": [47, 43, 46, 40, 62, 68, 67, 71, 41, 39, 42, 46],\n",
    "        \"height\": [1, 1, 1, 1, 2, 2, 2, 2, 3, 3, 3, 3],\n",
    "        \"width\": [1, 1, 2, 2, 1, 1, 2, 2, 1, 1, 2, 2],\n",
    "    }\n",
    ")\n",
    "bread[\"height_id\"] = bread[\"height\"].astype(\"category\").cat.codes\n",
    "bread[\"width_id\"] = bread[\"width\"].astype(\"category\").cat.codes"
   ]
  },
  {
   "cell_type": "code",
   "execution_count": null,
   "id": "2f0c367a-6427-4bc6-bde6-bdb5e311e796",
   "metadata": {},
   "outputs": [],
   "source": [
    "kernel = NUTS(model_04)\n",
    "mcmc = MCMC(\n",
    "    kernel, num_warmup=num_warmup, num_samples=num_samples, num_chains=num_chains\n",
    ")\n",
    "mcmc.run(\n",
    "    jax.random.PRNGKey(4),\n",
    "    jnp.array(bread[\"height_id\"]),\n",
    "    jnp.array(bread[\"width_id\"]),\n",
    "    jnp.array(bread[\"sales\"]),\n",
    ")\n",
    "mcmc.print_summary(exclude_deterministic=True)\n",
    "ds_ = az.from_numpyro(mcmc)\n",
    "az.plot_trace(ds_);"
   ]
  },
  {
   "cell_type": "code",
   "execution_count": null,
   "id": "d49575cd-3088-4c98-a07f-249b31d33617",
   "metadata": {},
   "outputs": [],
   "source": [
    "mcmc.get_samples()[\"cell_mean\"].mean(0)"
   ]
  },
  {
   "cell_type": "code",
   "execution_count": null,
   "id": "c30f02a1-3585-48a8-8621-b727c72de3bc",
   "metadata": {},
   "outputs": [],
   "source": [
    "bread[\"sales\"].mean()"
   ]
  },
  {
   "cell_type": "code",
   "execution_count": null,
   "id": "16347da9-dded-48a8-b07f-5fe791a5b5c6",
   "metadata": {},
   "outputs": [],
   "source": [
    "mcmc.get_samples()[\"cell_mean\"].mean(0).mean()"
   ]
  },
  {
   "cell_type": "code",
   "execution_count": null,
   "id": "3663d2eb-984f-470d-95c4-026290e7b11c",
   "metadata": {},
   "outputs": [],
   "source": []
  },
  {
   "cell_type": "code",
   "execution_count": null,
   "id": "73df2fd6-6bfb-4e22-98b6-06bf6a440f4d",
   "metadata": {},
   "outputs": [],
   "source": [
    "mcmc.get_samples()[\"cell_mean\"].mean(0).mean(1) - mcmc.get_samples()[\"cell_mean\"].mean(0).mean()"
   ]
  },
  {
   "cell_type": "code",
   "execution_count": null,
   "id": "3f885104-4d04-4d8a-8375-08e591a21f53",
   "metadata": {},
   "outputs": [],
   "source": [
    "mcmc.get_samples()[\"cell_mean\"].mean(0).mean(0) - mcmc.get_samples()[\"cell_mean\"].mean(0).mean()"
   ]
  },
  {
   "cell_type": "code",
   "execution_count": null,
   "id": "0636efc0-9bba-4943-8115-b489d4a71d29",
   "metadata": {},
   "outputs": [],
   "source": [
    "mcmc.get_samples()[\"cell_mean\"].mean(0).mean(0)"
   ]
  },
  {
   "cell_type": "code",
   "execution_count": null,
   "id": "7df36582-57df-45ac-ad91-a36bdc25e44b",
   "metadata": {},
   "outputs": [],
   "source": [
    "from patsy import dmatrix"
   ]
  },
  {
   "cell_type": "code",
   "execution_count": null,
   "id": "1bcbbb41-20fb-4dd7-b4c3-608b1e0a79d0",
   "metadata": {},
   "outputs": [],
   "source": [
    "bread[\"height\"] = bread[\"height\"].astype(\"category\")\n",
    "bread[\"width\"] = bread[\"width\"].astype(\"category\")"
   ]
  },
  {
   "cell_type": "code",
   "execution_count": null,
   "id": "767ecfc1-a1c0-4e60-9c35-3f4c0e00de5d",
   "metadata": {},
   "outputs": [],
   "source": [
    "bread"
   ]
  },
  {
   "cell_type": "code",
   "execution_count": null,
   "id": "202e4832-dae8-40ed-9a4b-25fddf3e7774",
   "metadata": {},
   "outputs": [],
   "source": [
    "d = dmatrix(\"height*width\", bread)\n",
    "d"
   ]
  },
  {
   "cell_type": "code",
   "execution_count": null,
   "id": "6d902121-0dab-4489-a3d0-5cafb2599b99",
   "metadata": {},
   "outputs": [],
   "source": [
    "jnp.array(d)"
   ]
  },
  {
   "cell_type": "code",
   "execution_count": null,
   "id": "d2436e5b-1ef7-4e58-ac66-f030ea00e457",
   "metadata": {},
   "outputs": [],
   "source": [
    "def model_05(X, y=None):\n",
    "    \n",
    "    num_data = X.shape[0]\n",
    "    num_feature = X.shape[1]\n",
    "    \n",
    "    sigma = numpyro.sample(\"sigma\", dist.Exponential(1))\n",
    "    \n",
    "    with numpyro.plate(\"num_feature\", num_feature):\n",
    "        beta = numpyro.sample(\"beta\", dist.Normal(0, 1000))\n",
    "    \n",
    "    with numpyro.plate(\"num_data\", num_data):\n",
    "        mu = jnp.sum(beta * X, axis=-1)\n",
    "        numpyro.sample(\"obs\", dist.Normal(mu, sigma), obs=y)"
   ]
  },
  {
   "cell_type": "code",
   "execution_count": null,
   "id": "30a0da51-3908-45b2-9147-a3e85d27ccbc",
   "metadata": {},
   "outputs": [],
   "source": [
    "kernel = NUTS(model_05)\n",
    "mcmc = MCMC(\n",
    "    kernel, num_warmup=num_warmup, num_samples=num_samples, num_chains=num_chains\n",
    ")\n",
    "mcmc.run(\n",
    "    jax.random.PRNGKey(4),\n",
    "    jnp.array(d),\n",
    "    jnp.array(bread[\"sales\"]),\n",
    ")\n",
    "mcmc.print_summary(exclude_deterministic=True)\n",
    "ds_ = az.from_numpyro(mcmc)\n",
    "az.plot_trace(ds_);"
   ]
  },
  {
   "cell_type": "code",
   "execution_count": null,
   "id": "b8b8f443-810b-4e8b-8c3e-c30f8dd8e095",
   "metadata": {},
   "outputs": [],
   "source": []
  }
 ],
 "metadata": {
  "kernelspec": {
   "display_name": "Python [conda env:numpyro_play]",
   "language": "python",
   "name": "conda-env-numpyro_play-py"
  },
  "language_info": {
   "codemirror_mode": {
    "name": "ipython",
    "version": 3
   },
   "file_extension": ".py",
   "mimetype": "text/x-python",
   "name": "python",
   "nbconvert_exporter": "python",
   "pygments_lexer": "ipython3",
   "version": "3.8.11"
  }
 },
 "nbformat": 4,
 "nbformat_minor": 5
}
